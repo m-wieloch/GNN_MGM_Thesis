{
  "nbformat": 4,
  "nbformat_minor": 0,
  "metadata": {
    "colab": {
      "provenance": [],
      "collapsed_sections": [
        "-b1Lq2u9SCo4",
        "LuOtaZ-glyus",
        "ihm1yY6Y1gf3",
        "E5C6NKXWmALK",
        "PO7_exqt7nsK",
        "4Db5OKvoy54i",
        "iZkrP3_Oy7f-",
        "kUBlgojxGoZu",
        "ZF9lAEbpGlj8"
      ]
    },
    "kernelspec": {
      "name": "python3",
      "display_name": "Python 3"
    },
    "language_info": {
      "name": "python"
    }
  },
  "cells": [
    {
      "cell_type": "markdown",
      "source": [
        "# Eksperymenty na CORA: Prosty Autoenkoder, Porównanie propocji maskowania, Porównanie strategii maskowania, Porównanie z innymi metodami maskowania"
      ],
      "metadata": {
        "id": "QnmKR0xMuOZw"
      }
    },
    {
      "cell_type": "markdown",
      "source": [
        "# Przygotowanie"
      ],
      "metadata": {
        "id": "-b1Lq2u9SCo4"
      }
    },
    {
      "cell_type": "code",
      "source": [
        "!python --version"
      ],
      "metadata": {
        "id": "bWas7l9jNHM-",
        "outputId": "bf5bdd0e-2188-40ed-b165-bf8a99a55996",
        "colab": {
          "base_uri": "https://localhost:8080/"
        }
      },
      "execution_count": 10,
      "outputs": [
        {
          "output_type": "stream",
          "name": "stdout",
          "text": [
            "Python 3.10.12\n"
          ]
        }
      ]
    },
    {
      "cell_type": "code",
      "source": [
        "!pip install networkx"
      ],
      "metadata": {
        "colab": {
          "base_uri": "https://localhost:8080/"
        },
        "id": "KCydQMdtSGzU",
        "outputId": "a096f886-c5e9-4277-ca2f-6b2ce8cd3016"
      },
      "execution_count": 11,
      "outputs": [
        {
          "output_type": "stream",
          "name": "stdout",
          "text": [
            "Requirement already satisfied: networkx in /usr/local/lib/python3.10/dist-packages (3.3)\n"
          ]
        }
      ]
    },
    {
      "cell_type": "code",
      "source": [
        "!pip install torch"
      ],
      "metadata": {
        "colab": {
          "base_uri": "https://localhost:8080/"
        },
        "id": "aL2ZJ1dpdue5",
        "outputId": "642eb99b-51ec-4eaa-928b-d25b9780d09d"
      },
      "execution_count": 12,
      "outputs": [
        {
          "output_type": "stream",
          "name": "stdout",
          "text": [
            "Requirement already satisfied: torch in /usr/local/lib/python3.10/dist-packages (2.4.0+cu121)\n",
            "Requirement already satisfied: filelock in /usr/local/lib/python3.10/dist-packages (from torch) (3.15.4)\n",
            "Requirement already satisfied: typing-extensions>=4.8.0 in /usr/local/lib/python3.10/dist-packages (from torch) (4.12.2)\n",
            "Requirement already satisfied: sympy in /usr/local/lib/python3.10/dist-packages (from torch) (1.13.2)\n",
            "Requirement already satisfied: networkx in /usr/local/lib/python3.10/dist-packages (from torch) (3.3)\n",
            "Requirement already satisfied: jinja2 in /usr/local/lib/python3.10/dist-packages (from torch) (3.1.4)\n",
            "Requirement already satisfied: fsspec in /usr/local/lib/python3.10/dist-packages (from torch) (2024.6.1)\n",
            "Requirement already satisfied: MarkupSafe>=2.0 in /usr/local/lib/python3.10/dist-packages (from jinja2->torch) (2.1.5)\n",
            "Requirement already satisfied: mpmath<1.4,>=1.1.0 in /usr/local/lib/python3.10/dist-packages (from sympy->torch) (1.3.0)\n"
          ]
        }
      ]
    },
    {
      "cell_type": "code",
      "source": [
        "!pip install torch-geometric"
      ],
      "metadata": {
        "colab": {
          "base_uri": "https://localhost:8080/"
        },
        "id": "9JZu-MMKSIUP",
        "outputId": "7d593c36-f7da-4165-ef02-15f99505735f"
      },
      "execution_count": 13,
      "outputs": [
        {
          "output_type": "stream",
          "name": "stdout",
          "text": [
            "Requirement already satisfied: torch-geometric in /usr/local/lib/python3.10/dist-packages (2.5.3)\n",
            "Requirement already satisfied: tqdm in /usr/local/lib/python3.10/dist-packages (from torch-geometric) (4.66.5)\n",
            "Requirement already satisfied: numpy in /usr/local/lib/python3.10/dist-packages (from torch-geometric) (1.26.4)\n",
            "Requirement already satisfied: scipy in /usr/local/lib/python3.10/dist-packages (from torch-geometric) (1.13.1)\n",
            "Requirement already satisfied: fsspec in /usr/local/lib/python3.10/dist-packages (from torch-geometric) (2024.6.1)\n",
            "Requirement already satisfied: jinja2 in /usr/local/lib/python3.10/dist-packages (from torch-geometric) (3.1.4)\n",
            "Requirement already satisfied: aiohttp in /usr/local/lib/python3.10/dist-packages (from torch-geometric) (3.10.5)\n",
            "Requirement already satisfied: requests in /usr/local/lib/python3.10/dist-packages (from torch-geometric) (2.32.3)\n",
            "Requirement already satisfied: pyparsing in /usr/local/lib/python3.10/dist-packages (from torch-geometric) (3.1.4)\n",
            "Requirement already satisfied: scikit-learn in /usr/local/lib/python3.10/dist-packages (from torch-geometric) (1.3.2)\n",
            "Requirement already satisfied: psutil>=5.8.0 in /usr/local/lib/python3.10/dist-packages (from torch-geometric) (5.9.5)\n",
            "Requirement already satisfied: aiohappyeyeballs>=2.3.0 in /usr/local/lib/python3.10/dist-packages (from aiohttp->torch-geometric) (2.4.0)\n",
            "Requirement already satisfied: aiosignal>=1.1.2 in /usr/local/lib/python3.10/dist-packages (from aiohttp->torch-geometric) (1.3.1)\n",
            "Requirement already satisfied: attrs>=17.3.0 in /usr/local/lib/python3.10/dist-packages (from aiohttp->torch-geometric) (24.2.0)\n",
            "Requirement already satisfied: frozenlist>=1.1.1 in /usr/local/lib/python3.10/dist-packages (from aiohttp->torch-geometric) (1.4.1)\n",
            "Requirement already satisfied: multidict<7.0,>=4.5 in /usr/local/lib/python3.10/dist-packages (from aiohttp->torch-geometric) (6.0.5)\n",
            "Requirement already satisfied: yarl<2.0,>=1.0 in /usr/local/lib/python3.10/dist-packages (from aiohttp->torch-geometric) (1.9.4)\n",
            "Requirement already satisfied: async-timeout<5.0,>=4.0 in /usr/local/lib/python3.10/dist-packages (from aiohttp->torch-geometric) (4.0.3)\n",
            "Requirement already satisfied: MarkupSafe>=2.0 in /usr/local/lib/python3.10/dist-packages (from jinja2->torch-geometric) (2.1.5)\n",
            "Requirement already satisfied: charset-normalizer<4,>=2 in /usr/local/lib/python3.10/dist-packages (from requests->torch-geometric) (3.3.2)\n",
            "Requirement already satisfied: idna<4,>=2.5 in /usr/local/lib/python3.10/dist-packages (from requests->torch-geometric) (3.8)\n",
            "Requirement already satisfied: urllib3<3,>=1.21.1 in /usr/local/lib/python3.10/dist-packages (from requests->torch-geometric) (2.0.7)\n",
            "Requirement already satisfied: certifi>=2017.4.17 in /usr/local/lib/python3.10/dist-packages (from requests->torch-geometric) (2024.8.30)\n",
            "Requirement already satisfied: joblib>=1.1.1 in /usr/local/lib/python3.10/dist-packages (from scikit-learn->torch-geometric) (1.4.2)\n",
            "Requirement already satisfied: threadpoolctl>=2.0.0 in /usr/local/lib/python3.10/dist-packages (from scikit-learn->torch-geometric) (3.5.0)\n"
          ]
        }
      ]
    },
    {
      "cell_type": "code",
      "source": [
        "!pip install umap-learn"
      ],
      "metadata": {
        "colab": {
          "base_uri": "https://localhost:8080/"
        },
        "id": "UyWxxW3jSJLZ",
        "outputId": "e4879881-36e2-4909-c1c7-8e2da3274673"
      },
      "execution_count": 14,
      "outputs": [
        {
          "output_type": "stream",
          "name": "stdout",
          "text": [
            "Requirement already satisfied: umap-learn in /usr/local/lib/python3.10/dist-packages (0.5.6)\n",
            "Requirement already satisfied: numpy>=1.17 in /usr/local/lib/python3.10/dist-packages (from umap-learn) (1.26.4)\n",
            "Requirement already satisfied: scipy>=1.3.1 in /usr/local/lib/python3.10/dist-packages (from umap-learn) (1.13.1)\n",
            "Requirement already satisfied: scikit-learn>=0.22 in /usr/local/lib/python3.10/dist-packages (from umap-learn) (1.3.2)\n",
            "Requirement already satisfied: numba>=0.51.2 in /usr/local/lib/python3.10/dist-packages (from umap-learn) (0.60.0)\n",
            "Requirement already satisfied: pynndescent>=0.5 in /usr/local/lib/python3.10/dist-packages (from umap-learn) (0.5.13)\n",
            "Requirement already satisfied: tqdm in /usr/local/lib/python3.10/dist-packages (from umap-learn) (4.66.5)\n",
            "Requirement already satisfied: llvmlite<0.44,>=0.43.0dev0 in /usr/local/lib/python3.10/dist-packages (from numba>=0.51.2->umap-learn) (0.43.0)\n",
            "Requirement already satisfied: joblib>=0.11 in /usr/local/lib/python3.10/dist-packages (from pynndescent>=0.5->umap-learn) (1.4.2)\n",
            "Requirement already satisfied: threadpoolctl>=2.0.0 in /usr/local/lib/python3.10/dist-packages (from scikit-learn>=0.22->umap-learn) (3.5.0)\n"
          ]
        }
      ]
    },
    {
      "cell_type": "code",
      "source": [
        "!pip install scikit-learn"
      ],
      "metadata": {
        "colab": {
          "base_uri": "https://localhost:8080/"
        },
        "id": "1dZBuxRiSRlK",
        "outputId": "553086de-6d56-40bd-c6b4-29548f42d2ba"
      },
      "execution_count": 15,
      "outputs": [
        {
          "output_type": "stream",
          "name": "stdout",
          "text": [
            "Requirement already satisfied: scikit-learn in /usr/local/lib/python3.10/dist-packages (1.3.2)\n",
            "Requirement already satisfied: numpy<2.0,>=1.17.3 in /usr/local/lib/python3.10/dist-packages (from scikit-learn) (1.26.4)\n",
            "Requirement already satisfied: scipy>=1.5.0 in /usr/local/lib/python3.10/dist-packages (from scikit-learn) (1.13.1)\n",
            "Requirement already satisfied: joblib>=1.1.1 in /usr/local/lib/python3.10/dist-packages (from scikit-learn) (1.4.2)\n",
            "Requirement already satisfied: threadpoolctl>=2.0.0 in /usr/local/lib/python3.10/dist-packages (from scikit-learn) (3.5.0)\n"
          ]
        }
      ]
    },
    {
      "cell_type": "code",
      "source": [
        "!pip list"
      ],
      "metadata": {
        "colab": {
          "base_uri": "https://localhost:8080/"
        },
        "id": "mE-0nALFJWix",
        "outputId": "a640f421-5271-431b-9ba1-4e36e0c56229"
      },
      "execution_count": 16,
      "outputs": [
        {
          "output_type": "stream",
          "name": "stdout",
          "text": [
            "Package                          Version\n",
            "-------------------------------- ---------------------\n",
            "absl-py                          1.4.0\n",
            "accelerate                       0.33.0\n",
            "aiohappyeyeballs                 2.4.0\n",
            "aiohttp                          3.10.5\n",
            "aiosignal                        1.3.1\n",
            "alabaster                        0.7.16\n",
            "albucore                         0.0.14\n",
            "albumentations                   1.4.14\n",
            "altair                           4.2.2\n",
            "annotated-types                  0.7.0\n",
            "anyio                            3.7.1\n",
            "argon2-cffi                      23.1.0\n",
            "argon2-cffi-bindings             21.2.0\n",
            "array_record                     0.5.1\n",
            "arviz                            0.18.0\n",
            "asn1crypto                       1.5.1\n",
            "astropy                          6.1.3\n",
            "astropy-iers-data                0.2024.8.27.10.28.29\n",
            "astunparse                       1.6.3\n",
            "async-timeout                    4.0.3\n",
            "atpublic                         4.1.0\n",
            "attrs                            24.2.0\n",
            "audioread                        3.0.1\n",
            "autograd                         1.7.0\n",
            "babel                            2.16.0\n",
            "backcall                         0.2.0\n",
            "beautifulsoup4                   4.12.3\n",
            "bidict                           0.23.1\n",
            "bigframes                        1.15.0\n",
            "bigquery-magics                  0.2.0\n",
            "bleach                           6.1.0\n",
            "blinker                          1.4\n",
            "blis                             0.7.11\n",
            "blosc2                           2.0.0\n",
            "bokeh                            3.4.3\n",
            "bqplot                           0.12.43\n",
            "branca                           0.7.2\n",
            "build                            1.2.1\n",
            "CacheControl                     0.14.0\n",
            "cachetools                       5.5.0\n",
            "catalogue                        2.0.10\n",
            "certifi                          2024.8.30\n",
            "cffi                             1.17.0\n",
            "chardet                          5.2.0\n",
            "charset-normalizer               3.3.2\n",
            "chex                             0.1.86\n",
            "clarabel                         0.9.0\n",
            "click                            8.1.7\n",
            "click-plugins                    1.1.1\n",
            "cligj                            0.7.2\n",
            "cloudpathlib                     0.19.0\n",
            "cloudpickle                      2.2.1\n",
            "cmake                            3.30.2\n",
            "cmdstanpy                        1.2.4\n",
            "colorcet                         3.1.0\n",
            "colorlover                       0.3.0\n",
            "colour                           0.1.5\n",
            "community                        1.0.0b1\n",
            "confection                       0.1.5\n",
            "cons                             0.4.6\n",
            "contextlib2                      21.6.0\n",
            "contourpy                        1.3.0\n",
            "cryptography                     43.0.0\n",
            "cuda-python                      12.2.1\n",
            "cudf-cu12                        24.4.1\n",
            "cufflinks                        0.17.3\n",
            "cupy-cuda12x                     12.2.0\n",
            "cvxopt                           1.3.2\n",
            "cvxpy                            1.5.3\n",
            "cycler                           0.12.1\n",
            "cymem                            2.0.8\n",
            "Cython                           3.0.11\n",
            "dask                             2024.7.1\n",
            "datascience                      0.17.6\n",
            "db-dtypes                        1.3.0\n",
            "dbus-python                      1.2.18\n",
            "debugpy                          1.6.6\n",
            "decorator                        4.4.2\n",
            "defusedxml                       0.7.1\n",
            "distributed                      2024.7.1\n",
            "distro                           1.7.0\n",
            "dlib                             19.24.2\n",
            "dm-tree                          0.1.8\n",
            "docstring_parser                 0.16\n",
            "docutils                         0.18.1\n",
            "dopamine_rl                      4.0.9\n",
            "duckdb                           0.10.3\n",
            "earthengine-api                  0.1.418\n",
            "easydict                         1.13\n",
            "ecos                             2.0.14\n",
            "editdistance                     0.8.1\n",
            "eerepr                           0.0.4\n",
            "einops                           0.8.0\n",
            "en-core-web-sm                   3.7.1\n",
            "entrypoints                      0.4\n",
            "et-xmlfile                       1.1.0\n",
            "etils                            1.7.0\n",
            "etuples                          0.3.9\n",
            "eval_type_backport               0.2.0\n",
            "exceptiongroup                   1.2.2\n",
            "fastai                           2.7.17\n",
            "fastcore                         1.7.1\n",
            "fastdownload                     0.0.7\n",
            "fastjsonschema                   2.20.0\n",
            "fastprogress                     1.0.3\n",
            "fastrlock                        0.8.2\n",
            "filelock                         3.15.4\n",
            "fiona                            1.9.6\n",
            "firebase-admin                   6.5.0\n",
            "Flask                            2.2.5\n",
            "flatbuffers                      24.3.25\n",
            "flax                             0.8.4\n",
            "folium                           0.17.0\n",
            "fonttools                        4.53.1\n",
            "frozendict                       2.4.4\n",
            "frozenlist                       1.4.1\n",
            "fsspec                           2024.6.1\n",
            "future                           1.0.0\n",
            "gast                             0.6.0\n",
            "gcsfs                            2024.6.1\n",
            "GDAL                             3.6.4\n",
            "gdown                            5.1.0\n",
            "geemap                           0.34.0\n",
            "gensim                           4.3.3\n",
            "geocoder                         1.38.1\n",
            "geographiclib                    2.0\n",
            "geopandas                        0.14.4\n",
            "geopy                            2.4.1\n",
            "gin-config                       0.5.0\n",
            "glob2                            0.7\n",
            "google                           2.0.3\n",
            "google-ai-generativelanguage     0.6.6\n",
            "google-api-core                  2.19.2\n",
            "google-api-python-client         2.137.0\n",
            "google-auth                      2.27.0\n",
            "google-auth-httplib2             0.2.0\n",
            "google-auth-oauthlib             1.2.1\n",
            "google-cloud-aiplatform          1.64.0\n",
            "google-cloud-bigquery            3.25.0\n",
            "google-cloud-bigquery-connection 1.15.5\n",
            "google-cloud-bigquery-storage    2.25.0\n",
            "google-cloud-bigtable            2.26.0\n",
            "google-cloud-core                2.4.1\n",
            "google-cloud-datastore           2.19.0\n",
            "google-cloud-firestore           2.16.1\n",
            "google-cloud-functions           1.16.5\n",
            "google-cloud-iam                 2.15.2\n",
            "google-cloud-language            2.13.4\n",
            "google-cloud-pubsub              2.23.0\n",
            "google-cloud-resource-manager    1.12.5\n",
            "google-cloud-storage             2.8.0\n",
            "google-cloud-translate           3.15.5\n",
            "google-colab                     1.0.0\n",
            "google-crc32c                    1.5.0\n",
            "google-generativeai              0.7.2\n",
            "google-pasta                     0.2.0\n",
            "google-resumable-media           2.7.2\n",
            "googleapis-common-protos         1.65.0\n",
            "googledrivedownloader            0.4\n",
            "graphviz                         0.20.3\n",
            "greenlet                         3.0.3\n",
            "grpc-google-iam-v1               0.13.1\n",
            "grpcio                           1.64.1\n",
            "grpcio-status                    1.48.2\n",
            "gspread                          6.0.2\n",
            "gspread-dataframe                3.3.1\n",
            "gym                              0.25.2\n",
            "gym-notices                      0.0.8\n",
            "h5netcdf                         1.3.0\n",
            "h5py                             3.11.0\n",
            "holidays                         0.55\n",
            "holoviews                        1.18.3\n",
            "html5lib                         1.1\n",
            "httpimport                       1.3.1\n",
            "httplib2                         0.22.0\n",
            "huggingface-hub                  0.24.6\n",
            "humanize                         4.10.0\n",
            "hyperopt                         0.2.7\n",
            "ibis-framework                   8.0.0\n",
            "idna                             3.8\n",
            "imageio                          2.34.2\n",
            "imageio-ffmpeg                   0.5.1\n",
            "imagesize                        1.4.1\n",
            "imbalanced-learn                 0.12.3\n",
            "imgaug                           0.4.0\n",
            "immutabledict                    4.2.0\n",
            "importlib_metadata               8.4.0\n",
            "importlib_resources              6.4.4\n",
            "imutils                          0.5.4\n",
            "inflect                          7.3.1\n",
            "iniconfig                        2.0.0\n",
            "intel-cmplr-lib-ur               2024.2.1\n",
            "intel-openmp                     2024.2.1\n",
            "ipyevents                        2.0.2\n",
            "ipyfilechooser                   0.6.0\n",
            "ipykernel                        5.5.6\n",
            "ipyleaflet                       0.18.2\n",
            "ipyparallel                      8.8.0\n",
            "ipython                          7.34.0\n",
            "ipython-genutils                 0.2.0\n",
            "ipython-sql                      0.5.0\n",
            "ipytree                          0.2.2\n",
            "ipywidgets                       7.7.1\n",
            "itsdangerous                     2.2.0\n",
            "jax                              0.4.26\n",
            "jaxlib                           0.4.26+cuda12.cudnn89\n",
            "jeepney                          0.7.1\n",
            "jellyfish                        1.1.0\n",
            "jieba                            0.42.1\n",
            "Jinja2                           3.1.4\n",
            "joblib                           1.4.2\n",
            "jsonpickle                       3.2.2\n",
            "jsonschema                       4.23.0\n",
            "jsonschema-specifications        2023.12.1\n",
            "jupyter-client                   6.1.12\n",
            "jupyter-console                  6.1.0\n",
            "jupyter_core                     5.7.2\n",
            "jupyter-server                   1.24.0\n",
            "jupyterlab_pygments              0.3.0\n",
            "jupyterlab_widgets               3.0.13\n",
            "kaggle                           1.6.17\n",
            "kagglehub                        0.2.9\n",
            "keras                            3.4.1\n",
            "keyring                          23.5.0\n",
            "kiwisolver                       1.4.5\n",
            "langcodes                        3.4.0\n",
            "language_data                    1.2.0\n",
            "launchpadlib                     1.10.16\n",
            "lazr.restfulclient               0.14.4\n",
            "lazr.uri                         1.0.6\n",
            "lazy_loader                      0.4\n",
            "libclang                         18.1.1\n",
            "librosa                          0.10.2.post1\n",
            "lightgbm                         4.4.0\n",
            "linkify-it-py                    2.0.3\n",
            "llvmlite                         0.43.0\n",
            "locket                           1.0.0\n",
            "logical-unification              0.4.6\n",
            "lxml                             4.9.4\n",
            "malloy                           2024.1091\n",
            "marisa-trie                      1.2.0\n",
            "Markdown                         3.7\n",
            "markdown-it-py                   3.0.0\n",
            "MarkupSafe                       2.1.5\n",
            "matplotlib                       3.7.1\n",
            "matplotlib-inline                0.1.7\n",
            "matplotlib-venn                  0.11.10\n",
            "mdit-py-plugins                  0.4.1\n",
            "mdurl                            0.1.2\n",
            "miniKanren                       1.0.3\n",
            "missingno                        0.5.2\n",
            "mistune                          0.8.4\n",
            "mizani                           0.9.3\n",
            "mkl                              2024.2.1\n",
            "ml-dtypes                        0.4.0\n",
            "mlxtend                          0.23.1\n",
            "more-itertools                   10.3.0\n",
            "moviepy                          1.0.3\n",
            "mpmath                           1.3.0\n",
            "msgpack                          1.0.8\n",
            "multidict                        6.0.5\n",
            "multipledispatch                 1.0.0\n",
            "multitasking                     0.0.11\n",
            "murmurhash                       1.0.10\n",
            "music21                          9.1.0\n",
            "namex                            0.0.8\n",
            "natsort                          8.4.0\n",
            "nbclassic                        1.1.0\n",
            "nbclient                         0.10.0\n",
            "nbconvert                        6.5.4\n",
            "nbformat                         5.10.4\n",
            "nest-asyncio                     1.6.0\n",
            "networkx                         3.3\n",
            "nibabel                          5.0.1\n",
            "nltk                             3.8.1\n",
            "notebook                         6.5.5\n",
            "notebook_shim                    0.2.4\n",
            "numba                            0.60.0\n",
            "numexpr                          2.10.1\n",
            "numpy                            1.26.4\n",
            "nvidia-nccl-cu12                 2.22.3\n",
            "nvtx                             0.2.10\n",
            "oauth2client                     4.1.3\n",
            "oauthlib                         3.2.2\n",
            "opencv-contrib-python            4.10.0.84\n",
            "opencv-python                    4.10.0.84\n",
            "opencv-python-headless           4.10.0.84\n",
            "openpyxl                         3.1.5\n",
            "opt-einsum                       3.3.0\n",
            "optax                            0.2.2\n",
            "optree                           0.12.1\n",
            "orbax-checkpoint                 0.6.1\n",
            "osqp                             0.6.7.post0\n",
            "packaging                        24.1\n",
            "pandas                           2.1.4\n",
            "pandas-datareader                0.10.0\n",
            "pandas-gbq                       0.23.1\n",
            "pandas-stubs                     2.1.4.231227\n",
            "pandocfilters                    1.5.1\n",
            "panel                            1.4.5\n",
            "param                            2.1.1\n",
            "parso                            0.8.4\n",
            "parsy                            2.1\n",
            "partd                            1.4.2\n",
            "pathlib                          1.0.1\n",
            "patsy                            0.5.6\n",
            "peewee                           3.17.6\n",
            "pexpect                          4.9.0\n",
            "pickleshare                      0.7.5\n",
            "Pillow                           9.4.0\n",
            "pip                              24.1.2\n",
            "pip-tools                        7.4.1\n",
            "platformdirs                     4.2.2\n",
            "plotly                           5.15.0\n",
            "plotnine                         0.12.4\n",
            "pluggy                           1.5.0\n",
            "polars                           0.20.2\n",
            "pooch                            1.8.2\n",
            "portpicker                       1.5.2\n",
            "prefetch_generator               1.0.3\n",
            "preshed                          3.0.9\n",
            "prettytable                      3.11.0\n",
            "proglog                          0.1.10\n",
            "progressbar2                     4.2.0\n",
            "prometheus_client                0.20.0\n",
            "promise                          2.3\n",
            "prompt_toolkit                   3.0.47\n",
            "prophet                          1.1.5\n",
            "proto-plus                       1.24.0\n",
            "protobuf                         3.20.3\n",
            "psutil                           5.9.5\n",
            "psycopg2                         2.9.9\n",
            "ptyprocess                       0.7.0\n",
            "py-cpuinfo                       9.0.0\n",
            "py4j                             0.10.9.7\n",
            "pyarrow                          14.0.2\n",
            "pyarrow-hotfix                   0.6\n",
            "pyasn1                           0.6.0\n",
            "pyasn1_modules                   0.4.0\n",
            "pycocotools                      2.0.8\n",
            "pycparser                        2.22\n",
            "pydantic                         2.8.2\n",
            "pydantic_core                    2.20.1\n",
            "pydata-google-auth               1.8.2\n",
            "pydot                            1.4.2\n",
            "pydot-ng                         2.0.0\n",
            "pydotplus                        2.0.2\n",
            "PyDrive                          1.3.1\n",
            "PyDrive2                         1.6.3\n",
            "pyerfa                           2.0.1.4\n",
            "pygame                           2.6.0\n",
            "Pygments                         2.16.1\n",
            "PyGObject                        3.42.1\n",
            "PyJWT                            2.9.0\n",
            "pymc                             5.10.4\n",
            "pymystem3                        0.2.0\n",
            "pynndescent                      0.5.13\n",
            "pynvjitlink-cu12                 0.3.0\n",
            "PyOpenGL                         3.1.7\n",
            "pyOpenSSL                        24.2.1\n",
            "pyparsing                        3.1.4\n",
            "pyperclip                        1.9.0\n",
            "pyproj                           3.6.1\n",
            "pyproject_hooks                  1.1.0\n",
            "pyshp                            2.3.1\n",
            "PySocks                          1.7.1\n",
            "pytensor                         2.18.6\n",
            "pytest                           7.4.4\n",
            "python-apt                       2.4.0\n",
            "python-box                       7.2.0\n",
            "python-dateutil                  2.8.2\n",
            "python-louvain                   0.16\n",
            "python-slugify                   8.0.4\n",
            "python-utils                     3.8.2\n",
            "pytz                             2024.1\n",
            "pyviz_comms                      3.0.3\n",
            "PyYAML                           6.0.2\n",
            "pyzmq                            24.0.1\n",
            "qdldl                            0.1.7.post4\n",
            "ratelim                          0.1.6\n",
            "referencing                      0.35.1\n",
            "regex                            2024.5.15\n",
            "requests                         2.32.3\n",
            "requests-oauthlib                1.3.1\n",
            "requirements-parser              0.9.0\n",
            "rich                             13.8.0\n",
            "rmm-cu12                         24.4.0\n",
            "rpds-py                          0.20.0\n",
            "rpy2                             3.4.2\n",
            "rsa                              4.9\n",
            "safetensors                      0.4.4\n",
            "scikit-image                     0.23.2\n",
            "scikit-learn                     1.3.2\n",
            "scipy                            1.13.1\n",
            "scooby                           0.10.0\n",
            "scs                              3.2.7\n",
            "seaborn                          0.13.1\n",
            "SecretStorage                    3.3.1\n",
            "Send2Trash                       1.8.3\n",
            "sentencepiece                    0.1.99\n",
            "setuptools                       71.0.4\n",
            "shapely                          2.0.6\n",
            "shellingham                      1.5.4\n",
            "simple_parsing                   0.1.5\n",
            "six                              1.16.0\n",
            "sklearn-pandas                   2.2.0\n",
            "smart-open                       7.0.4\n",
            "sniffio                          1.3.1\n",
            "snowballstemmer                  2.2.0\n",
            "snowflake-connector-python       3.12.1\n",
            "sortedcontainers                 2.4.0\n",
            "soundfile                        0.12.1\n",
            "soupsieve                        2.6\n",
            "soxr                             0.5.0\n",
            "spacy                            3.7.6\n",
            "spacy-legacy                     3.0.12\n",
            "spacy-loggers                    1.0.5\n",
            "Sphinx                           5.0.2\n",
            "sphinxcontrib-applehelp          2.0.0\n",
            "sphinxcontrib-devhelp            2.0.0\n",
            "sphinxcontrib-htmlhelp           2.1.0\n",
            "sphinxcontrib-jsmath             1.0.1\n",
            "sphinxcontrib-qthelp             2.0.0\n",
            "sphinxcontrib-serializinghtml    2.0.0\n",
            "SQLAlchemy                       2.0.32\n",
            "sqlglot                          20.11.0\n",
            "sqlparse                         0.5.1\n",
            "srsly                            2.4.8\n",
            "stanio                           0.5.1\n",
            "statsmodels                      0.14.2\n",
            "StrEnum                          0.4.15\n",
            "sympy                            1.13.2\n",
            "tables                           3.8.0\n",
            "tabulate                         0.9.0\n",
            "tbb                              2021.13.1\n",
            "tblib                            3.0.0\n",
            "tenacity                         9.0.0\n",
            "tensorboard                      2.17.0\n",
            "tensorboard-data-server          0.7.2\n",
            "tensorflow                       2.17.0\n",
            "tensorflow-datasets              4.9.6\n",
            "tensorflow-hub                   0.16.1\n",
            "tensorflow-io-gcs-filesystem     0.37.1\n",
            "tensorflow-metadata              1.15.0\n",
            "tensorflow-probability           0.24.0\n",
            "tensorstore                      0.1.64\n",
            "termcolor                        2.4.0\n",
            "terminado                        0.18.1\n",
            "text-unidecode                   1.3\n",
            "textblob                         0.17.1\n",
            "tf_keras                         2.17.0\n",
            "tf-slim                          1.1.0\n",
            "thinc                            8.2.5\n",
            "threadpoolctl                    3.5.0\n",
            "tifffile                         2024.8.28\n",
            "tinycss2                         1.3.0\n",
            "tokenizers                       0.19.1\n",
            "toml                             0.10.2\n",
            "tomli                            2.0.1\n",
            "tomlkit                          0.13.2\n",
            "toolz                            0.12.1\n",
            "torch                            2.4.0+cu121\n",
            "torch_geometric                  2.5.3\n",
            "torchaudio                       2.4.0+cu121\n",
            "torchsummary                     1.5.1\n",
            "torchvision                      0.19.0+cu121\n",
            "tornado                          6.3.3\n",
            "tqdm                             4.66.5\n",
            "traitlets                        5.7.1\n",
            "traittypes                       0.2.1\n",
            "transformers                     4.44.2\n",
            "tweepy                           4.14.0\n",
            "typeguard                        4.3.0\n",
            "typer                            0.12.5\n",
            "types-pytz                       2024.1.0.20240417\n",
            "types-setuptools                 74.0.0.20240831\n",
            "typing_extensions                4.12.2\n",
            "tzdata                           2024.1\n",
            "tzlocal                          5.2\n",
            "uc-micro-py                      1.0.3\n",
            "umap-learn                       0.5.6\n",
            "uritemplate                      4.1.1\n",
            "urllib3                          2.0.7\n",
            "vega-datasets                    0.9.0\n",
            "wadllib                          1.3.6\n",
            "wasabi                           1.1.3\n",
            "wcwidth                          0.2.13\n",
            "weasel                           0.4.1\n",
            "webcolors                        24.8.0\n",
            "webencodings                     0.5.1\n",
            "websocket-client                 1.8.0\n",
            "Werkzeug                         3.0.4\n",
            "wheel                            0.44.0\n",
            "widgetsnbextension               3.6.8\n",
            "wordcloud                        1.9.3\n",
            "wrapt                            1.16.0\n",
            "xarray                           2024.6.0\n",
            "xarray-einstats                  0.7.0\n",
            "xgboost                          2.1.1\n",
            "xlrd                             2.0.1\n",
            "xyzservices                      2024.6.0\n",
            "yarl                             1.9.4\n",
            "yellowbrick                      1.5\n",
            "yfinance                         0.2.43\n",
            "zict                             3.0.0\n",
            "zipp                             3.20.1\n"
          ]
        }
      ]
    },
    {
      "cell_type": "markdown",
      "source": [
        "# Graf losowy syntetyczny - MaskGAE 2GCNConv"
      ],
      "metadata": {
        "id": "c7rQJNfniQfa"
      }
    },
    {
      "cell_type": "markdown",
      "source": [
        "## Przewidywanie połaczeń"
      ],
      "metadata": {
        "id": "LuOtaZ-glyus"
      }
    },
    {
      "cell_type": "code",
      "source": [
        "import torch\n",
        "import networkx as nx\n",
        "from torch_geometric.datasets import Planetoid\n",
        "from torch_geometric.data import Data\n",
        "import torch.nn.functional as F\n",
        "import torch.nn as nn\n",
        "from torch_geometric.nn import GCNConv\n",
        "from torch.optim import Adam\n",
        "from collections import defaultdict\n",
        "import matplotlib.pyplot as plt\n",
        "import random\n",
        "import numpy as np\n",
        "from sklearn.metrics import f1_score, accuracy_score, precision_score, recall_score, roc_auc_score, average_precision_score, roc_curve\n",
        "from tqdm import tqdm\n",
        "\n",
        "CUSTOM_EPOCHS = 60\n",
        "\n",
        "# Sprawdzenie dostępności CUDA\n",
        "device = torch.device('cuda' if torch.cuda.is_available() else 'cpu')\n",
        "print(device)\n",
        "\n",
        "# Wczytanie zestawu danych Cora\n",
        "dataset = Planetoid(root='/tmp/Cora', name='Cora')\n",
        "data = dataset[0].to(device)\n",
        "\n",
        "# Podział na zbiór treningowy i testowy\n",
        "def split_edges(data, test_ratio=0.2):\n",
        "    edge_index = data.edge_index.to(device)\n",
        "    num_edges = edge_index.size(1)\n",
        "\n",
        "    # Wygenerowanie losowego permutacji indeksów\n",
        "    perm = torch.randperm(num_edges).to(device)\n",
        "    test_size = int(num_edges * test_ratio)\n",
        "\n",
        "    # Podział indeksów na zbiór testowy i treningowy\n",
        "    test_edge_index = edge_index[:, perm[:test_size]]\n",
        "    train_edge_index = edge_index[:, perm[test_size:]]\n",
        "\n",
        "    # Utworzenie dwóch obiektów Data: jeden dla treningu, drugi dla testowania\n",
        "    train_data = Data(x=data.x, edge_index=train_edge_index).to(device)\n",
        "    test_data = Data(x=data.x, edge_index=test_edge_index).to(device)\n",
        "\n",
        "    return train_data, test_data\n",
        "\n",
        "train_data, test_data = split_edges(data, test_ratio=0.2)\n",
        "\n",
        "# Implementacja Autoenkodera Grafowego MaskGAE\n",
        "class MaskGAE(torch.nn.Module):\n",
        "    def __init__(self, in_channels, out_channels):\n",
        "        super(MaskGAE, self).__init__()\n",
        "        self.conv1 = GCNConv(in_channels, 2 * out_channels)\n",
        "        self.conv2 = GCNConv(2 * out_channels, out_channels)\n",
        "        self.decoder = GCNConv(out_channels, in_channels)\n",
        "\n",
        "    def encode(self, x, edge_index):\n",
        "        x = F.relu(self.conv1(x, edge_index))\n",
        "        return self.conv2(x, edge_index)\n",
        "\n",
        "    def decode(self, z, edge_index):\n",
        "        return self.decoder(z, edge_index)\n",
        "\n",
        "    def forward(self, x, edge_index):\n",
        "        z = self.encode(x, edge_index)\n",
        "        return self.decode(z, edge_index)\n",
        "\n",
        "# Maskowanie krawędzi\n",
        "def mask_edges(data, mask_ratio):\n",
        "    edge_index = data.edge_index.t().tolist()\n",
        "    num_edges = len(edge_index)\n",
        "    num_mask = int(num_edges * mask_ratio)\n",
        "\n",
        "    mask_indices = random.sample(range(num_edges), num_mask)\n",
        "    mask_indices = torch.tensor(mask_indices, dtype=torch.long).to(device)\n",
        "\n",
        "    masked_edges = [edge for i, edge in enumerate(edge_index) if i not in mask_indices]\n",
        "    masked_edge_index = torch.tensor(masked_edges, dtype=torch.long).t().contiguous().to(device)\n",
        "\n",
        "    data.edge_index = masked_edge_index\n",
        "    return data\n",
        "\n",
        "# Nowa strategia: maskowanie sąsiedztwa (neighborhood)\n",
        "def mask_neighborhood(data, mask_ratio):\n",
        "    edge_index = data.edge_index.cpu().numpy()\n",
        "    num_nodes = data.num_nodes\n",
        "    num_mask = int(num_nodes * mask_ratio)\n",
        "    masked_edges = edge_index.T.tolist()\n",
        "\n",
        "    for _ in range(num_mask):\n",
        "        node = random.randint(0, num_nodes - 1)\n",
        "        edges_to_remove = [edge for edge in masked_edges if edge[0] == node or edge[1] == node]\n",
        "        for edge in edges_to_remove:\n",
        "            if edge in masked_edges:\n",
        "                masked_edges.remove(edge)\n",
        "\n",
        "    masked_edge_index = torch.tensor(masked_edges, dtype=torch.long).t().contiguous().to(device)\n",
        "    data.edge_index = masked_edge_index\n",
        "    return data\n",
        "\n",
        "# Nowa strategia: maskowanie atrybutów (attributes)\n",
        "def mask_attributes(data, mask_ratio):\n",
        "    num_nodes = data.num_nodes\n",
        "    num_mask = int(num_nodes * mask_ratio)\n",
        "    mask_indices = random.sample(range(num_nodes), num_mask)\n",
        "    mask_indices = torch.tensor(mask_indices, dtype=torch.long).to(device)\n",
        "\n",
        "    data.x[mask_indices] = 0  # Zerowanie atrybutów wybranych węzłów\n",
        "    return data\n",
        "\n",
        "# Zaktualizowana funkcja trenowania z nowymi strategiami maskowania\n",
        "def train_and_evaluate(in_channels, out_channels, train_data, mask_ratios, epochs=100, mask_strategy='mask_edges'):\n",
        "    results = defaultdict(dict)\n",
        "    models = {}\n",
        "    criterion = torch.nn.MSELoss()\n",
        "\n",
        "    for ratio in mask_ratios:\n",
        "        print(f'Training with mask ratio: {ratio} using {mask_strategy} strategy')\n",
        "\n",
        "        model = MaskGAE(in_channels=in_channels, out_channels=out_channels).to(device)\n",
        "        optimizer = Adam(model.parameters(), lr=0.01)\n",
        "\n",
        "        losses = []\n",
        "\n",
        "        for epoch in tqdm(range(epochs), desc=f'Training for {mask_strategy}, mask ratio {ratio}'):\n",
        "            model.train()\n",
        "            optimizer.zero_grad()\n",
        "\n",
        "            # Wybór odpowiedniej strategii maskowania\n",
        "            if mask_strategy == 'mask_edges':\n",
        "                masked_train_data = mask_edges(train_data.clone(), ratio) if ratio > 0 else train_data\n",
        "            elif mask_strategy == 'mask_neighborhood':\n",
        "                masked_train_data = mask_neighborhood(train_data.clone(), ratio) if ratio > 0 else train_data\n",
        "            elif mask_strategy == 'mask_attributes':\n",
        "                masked_train_data = mask_attributes(train_data.clone(), ratio) if ratio > 0 else train_data\n",
        "\n",
        "            out = model(masked_train_data.x, masked_train_data.edge_index)\n",
        "            loss = criterion(out, train_data.x)\n",
        "            loss.backward()\n",
        "            optimizer.step()\n",
        "\n",
        "            losses.append(loss.item())\n",
        "            tqdm.write(f'Epoch {epoch+1}/{epochs}, Loss: {loss.item()}')\n",
        "\n",
        "        results[ratio] = losses\n",
        "        models[(mask_strategy, ratio)] = model\n",
        "\n",
        "    return results, models\n",
        "\n",
        "# Funkcja do oceny modelu na zbiorze testowym\n",
        "def evaluate_on_test(model, test_data):\n",
        "    model.eval()\n",
        "    with torch.no_grad():\n",
        "        z = model.encode(test_data.x, test_data.edge_index)\n",
        "        out = model.decode(z, test_data.edge_index)\n",
        "        loss = calculate_prediction_error(out, test_data)\n",
        "        print(f'Test Loss: {loss}')\n",
        "        return loss\n",
        "\n",
        "def calculate_prediction_error(pred, data):\n",
        "    return torch.nn.functional.mse_loss(pred, data.x).item()\n",
        "\n",
        "# Zaktualizowane funkcje wizualizacyjne\n",
        "def plot_results(results):\n",
        "    plt.figure(figsize=(15, 10))\n",
        "    mask_strategies = results.keys()\n",
        "\n",
        "    for i, mask_strategy in enumerate(mask_strategies):\n",
        "        plt.subplot(2, 2, i + 1)\n",
        "        strategy_results = results[mask_strategy]  # Get the dictionary for the strategy directly\n",
        "        for ratio, losses in strategy_results.items():\n",
        "            if isinstance(losses, list):  # Ensure losses is a list\n",
        "                if ratio == 0.0:\n",
        "                    plt.plot(losses, label=f'Without masking')\n",
        "                else:\n",
        "                    plt.plot(losses, label=f'Mask ratio {ratio}')\n",
        "        plt.xlabel('Epoch')\n",
        "        plt.ylabel('MSE Loss')\n",
        "        plt.title(f'MaskGAE 2GCN: {mask_strategy.capitalize()} Strategy: Effect of Masking Ratio on MSE Loss')\n",
        "        plt.legend()\n",
        "        plt.grid(True)\n",
        "\n",
        "    plt.tight_layout()\n",
        "    plt.show()\n",
        "\n",
        "def final_loss_comparison(results):\n",
        "    mask_strategies = results.keys()\n",
        "\n",
        "    for mask_strategy in mask_strategies:\n",
        "        final_losses = {ratio: losses[-1] for ratio, losses in results[mask_strategy].items()}\n",
        "        ratios = list(final_losses.keys())\n",
        "        losses = list(final_losses.values())\n",
        "\n",
        "        plt.figure(figsize=(10, 6))\n",
        "        plt.bar(ratios, losses, color='skyblue')\n",
        "        plt.xlabel('Mask Ratio')\n",
        "        plt.ylabel('Final MSE Loss')\n",
        "        plt.title(f'MaskGAE 2GCN: {mask_strategy.capitalize()} Strategy: Final MSE Loss for Different Masking Ratios')\n",
        "        plt.grid(True)\n",
        "        plt.show()\n",
        "\n",
        "# Funkcja predykcji na nieoznaczonych danych\n",
        "def predict(model, data):\n",
        "    model.eval()\n",
        "    with torch.no_grad():\n",
        "        z = model.encode(data.x, data.edge_index)\n",
        "        out = model.decode(z, data.edge_index)\n",
        "        return out, z\n",
        "\n",
        "# Nowa funkcja do obliczania miar\n",
        "def calculate_metrics(pred, true):\n",
        "    # Move tensors to CPU and convert to numpy\n",
        "    true = true.cpu().numpy().flatten()\n",
        "    pred = pred.cpu().numpy().flatten()\n",
        "\n",
        "    # Compute ROC curve and optimal threshold\n",
        "    fpr, tpr, thresholds = roc_curve(true, pred)\n",
        "    optimal_idx = np.argmax(tpr - fpr)\n",
        "    optimal_threshold = thresholds[optimal_idx]\n",
        "\n",
        "    # Use optimal threshold to generate binary predictions\n",
        "    pred_binary = (pred > optimal_threshold).astype(float)\n",
        "    true_binary = (true > 0.5).astype(float)\n",
        "\n",
        "    # print(f'true_binary = {true_binary}\\n')\n",
        "    # print(f'pred = {pred}\\n')\n",
        "\n",
        "    # Calculate various metrics\n",
        "    mse = F.mse_loss(torch.tensor(pred), torch.tensor(true)).item()\n",
        "    f1 = f1_score(true_binary, pred_binary, average='macro')\n",
        "    accuracy = accuracy_score(true_binary, pred_binary)\n",
        "    precision = precision_score(true_binary, pred_binary, average='macro')\n",
        "    recall = recall_score(true_binary, pred_binary, average='macro')\n",
        "    roc_auc = roc_auc_score(true_binary, pred, average='macro')\n",
        "    avg_precision = average_precision_score(true_binary, pred, average='macro')\n",
        "\n",
        "    return {\n",
        "        'MSE': mse,\n",
        "        'F1 Score': f1,\n",
        "        'Accuracy': accuracy,\n",
        "        'Precision': precision,\n",
        "        'Recall': recall,\n",
        "        'ROC AUC': roc_auc,\n",
        "        'Average Precision': avg_precision\n",
        "    }\n",
        "\n",
        "# Trening i ocena modelu\n",
        "mask_ratios = [0.0, 0.1, 0.3, 0.5, 0.7, 0.9]\n",
        "strategies = ['mask_edges', 'mask_neighborhood', 'mask_attributes']\n",
        "\n",
        "# Trening i ocena modelu z nowymi strategiami\n",
        "all_results = {}\n",
        "all_models = {}\n",
        "for strategy in strategies:\n",
        "    results, models = train_and_evaluate(\n",
        "        in_channels=train_data.num_features,\n",
        "        out_channels=2,\n",
        "        train_data=train_data,\n",
        "        mask_ratios=mask_ratios,\n",
        "        epochs=CUSTOM_EPOCHS,\n",
        "        mask_strategy=strategy\n",
        "    )\n",
        "    all_results[strategy] = results\n",
        "    all_models[strategy] = models\n",
        "\n",
        "# Wyświetlanie wyników\n",
        "plot_results(all_results)\n",
        "final_loss_comparison(all_results)\n",
        "\n",
        "# Ewaluacja na zbiorze testowym\n",
        "for strategy in strategies:\n",
        "    for ratio in mask_ratios:\n",
        "        model = all_models[strategy][(strategy, ratio)]\n",
        "        test_loss = evaluate_on_test(model, test_data)\n",
        "        print(f\"Strategy: {strategy}, Mask Ratio: {ratio}, Test Loss: {test_loss}\")\n",
        "\n",
        "# Predykcja na nieoznaczonych danych\n",
        "unlabeled_data = test_data\n",
        "\n",
        "predictions = {}\n",
        "errors = {}\n",
        "metrics = {}\n",
        "for strategy in strategies:\n",
        "    for ratio in mask_ratios:\n",
        "        model = all_models[strategy][(strategy, ratio)]\n",
        "        pred, _ = predict(model, unlabeled_data)\n",
        "        error = calculate_prediction_error(pred, unlabeled_data)\n",
        "        predictions[(strategy, ratio)] = pred\n",
        "        errors[(strategy, ratio)] = error\n",
        "\n",
        "\n",
        "        metric_values = calculate_metrics(pred, unlabeled_data.x)\n",
        "        metrics[(strategy, ratio)] = metric_values\n",
        "        print(f\"Metrics for Strategy: {strategy}, Mask Ratio: {ratio}\")\n",
        "        print(metric_values)\n",
        "\n",
        "# Wizualizacja błędów predykcji\n",
        "plt.figure(figsize=(15, 10))\n",
        "for i, strategy in enumerate(strategies):\n",
        "    plt.subplot(2, 2, i + 1)\n",
        "    strategy_errors = {ratio: errors[(strategy, ratio)] for ratio in mask_ratios}\n",
        "    plt.bar(strategy_errors.keys(), strategy_errors.values(), color='skyblue')\n",
        "    plt.xlabel('Mask Ratio')\n",
        "    plt.ylabel('Prediction Error')\n",
        "    plt.title(f'MaskGAE 2GCN: {strategy.capitalize()} Strategy: Link Prediction Errors')\n",
        "    plt.grid(True)\n",
        "\n",
        "plt.tight_layout()\n",
        "\n",
        "plt.show()"
      ],
      "metadata": {
        "colab": {
          "base_uri": "https://localhost:8080/"
        },
        "id": "EnuSI5Jsh4u9",
        "outputId": "f73e2a8a-677f-4f02-e062-c44b4a4d4175"
      },
      "execution_count": null,
      "outputs": [
        {
          "output_type": "stream",
          "name": "stderr",
          "text": [
            "/usr/local/lib/python3.10/dist-packages/torch_geometric/data/dataset.py:238: FutureWarning: You are using `torch.load` with `weights_only=False` (the current default value), which uses the default pickle module implicitly. It is possible to construct malicious pickle data which will execute arbitrary code during unpickling (See https://github.com/pytorch/pytorch/blob/main/SECURITY.md#untrusted-models for more details). In a future release, the default value for `weights_only` will be flipped to `True`. This limits the functions that could be executed during unpickling. Arbitrary objects will no longer be allowed to be loaded via this mode unless they are explicitly allowlisted by the user via `torch.serialization.add_safe_globals`. We recommend you start setting `weights_only=True` for any use case where you don't have full control of the loaded file. Please open an issue on GitHub for any issues related to this experimental feature.\n",
            "  if osp.exists(f) and torch.load(f) != _repr(self.pre_transform):\n",
            "/usr/local/lib/python3.10/dist-packages/torch_geometric/data/dataset.py:246: FutureWarning: You are using `torch.load` with `weights_only=False` (the current default value), which uses the default pickle module implicitly. It is possible to construct malicious pickle data which will execute arbitrary code during unpickling (See https://github.com/pytorch/pytorch/blob/main/SECURITY.md#untrusted-models for more details). In a future release, the default value for `weights_only` will be flipped to `True`. This limits the functions that could be executed during unpickling. Arbitrary objects will no longer be allowed to be loaded via this mode unless they are explicitly allowlisted by the user via `torch.serialization.add_safe_globals`. We recommend you start setting `weights_only=True` for any use case where you don't have full control of the loaded file. Please open an issue on GitHub for any issues related to this experimental feature.\n",
            "  if osp.exists(f) and torch.load(f) != _repr(self.pre_filter):\n",
            "/usr/local/lib/python3.10/dist-packages/torch_geometric/io/fs.py:215: FutureWarning: You are using `torch.load` with `weights_only=False` (the current default value), which uses the default pickle module implicitly. It is possible to construct malicious pickle data which will execute arbitrary code during unpickling (See https://github.com/pytorch/pytorch/blob/main/SECURITY.md#untrusted-models for more details). In a future release, the default value for `weights_only` will be flipped to `True`. This limits the functions that could be executed during unpickling. Arbitrary objects will no longer be allowed to be loaded via this mode unless they are explicitly allowlisted by the user via `torch.serialization.add_safe_globals`. We recommend you start setting `weights_only=True` for any use case where you don't have full control of the loaded file. Please open an issue on GitHub for any issues related to this experimental feature.\n",
            "  return torch.load(f, map_location)\n"
          ]
        },
        {
          "output_type": "stream",
          "name": "stdout",
          "text": [
            "cpu\n",
            "Training with mask ratio: 0.0 using mask_edges strategy\n"
          ]
        },
        {
          "output_type": "stream",
          "name": "stderr",
          "text": [
            "Training for mask_edges, mask ratio 0.0:   3%|▎         | 2/60 [00:00<00:09,  6.03it/s]"
          ]
        },
        {
          "output_type": "stream",
          "name": "stdout",
          "text": [
            "Epoch 1/60, Loss: 0.012689209543168545\n",
            "Epoch 2/60, Loss: 0.012565281242132187\n"
          ]
        },
        {
          "output_type": "stream",
          "name": "stderr",
          "text": [
            "Training for mask_edges, mask ratio 0.0:   7%|▋         | 4/60 [00:00<00:09,  5.79it/s]"
          ]
        },
        {
          "output_type": "stream",
          "name": "stdout",
          "text": [
            "Epoch 3/60, Loss: 0.012420328333973885\n",
            "Epoch 4/60, Loss: 0.012346996925771236\n"
          ]
        },
        {
          "output_type": "stream",
          "name": "stderr",
          "text": [
            "Training for mask_edges, mask ratio 0.0:  10%|█         | 6/60 [00:01<00:08,  6.18it/s]"
          ]
        },
        {
          "output_type": "stream",
          "name": "stdout",
          "text": [
            "Epoch 5/60, Loss: 0.012299123220145702\n",
            "Epoch 6/60, Loss: 0.012258917093276978\n"
          ]
        },
        {
          "output_type": "stream",
          "name": "stderr",
          "text": [
            "Training for mask_edges, mask ratio 0.0:  13%|█▎        | 8/60 [00:01<00:08,  6.44it/s]"
          ]
        },
        {
          "output_type": "stream",
          "name": "stdout",
          "text": [
            "Epoch 7/60, Loss: 0.012223680503666401\n",
            "Epoch 8/60, Loss: 0.012196287512779236\n"
          ]
        },
        {
          "output_type": "stream",
          "name": "stderr",
          "text": [
            "Training for mask_edges, mask ratio 0.0:  17%|█▋        | 10/60 [00:01<00:07,  6.67it/s]"
          ]
        },
        {
          "output_type": "stream",
          "name": "stdout",
          "text": [
            "Epoch 9/60, Loss: 0.012174945324659348\n",
            "Epoch 10/60, Loss: 0.012154605239629745\n"
          ]
        },
        {
          "output_type": "stream",
          "name": "stderr",
          "text": [
            "Training for mask_edges, mask ratio 0.0:  20%|██        | 12/60 [00:01<00:06,  6.89it/s]"
          ]
        },
        {
          "output_type": "stream",
          "name": "stdout",
          "text": [
            "Epoch 11/60, Loss: 0.012135716155171394\n",
            "Epoch 12/60, Loss: 0.012119456194341183\n"
          ]
        },
        {
          "output_type": "stream",
          "name": "stderr",
          "text": [
            "Training for mask_edges, mask ratio 0.0:  23%|██▎       | 14/60 [00:02<00:06,  6.62it/s]"
          ]
        },
        {
          "output_type": "stream",
          "name": "stdout",
          "text": [
            "Epoch 13/60, Loss: 0.012104491703212261\n",
            "Epoch 14/60, Loss: 0.012089798226952553\n"
          ]
        },
        {
          "output_type": "stream",
          "name": "stderr",
          "text": [
            "Training for mask_edges, mask ratio 0.0:  27%|██▋       | 16/60 [00:02<00:06,  6.98it/s]"
          ]
        },
        {
          "output_type": "stream",
          "name": "stdout",
          "text": [
            "Epoch 15/60, Loss: 0.012075706385076046\n",
            "Epoch 16/60, Loss: 0.01206248253583908\n"
          ]
        },
        {
          "output_type": "stream",
          "name": "stderr",
          "text": [
            "Training for mask_edges, mask ratio 0.0:  30%|███       | 18/60 [00:02<00:05,  7.01it/s]"
          ]
        },
        {
          "output_type": "stream",
          "name": "stdout",
          "text": [
            "Epoch 17/60, Loss: 0.012049834243953228\n",
            "Epoch 18/60, Loss: 0.01203776802867651\n"
          ]
        },
        {
          "output_type": "stream",
          "name": "stderr",
          "text": [
            "Training for mask_edges, mask ratio 0.0:  33%|███▎      | 20/60 [00:03<00:05,  6.77it/s]"
          ]
        },
        {
          "output_type": "stream",
          "name": "stdout",
          "text": [
            "Epoch 19/60, Loss: 0.012026648968458176\n",
            "Epoch 20/60, Loss: 0.012016423046588898\n"
          ]
        },
        {
          "output_type": "stream",
          "name": "stderr",
          "text": [
            "Training for mask_edges, mask ratio 0.0:  37%|███▋      | 22/60 [00:03<00:05,  6.86it/s]"
          ]
        },
        {
          "output_type": "stream",
          "name": "stdout",
          "text": [
            "Epoch 21/60, Loss: 0.012006694450974464\n",
            "Epoch 22/60, Loss: 0.011997397989034653\n"
          ]
        },
        {
          "output_type": "stream",
          "name": "stderr",
          "text": [
            "Training for mask_edges, mask ratio 0.0:  40%|████      | 24/60 [00:03<00:05,  6.93it/s]"
          ]
        },
        {
          "output_type": "stream",
          "name": "stdout",
          "text": [
            "Epoch 23/60, Loss: 0.011988737620413303\n",
            "Epoch 24/60, Loss: 0.011980709619820118\n"
          ]
        },
        {
          "output_type": "stream",
          "name": "stderr",
          "text": [
            "Training for mask_edges, mask ratio 0.0:  43%|████▎     | 26/60 [00:03<00:04,  7.07it/s]"
          ]
        },
        {
          "output_type": "stream",
          "name": "stdout",
          "text": [
            "Epoch 25/60, Loss: 0.011973215267062187\n",
            "Epoch 26/60, Loss: 0.0119662806391716\n"
          ]
        },
        {
          "output_type": "stream",
          "name": "stderr",
          "text": [
            "Training for mask_edges, mask ratio 0.0:  47%|████▋     | 28/60 [00:04<00:04,  6.86it/s]"
          ]
        },
        {
          "output_type": "stream",
          "name": "stdout",
          "text": [
            "Epoch 27/60, Loss: 0.011959743686020374\n",
            "Epoch 28/60, Loss: 0.011953413486480713\n"
          ]
        },
        {
          "output_type": "stream",
          "name": "stderr",
          "text": [
            "Training for mask_edges, mask ratio 0.0:  50%|█████     | 30/60 [00:04<00:04,  6.96it/s]"
          ]
        },
        {
          "output_type": "stream",
          "name": "stdout",
          "text": [
            "Epoch 29/60, Loss: 0.011947372928261757\n",
            "Epoch 30/60, Loss: 0.011941689997911453\n"
          ]
        },
        {
          "output_type": "stream",
          "name": "stderr",
          "text": [
            "Training for mask_edges, mask ratio 0.0:  53%|█████▎    | 32/60 [00:04<00:04,  6.96it/s]"
          ]
        },
        {
          "output_type": "stream",
          "name": "stdout",
          "text": [
            "Epoch 31/60, Loss: 0.011936287395656109\n",
            "Epoch 32/60, Loss: 0.01193108782172203\n"
          ]
        },
        {
          "output_type": "stream",
          "name": "stderr",
          "text": [
            "Training for mask_edges, mask ratio 0.0:  57%|█████▋    | 34/60 [00:05<00:03,  6.97it/s]"
          ]
        },
        {
          "output_type": "stream",
          "name": "stdout",
          "text": [
            "Epoch 33/60, Loss: 0.011926076374948025\n",
            "Epoch 34/60, Loss: 0.011921292170882225\n"
          ]
        },
        {
          "output_type": "stream",
          "name": "stderr",
          "text": [
            "Training for mask_edges, mask ratio 0.0:  60%|██████    | 36/60 [00:05<00:03,  6.95it/s]"
          ]
        },
        {
          "output_type": "stream",
          "name": "stdout",
          "text": [
            "Epoch 35/60, Loss: 0.011916786432266235\n",
            "Epoch 36/60, Loss: 0.011912573128938675\n"
          ]
        },
        {
          "output_type": "stream",
          "name": "stderr",
          "text": [
            "Training for mask_edges, mask ratio 0.0:  63%|██████▎   | 38/60 [00:05<00:03,  7.08it/s]"
          ]
        },
        {
          "output_type": "stream",
          "name": "stdout",
          "text": [
            "Epoch 37/60, Loss: 0.011908572167158127\n",
            "Epoch 38/60, Loss: 0.011904719285666943\n"
          ]
        },
        {
          "output_type": "stream",
          "name": "stderr",
          "text": [
            "Training for mask_edges, mask ratio 0.0:  67%|██████▋   | 40/60 [00:05<00:02,  7.13it/s]"
          ]
        },
        {
          "output_type": "stream",
          "name": "stdout",
          "text": [
            "Epoch 39/60, Loss: 0.011901023797690868\n",
            "Epoch 40/60, Loss: 0.011897539719939232\n"
          ]
        },
        {
          "output_type": "stream",
          "name": "stderr",
          "text": [
            "Training for mask_edges, mask ratio 0.0:  70%|███████   | 42/60 [00:06<00:02,  6.89it/s]"
          ]
        },
        {
          "output_type": "stream",
          "name": "stdout",
          "text": [
            "Epoch 41/60, Loss: 0.011894275434315205\n",
            "Epoch 42/60, Loss: 0.011891186237335205\n"
          ]
        },
        {
          "output_type": "stream",
          "name": "stderr",
          "text": [
            "Training for mask_edges, mask ratio 0.0:  73%|███████▎  | 44/60 [00:06<00:02,  6.99it/s]"
          ]
        },
        {
          "output_type": "stream",
          "name": "stdout",
          "text": [
            "Epoch 43/60, Loss: 0.011888230219483376\n",
            "Epoch 44/60, Loss: 0.011885351501405239\n"
          ]
        },
        {
          "output_type": "stream",
          "name": "stderr",
          "text": [
            "Training for mask_edges, mask ratio 0.0:  77%|███████▋  | 46/60 [00:06<00:01,  7.06it/s]"
          ]
        },
        {
          "output_type": "stream",
          "name": "stdout",
          "text": [
            "Epoch 45/60, Loss: 0.011882501654326916\n",
            "Epoch 46/60, Loss: 0.011879666708409786\n"
          ]
        },
        {
          "output_type": "stream",
          "name": "stderr",
          "text": [
            "Training for mask_edges, mask ratio 0.0:  80%|████████  | 48/60 [00:07<00:01,  6.91it/s]"
          ]
        },
        {
          "output_type": "stream",
          "name": "stdout",
          "text": [
            "Epoch 47/60, Loss: 0.011876850388944149\n",
            "Epoch 48/60, Loss: 0.011874061077833176\n"
          ]
        },
        {
          "output_type": "stream",
          "name": "stderr",
          "text": [
            "Training for mask_edges, mask ratio 0.0:  83%|████████▎ | 50/60 [00:07<00:01,  6.86it/s]"
          ]
        },
        {
          "output_type": "stream",
          "name": "stdout",
          "text": [
            "Epoch 49/60, Loss: 0.011871326714754105\n",
            "Epoch 50/60, Loss: 0.011868644505739212\n"
          ]
        },
        {
          "output_type": "stream",
          "name": "stderr",
          "text": [
            "Training for mask_edges, mask ratio 0.0:  87%|████████▋ | 52/60 [00:07<00:01,  6.89it/s]"
          ]
        },
        {
          "output_type": "stream",
          "name": "stdout",
          "text": [
            "Epoch 51/60, Loss: 0.011866028420627117\n",
            "Epoch 52/60, Loss: 0.011863511055707932\n"
          ]
        },
        {
          "output_type": "stream",
          "name": "stderr",
          "text": [
            "Training for mask_edges, mask ratio 0.0:  90%|█████████ | 54/60 [00:07<00:00,  6.87it/s]"
          ]
        },
        {
          "output_type": "stream",
          "name": "stdout",
          "text": [
            "Epoch 53/60, Loss: 0.01186112966388464\n",
            "Epoch 54/60, Loss: 0.011858909390866756\n"
          ]
        },
        {
          "output_type": "stream",
          "name": "stderr",
          "text": [
            "Training for mask_edges, mask ratio 0.0:  93%|█████████▎| 56/60 [00:08<00:00,  6.79it/s]"
          ]
        },
        {
          "output_type": "stream",
          "name": "stdout",
          "text": [
            "Epoch 55/60, Loss: 0.011856834404170513\n",
            "Epoch 56/60, Loss: 0.011854871176183224\n"
          ]
        },
        {
          "output_type": "stream",
          "name": "stderr",
          "text": [
            "Training for mask_edges, mask ratio 0.0:  97%|█████████▋| 58/60 [00:08<00:00,  6.76it/s]"
          ]
        },
        {
          "output_type": "stream",
          "name": "stdout",
          "text": [
            "Epoch 57/60, Loss: 0.011853002943098545\n",
            "Epoch 58/60, Loss: 0.011851243674755096\n"
          ]
        },
        {
          "output_type": "stream",
          "name": "stderr",
          "text": [
            "Training for mask_edges, mask ratio 0.0: 100%|██████████| 60/60 [00:08<00:00,  6.78it/s]\n"
          ]
        },
        {
          "output_type": "stream",
          "name": "stdout",
          "text": [
            "Epoch 59/60, Loss: 0.011849602684378624\n",
            "Epoch 60/60, Loss: 0.011848079040646553\n",
            "Training with mask ratio: 0.1 using mask_edges strategy\n"
          ]
        },
        {
          "output_type": "stream",
          "name": "stderr",
          "text": [
            "Training for mask_edges, mask ratio 0.1:   2%|▏         | 1/60 [00:00<00:16,  3.50it/s]"
          ]
        },
        {
          "output_type": "stream",
          "name": "stdout",
          "text": [
            "Epoch 1/60, Loss: 0.012726839631795883\n"
          ]
        },
        {
          "output_type": "stream",
          "name": "stderr",
          "text": [
            "Training for mask_edges, mask ratio 0.1:   3%|▎         | 2/60 [00:00<00:15,  3.74it/s]"
          ]
        },
        {
          "output_type": "stream",
          "name": "stdout",
          "text": [
            "Epoch 2/60, Loss: 0.012547682970762253\n"
          ]
        },
        {
          "output_type": "stream",
          "name": "stderr",
          "text": [
            "Training for mask_edges, mask ratio 0.1:   5%|▌         | 3/60 [00:00<00:14,  3.82it/s]"
          ]
        },
        {
          "output_type": "stream",
          "name": "stdout",
          "text": [
            "Epoch 3/60, Loss: 0.012426374480128288\n"
          ]
        },
        {
          "output_type": "stream",
          "name": "stderr",
          "text": [
            "Training for mask_edges, mask ratio 0.1:   7%|▋         | 4/60 [00:01<00:14,  3.87it/s]"
          ]
        },
        {
          "output_type": "stream",
          "name": "stdout",
          "text": [
            "Epoch 4/60, Loss: 0.012345132417976856\n"
          ]
        },
        {
          "output_type": "stream",
          "name": "stderr",
          "text": [
            "Training for mask_edges, mask ratio 0.1:   8%|▊         | 5/60 [00:01<00:14,  3.81it/s]"
          ]
        },
        {
          "output_type": "stream",
          "name": "stdout",
          "text": [
            "Epoch 5/60, Loss: 0.012297799810767174\n"
          ]
        },
        {
          "output_type": "stream",
          "name": "stderr",
          "text": [
            "Training for mask_edges, mask ratio 0.1:  10%|█         | 6/60 [00:01<00:14,  3.85it/s]"
          ]
        },
        {
          "output_type": "stream",
          "name": "stdout",
          "text": [
            "Epoch 6/60, Loss: 0.012264025397598743\n"
          ]
        },
        {
          "output_type": "stream",
          "name": "stderr",
          "text": [
            "Training for mask_edges, mask ratio 0.1:  12%|█▏        | 7/60 [00:01<00:13,  3.91it/s]"
          ]
        },
        {
          "output_type": "stream",
          "name": "stdout",
          "text": [
            "Epoch 7/60, Loss: 0.012232095003128052\n"
          ]
        },
        {
          "output_type": "stream",
          "name": "stderr",
          "text": [
            "Training for mask_edges, mask ratio 0.1:  13%|█▎        | 8/60 [00:02<00:13,  3.78it/s]"
          ]
        },
        {
          "output_type": "stream",
          "name": "stdout",
          "text": [
            "Epoch 8/60, Loss: 0.01220221072435379\n"
          ]
        },
        {
          "output_type": "stream",
          "name": "stderr",
          "text": [
            "Training for mask_edges, mask ratio 0.1:  15%|█▌        | 9/60 [00:02<00:14,  3.40it/s]"
          ]
        },
        {
          "output_type": "stream",
          "name": "stdout",
          "text": [
            "Epoch 9/60, Loss: 0.01217659655958414\n"
          ]
        },
        {
          "output_type": "stream",
          "name": "stderr",
          "text": [
            "Training for mask_edges, mask ratio 0.1:  17%|█▋        | 10/60 [00:03<00:19,  2.54it/s]"
          ]
        },
        {
          "output_type": "stream",
          "name": "stdout",
          "text": [
            "Epoch 10/60, Loss: 0.012155711650848389\n"
          ]
        },
        {
          "output_type": "stream",
          "name": "stderr",
          "text": [
            "Training for mask_edges, mask ratio 0.1:  18%|█▊        | 11/60 [00:03<00:18,  2.63it/s]"
          ]
        },
        {
          "output_type": "stream",
          "name": "stdout",
          "text": [
            "Epoch 11/60, Loss: 0.012138808146119118\n"
          ]
        },
        {
          "output_type": "stream",
          "name": "stderr",
          "text": [
            "Training for mask_edges, mask ratio 0.1:  20%|██        | 12/60 [00:03<00:17,  2.72it/s]"
          ]
        },
        {
          "output_type": "stream",
          "name": "stdout",
          "text": [
            "Epoch 12/60, Loss: 0.012123375199735165\n"
          ]
        },
        {
          "output_type": "stream",
          "name": "stderr",
          "text": [
            "Training for mask_edges, mask ratio 0.1:  22%|██▏       | 13/60 [00:04<00:17,  2.76it/s]"
          ]
        },
        {
          "output_type": "stream",
          "name": "stdout",
          "text": [
            "Epoch 13/60, Loss: 0.012107664719223976\n"
          ]
        },
        {
          "output_type": "stream",
          "name": "stderr",
          "text": [
            "Training for mask_edges, mask ratio 0.1:  23%|██▎       | 14/60 [00:04<00:16,  2.75it/s]"
          ]
        },
        {
          "output_type": "stream",
          "name": "stdout",
          "text": [
            "Epoch 14/60, Loss: 0.012090926989912987\n"
          ]
        },
        {
          "output_type": "stream",
          "name": "stderr",
          "text": [
            "Training for mask_edges, mask ratio 0.1:  25%|██▌       | 15/60 [00:04<00:16,  2.80it/s]"
          ]
        },
        {
          "output_type": "stream",
          "name": "stdout",
          "text": [
            "Epoch 15/60, Loss: 0.012074191123247147\n"
          ]
        },
        {
          "output_type": "stream",
          "name": "stderr",
          "text": [
            "Training for mask_edges, mask ratio 0.1:  27%|██▋       | 16/60 [00:05<00:15,  2.75it/s]"
          ]
        },
        {
          "output_type": "stream",
          "name": "stdout",
          "text": [
            "Epoch 16/60, Loss: 0.012058403342962265\n"
          ]
        },
        {
          "output_type": "stream",
          "name": "stderr",
          "text": [
            "Training for mask_edges, mask ratio 0.1:  28%|██▊       | 17/60 [00:05<00:15,  2.82it/s]"
          ]
        },
        {
          "output_type": "stream",
          "name": "stdout",
          "text": [
            "Epoch 17/60, Loss: 0.012044645845890045\n"
          ]
        },
        {
          "output_type": "stream",
          "name": "stderr",
          "text": [
            "Training for mask_edges, mask ratio 0.1:  30%|███       | 18/60 [00:05<00:13,  3.07it/s]"
          ]
        },
        {
          "output_type": "stream",
          "name": "stdout",
          "text": [
            "Epoch 18/60, Loss: 0.012031891383230686\n"
          ]
        },
        {
          "output_type": "stream",
          "name": "stderr",
          "text": [
            "Training for mask_edges, mask ratio 0.1:  32%|███▏      | 19/60 [00:06<00:12,  3.18it/s]"
          ]
        },
        {
          "output_type": "stream",
          "name": "stdout",
          "text": [
            "Epoch 19/60, Loss: 0.01201900839805603\n"
          ]
        },
        {
          "output_type": "stream",
          "name": "stderr",
          "text": [
            "Training for mask_edges, mask ratio 0.1:  33%|███▎      | 20/60 [00:06<00:12,  3.28it/s]"
          ]
        },
        {
          "output_type": "stream",
          "name": "stdout",
          "text": [
            "Epoch 20/60, Loss: 0.012005661614239216\n"
          ]
        },
        {
          "output_type": "stream",
          "name": "stderr",
          "text": [
            "Training for mask_edges, mask ratio 0.1:  35%|███▌      | 21/60 [00:06<00:11,  3.44it/s]"
          ]
        },
        {
          "output_type": "stream",
          "name": "stdout",
          "text": [
            "Epoch 21/60, Loss: 0.01199316792190075\n"
          ]
        },
        {
          "output_type": "stream",
          "name": "stderr",
          "text": [
            "Training for mask_edges, mask ratio 0.1:  37%|███▋      | 22/60 [00:06<00:10,  3.58it/s]"
          ]
        },
        {
          "output_type": "stream",
          "name": "stdout",
          "text": [
            "Epoch 22/60, Loss: 0.011980840004980564\n"
          ]
        },
        {
          "output_type": "stream",
          "name": "stderr",
          "text": [
            "Training for mask_edges, mask ratio 0.1:  38%|███▊      | 23/60 [00:07<00:10,  3.60it/s]"
          ]
        },
        {
          "output_type": "stream",
          "name": "stdout",
          "text": [
            "Epoch 23/60, Loss: 0.011970137245953083\n"
          ]
        },
        {
          "output_type": "stream",
          "name": "stderr",
          "text": [
            "Training for mask_edges, mask ratio 0.1:  40%|████      | 24/60 [00:07<00:10,  3.31it/s]"
          ]
        },
        {
          "output_type": "stream",
          "name": "stdout",
          "text": [
            "Epoch 24/60, Loss: 0.011959494091570377\n"
          ]
        },
        {
          "output_type": "stream",
          "name": "stderr",
          "text": [
            "Training for mask_edges, mask ratio 0.1:  42%|████▏     | 25/60 [00:07<00:10,  3.20it/s]"
          ]
        },
        {
          "output_type": "stream",
          "name": "stdout",
          "text": [
            "Epoch 25/60, Loss: 0.011950280517339706\n"
          ]
        },
        {
          "output_type": "stream",
          "name": "stderr",
          "text": [
            "Training for mask_edges, mask ratio 0.1:  43%|████▎     | 26/60 [00:08<00:10,  3.13it/s]"
          ]
        },
        {
          "output_type": "stream",
          "name": "stdout",
          "text": [
            "Epoch 26/60, Loss: 0.011940740048885345\n"
          ]
        },
        {
          "output_type": "stream",
          "name": "stderr",
          "text": [
            "Training for mask_edges, mask ratio 0.1:  45%|████▌     | 27/60 [00:08<00:10,  3.09it/s]"
          ]
        },
        {
          "output_type": "stream",
          "name": "stdout",
          "text": [
            "Epoch 27/60, Loss: 0.01193187478929758\n"
          ]
        },
        {
          "output_type": "stream",
          "name": "stderr",
          "text": [
            "Training for mask_edges, mask ratio 0.1:  47%|████▋     | 28/60 [00:08<00:10,  3.07it/s]"
          ]
        },
        {
          "output_type": "stream",
          "name": "stdout",
          "text": [
            "Epoch 28/60, Loss: 0.011923886835575104\n"
          ]
        },
        {
          "output_type": "stream",
          "name": "stderr",
          "text": [
            "Training for mask_edges, mask ratio 0.1:  48%|████▊     | 29/60 [00:09<00:10,  3.03it/s]"
          ]
        },
        {
          "output_type": "stream",
          "name": "stdout",
          "text": [
            "Epoch 29/60, Loss: 0.011916913092136383\n"
          ]
        },
        {
          "output_type": "stream",
          "name": "stderr",
          "text": [
            "Training for mask_edges, mask ratio 0.1:  50%|█████     | 30/60 [00:09<00:10,  2.99it/s]"
          ]
        },
        {
          "output_type": "stream",
          "name": "stdout",
          "text": [
            "Epoch 30/60, Loss: 0.011910106055438519\n"
          ]
        },
        {
          "output_type": "stream",
          "name": "stderr",
          "text": [
            "Training for mask_edges, mask ratio 0.1:  52%|█████▏    | 31/60 [00:09<00:09,  2.98it/s]"
          ]
        },
        {
          "output_type": "stream",
          "name": "stdout",
          "text": [
            "Epoch 31/60, Loss: 0.011904659681022167\n"
          ]
        },
        {
          "output_type": "stream",
          "name": "stderr",
          "text": [
            "Training for mask_edges, mask ratio 0.1:  53%|█████▎    | 32/60 [00:10<00:09,  2.84it/s]"
          ]
        },
        {
          "output_type": "stream",
          "name": "stdout",
          "text": [
            "Epoch 32/60, Loss: 0.01189824752509594\n"
          ]
        },
        {
          "output_type": "stream",
          "name": "stderr",
          "text": [
            "Training for mask_edges, mask ratio 0.1:  55%|█████▌    | 33/60 [00:10<00:09,  2.89it/s]"
          ]
        },
        {
          "output_type": "stream",
          "name": "stdout",
          "text": [
            "Epoch 33/60, Loss: 0.011892539449036121\n"
          ]
        },
        {
          "output_type": "stream",
          "name": "stderr",
          "text": [
            "Training for mask_edges, mask ratio 0.1:  57%|█████▋    | 34/60 [00:10<00:08,  3.12it/s]"
          ]
        },
        {
          "output_type": "stream",
          "name": "stdout",
          "text": [
            "Epoch 34/60, Loss: 0.011888235807418823\n"
          ]
        },
        {
          "output_type": "stream",
          "name": "stderr",
          "text": [
            "Training for mask_edges, mask ratio 0.1:  58%|█████▊    | 35/60 [00:11<00:07,  3.29it/s]"
          ]
        },
        {
          "output_type": "stream",
          "name": "stdout",
          "text": [
            "Epoch 35/60, Loss: 0.011884143576025963\n"
          ]
        },
        {
          "output_type": "stream",
          "name": "stderr",
          "text": [
            "Training for mask_edges, mask ratio 0.1:  60%|██████    | 36/60 [00:11<00:07,  3.37it/s]"
          ]
        },
        {
          "output_type": "stream",
          "name": "stdout",
          "text": [
            "Epoch 36/60, Loss: 0.011881275102496147\n"
          ]
        },
        {
          "output_type": "stream",
          "name": "stderr",
          "text": [
            "Training for mask_edges, mask ratio 0.1:  62%|██████▏   | 37/60 [00:11<00:06,  3.47it/s]"
          ]
        },
        {
          "output_type": "stream",
          "name": "stdout",
          "text": [
            "Epoch 37/60, Loss: 0.011876425705850124\n"
          ]
        },
        {
          "output_type": "stream",
          "name": "stderr",
          "text": [
            "Training for mask_edges, mask ratio 0.1:  63%|██████▎   | 38/60 [00:11<00:06,  3.61it/s]"
          ]
        },
        {
          "output_type": "stream",
          "name": "stdout",
          "text": [
            "Epoch 38/60, Loss: 0.011873876675963402\n"
          ]
        },
        {
          "output_type": "stream",
          "name": "stderr",
          "text": [
            "Training for mask_edges, mask ratio 0.1:  65%|██████▌   | 39/60 [00:12<00:05,  3.69it/s]"
          ]
        },
        {
          "output_type": "stream",
          "name": "stdout",
          "text": [
            "Epoch 39/60, Loss: 0.011872032657265663\n"
          ]
        },
        {
          "output_type": "stream",
          "name": "stderr",
          "text": [
            "Training for mask_edges, mask ratio 0.1:  67%|██████▋   | 40/60 [00:12<00:05,  3.70it/s]"
          ]
        },
        {
          "output_type": "stream",
          "name": "stdout",
          "text": [
            "Epoch 40/60, Loss: 0.01186852715909481\n"
          ]
        },
        {
          "output_type": "stream",
          "name": "stderr",
          "text": [
            "Training for mask_edges, mask ratio 0.1:  68%|██████▊   | 41/60 [00:12<00:06,  3.02it/s]"
          ]
        },
        {
          "output_type": "stream",
          "name": "stdout",
          "text": [
            "Epoch 41/60, Loss: 0.01186623889952898\n"
          ]
        },
        {
          "output_type": "stream",
          "name": "stderr",
          "text": [
            "Training for mask_edges, mask ratio 0.1:  70%|███████   | 42/60 [00:13<00:05,  3.21it/s]"
          ]
        },
        {
          "output_type": "stream",
          "name": "stdout",
          "text": [
            "Epoch 42/60, Loss: 0.011863797903060913\n"
          ]
        },
        {
          "output_type": "stream",
          "name": "stderr",
          "text": [
            "Training for mask_edges, mask ratio 0.1:  72%|███████▏  | 43/60 [00:13<00:05,  3.39it/s]"
          ]
        },
        {
          "output_type": "stream",
          "name": "stdout",
          "text": [
            "Epoch 43/60, Loss: 0.011862729676067829\n"
          ]
        },
        {
          "output_type": "stream",
          "name": "stderr",
          "text": [
            "Training for mask_edges, mask ratio 0.1:  73%|███████▎  | 44/60 [00:13<00:04,  3.49it/s]"
          ]
        },
        {
          "output_type": "stream",
          "name": "stdout",
          "text": [
            "Epoch 44/60, Loss: 0.011860927566885948\n"
          ]
        },
        {
          "output_type": "stream",
          "name": "stderr",
          "text": [
            "Training for mask_edges, mask ratio 0.1:  75%|███████▌  | 45/60 [00:13<00:04,  3.61it/s]"
          ]
        },
        {
          "output_type": "stream",
          "name": "stdout",
          "text": [
            "Epoch 45/60, Loss: 0.011860017664730549\n"
          ]
        },
        {
          "output_type": "stream",
          "name": "stderr",
          "text": [
            "Training for mask_edges, mask ratio 0.1:  77%|███████▋  | 46/60 [00:14<00:03,  3.69it/s]"
          ]
        },
        {
          "output_type": "stream",
          "name": "stdout",
          "text": [
            "Epoch 46/60, Loss: 0.011860014870762825\n"
          ]
        },
        {
          "output_type": "stream",
          "name": "stderr",
          "text": [
            "Training for mask_edges, mask ratio 0.1:  78%|███████▊  | 47/60 [00:14<00:03,  3.79it/s]"
          ]
        },
        {
          "output_type": "stream",
          "name": "stdout",
          "text": [
            "Epoch 47/60, Loss: 0.011855974793434143\n"
          ]
        },
        {
          "output_type": "stream",
          "name": "stderr",
          "text": [
            "Training for mask_edges, mask ratio 0.1:  80%|████████  | 48/60 [00:14<00:03,  3.81it/s]"
          ]
        },
        {
          "output_type": "stream",
          "name": "stdout",
          "text": [
            "Epoch 48/60, Loss: 0.01185570564121008\n"
          ]
        },
        {
          "output_type": "stream",
          "name": "stderr",
          "text": [
            "Training for mask_edges, mask ratio 0.1:  82%|████████▏ | 49/60 [00:14<00:02,  3.83it/s]"
          ]
        },
        {
          "output_type": "stream",
          "name": "stdout",
          "text": [
            "Epoch 49/60, Loss: 0.011854710057377815\n"
          ]
        },
        {
          "output_type": "stream",
          "name": "stderr",
          "text": [
            "Training for mask_edges, mask ratio 0.1:  83%|████████▎ | 50/60 [00:15<00:02,  3.60it/s]"
          ]
        },
        {
          "output_type": "stream",
          "name": "stdout",
          "text": [
            "Epoch 50/60, Loss: 0.011853263713419437\n"
          ]
        },
        {
          "output_type": "stream",
          "name": "stderr",
          "text": [
            "Training for mask_edges, mask ratio 0.1:  85%|████████▌ | 51/60 [00:15<00:02,  3.39it/s]"
          ]
        },
        {
          "output_type": "stream",
          "name": "stdout",
          "text": [
            "Epoch 51/60, Loss: 0.011851510033011436\n"
          ]
        },
        {
          "output_type": "stream",
          "name": "stderr",
          "text": [
            "Training for mask_edges, mask ratio 0.1:  87%|████████▋ | 52/60 [00:16<00:02,  3.08it/s]"
          ]
        },
        {
          "output_type": "stream",
          "name": "stdout",
          "text": [
            "Epoch 52/60, Loss: 0.01185071561485529\n"
          ]
        },
        {
          "output_type": "stream",
          "name": "stderr",
          "text": [
            "Training for mask_edges, mask ratio 0.1:  88%|████████▊ | 53/60 [00:16<00:02,  2.86it/s]"
          ]
        },
        {
          "output_type": "stream",
          "name": "stdout",
          "text": [
            "Epoch 53/60, Loss: 0.011850200593471527\n"
          ]
        },
        {
          "output_type": "stream",
          "name": "stderr",
          "text": [
            "Training for mask_edges, mask ratio 0.1:  90%|█████████ | 54/60 [00:16<00:02,  2.89it/s]"
          ]
        },
        {
          "output_type": "stream",
          "name": "stdout",
          "text": [
            "Epoch 54/60, Loss: 0.011848731897771358\n"
          ]
        },
        {
          "output_type": "stream",
          "name": "stderr",
          "text": [
            "Training for mask_edges, mask ratio 0.1:  92%|█████████▏| 55/60 [00:17<00:01,  2.95it/s]"
          ]
        },
        {
          "output_type": "stream",
          "name": "stdout",
          "text": [
            "Epoch 55/60, Loss: 0.011846842244267464\n"
          ]
        },
        {
          "output_type": "stream",
          "name": "stderr",
          "text": [
            "Training for mask_edges, mask ratio 0.1:  93%|█████████▎| 56/60 [00:17<00:01,  2.89it/s]"
          ]
        },
        {
          "output_type": "stream",
          "name": "stdout",
          "text": [
            "Epoch 56/60, Loss: 0.011844766326248646\n"
          ]
        },
        {
          "output_type": "stream",
          "name": "stderr",
          "text": [
            "Training for mask_edges, mask ratio 0.1:  95%|█████████▌| 57/60 [00:17<00:01,  2.86it/s]"
          ]
        },
        {
          "output_type": "stream",
          "name": "stdout",
          "text": [
            "Epoch 57/60, Loss: 0.011844458989799023\n"
          ]
        },
        {
          "output_type": "stream",
          "name": "stderr",
          "text": [
            "Training for mask_edges, mask ratio 0.1:  97%|█████████▋| 58/60 [00:18<00:00,  2.86it/s]"
          ]
        },
        {
          "output_type": "stream",
          "name": "stdout",
          "text": [
            "Epoch 58/60, Loss: 0.011842986568808556\n"
          ]
        },
        {
          "output_type": "stream",
          "name": "stderr",
          "text": [
            "Training for mask_edges, mask ratio 0.1:  98%|█████████▊| 59/60 [00:18<00:00,  2.86it/s]"
          ]
        },
        {
          "output_type": "stream",
          "name": "stdout",
          "text": [
            "Epoch 59/60, Loss: 0.011843875050544739\n"
          ]
        },
        {
          "output_type": "stream",
          "name": "stderr",
          "text": [
            "Training for mask_edges, mask ratio 0.1: 100%|██████████| 60/60 [00:18<00:00,  3.17it/s]\n"
          ]
        },
        {
          "output_type": "stream",
          "name": "stdout",
          "text": [
            "Epoch 60/60, Loss: 0.011843133717775345\n",
            "Training with mask ratio: 0.3 using mask_edges strategy\n"
          ]
        },
        {
          "output_type": "stream",
          "name": "stderr",
          "text": [
            "Training for mask_edges, mask ratio 0.3:   2%|▏         | 1/60 [00:00<00:25,  2.36it/s]"
          ]
        },
        {
          "output_type": "stream",
          "name": "stdout",
          "text": [
            "Epoch 1/60, Loss: 0.01269697118550539\n"
          ]
        },
        {
          "output_type": "stream",
          "name": "stderr",
          "text": [
            "Training for mask_edges, mask ratio 0.3:   3%|▎         | 2/60 [00:00<00:19,  2.95it/s]"
          ]
        },
        {
          "output_type": "stream",
          "name": "stdout",
          "text": [
            "Epoch 2/60, Loss: 0.012552598491311073\n"
          ]
        },
        {
          "output_type": "stream",
          "name": "stderr",
          "text": [
            "Training for mask_edges, mask ratio 0.3:   5%|▌         | 3/60 [00:00<00:17,  3.17it/s]"
          ]
        },
        {
          "output_type": "stream",
          "name": "stdout",
          "text": [
            "Epoch 3/60, Loss: 0.012418042868375778\n"
          ]
        },
        {
          "output_type": "stream",
          "name": "stderr",
          "text": [
            "Training for mask_edges, mask ratio 0.3:   7%|▋         | 4/60 [00:01<00:17,  3.15it/s]"
          ]
        },
        {
          "output_type": "stream",
          "name": "stdout",
          "text": [
            "Epoch 4/60, Loss: 0.012343594804406166\n"
          ]
        },
        {
          "output_type": "stream",
          "name": "stderr",
          "text": [
            "Training for mask_edges, mask ratio 0.3:   8%|▊         | 5/60 [00:01<00:17,  3.23it/s]"
          ]
        },
        {
          "output_type": "stream",
          "name": "stdout",
          "text": [
            "Epoch 5/60, Loss: 0.012298297137022018\n"
          ]
        },
        {
          "output_type": "stream",
          "name": "stderr",
          "text": [
            "Training for mask_edges, mask ratio 0.3:  10%|█         | 6/60 [00:01<00:16,  3.32it/s]"
          ]
        },
        {
          "output_type": "stream",
          "name": "stdout",
          "text": [
            "Epoch 6/60, Loss: 0.012261011637747288\n"
          ]
        },
        {
          "output_type": "stream",
          "name": "stderr",
          "text": [
            "Training for mask_edges, mask ratio 0.3:  12%|█▏        | 7/60 [00:02<00:15,  3.40it/s]"
          ]
        },
        {
          "output_type": "stream",
          "name": "stdout",
          "text": [
            "Epoch 7/60, Loss: 0.012226050719618797\n"
          ]
        },
        {
          "output_type": "stream",
          "name": "stderr",
          "text": [
            "Training for mask_edges, mask ratio 0.3:  13%|█▎        | 8/60 [00:02<00:15,  3.41it/s]"
          ]
        },
        {
          "output_type": "stream",
          "name": "stdout",
          "text": [
            "Epoch 8/60, Loss: 0.012196196243166924\n"
          ]
        },
        {
          "output_type": "stream",
          "name": "stderr",
          "text": [
            "Training for mask_edges, mask ratio 0.3:  15%|█▌        | 9/60 [00:02<00:14,  3.52it/s]"
          ]
        },
        {
          "output_type": "stream",
          "name": "stdout",
          "text": [
            "Epoch 9/60, Loss: 0.012173330411314964\n"
          ]
        },
        {
          "output_type": "stream",
          "name": "stderr",
          "text": [
            "Training for mask_edges, mask ratio 0.3:  17%|█▋        | 10/60 [00:02<00:13,  3.58it/s]"
          ]
        },
        {
          "output_type": "stream",
          "name": "stdout",
          "text": [
            "Epoch 10/60, Loss: 0.012155856005847454\n"
          ]
        },
        {
          "output_type": "stream",
          "name": "stderr",
          "text": [
            "Training for mask_edges, mask ratio 0.3:  18%|█▊        | 11/60 [00:03<00:13,  3.57it/s]"
          ]
        },
        {
          "output_type": "stream",
          "name": "stdout",
          "text": [
            "Epoch 11/60, Loss: 0.012140301987528801\n"
          ]
        },
        {
          "output_type": "stream",
          "name": "stderr",
          "text": [
            "Training for mask_edges, mask ratio 0.3:  20%|██        | 12/60 [00:03<00:13,  3.61it/s]"
          ]
        },
        {
          "output_type": "stream",
          "name": "stdout",
          "text": [
            "Epoch 12/60, Loss: 0.012124518863856792\n"
          ]
        },
        {
          "output_type": "stream",
          "name": "stderr",
          "text": [
            "Training for mask_edges, mask ratio 0.3:  22%|██▏       | 13/60 [00:03<00:12,  3.65it/s]"
          ]
        },
        {
          "output_type": "stream",
          "name": "stdout",
          "text": [
            "Epoch 13/60, Loss: 0.012108194641768932\n"
          ]
        },
        {
          "output_type": "stream",
          "name": "stderr",
          "text": [
            "Training for mask_edges, mask ratio 0.3:  23%|██▎       | 14/60 [00:04<00:12,  3.71it/s]"
          ]
        },
        {
          "output_type": "stream",
          "name": "stdout",
          "text": [
            "Epoch 14/60, Loss: 0.012092120945453644\n"
          ]
        },
        {
          "output_type": "stream",
          "name": "stderr",
          "text": [
            "Training for mask_edges, mask ratio 0.3:  25%|██▌       | 15/60 [00:04<00:12,  3.62it/s]"
          ]
        },
        {
          "output_type": "stream",
          "name": "stdout",
          "text": [
            "Epoch 15/60, Loss: 0.01207752525806427\n"
          ]
        },
        {
          "output_type": "stream",
          "name": "stderr",
          "text": [
            "Training for mask_edges, mask ratio 0.3:  27%|██▋       | 16/60 [00:04<00:11,  3.67it/s]"
          ]
        },
        {
          "output_type": "stream",
          "name": "stdout",
          "text": [
            "Epoch 16/60, Loss: 0.012064296752214432\n"
          ]
        },
        {
          "output_type": "stream",
          "name": "stderr",
          "text": [
            "Training for mask_edges, mask ratio 0.3:  28%|██▊       | 17/60 [00:04<00:11,  3.70it/s]"
          ]
        },
        {
          "output_type": "stream",
          "name": "stdout",
          "text": [
            "Epoch 17/60, Loss: 0.012052541598677635\n"
          ]
        },
        {
          "output_type": "stream",
          "name": "stderr",
          "text": [
            "Training for mask_edges, mask ratio 0.3:  30%|███       | 18/60 [00:05<00:11,  3.68it/s]"
          ]
        },
        {
          "output_type": "stream",
          "name": "stdout",
          "text": [
            "Epoch 18/60, Loss: 0.012041664682328701\n"
          ]
        },
        {
          "output_type": "stream",
          "name": "stderr",
          "text": [
            "Training for mask_edges, mask ratio 0.3:  32%|███▏      | 19/60 [00:05<00:11,  3.59it/s]"
          ]
        },
        {
          "output_type": "stream",
          "name": "stdout",
          "text": [
            "Epoch 19/60, Loss: 0.012029974721372128\n"
          ]
        },
        {
          "output_type": "stream",
          "name": "stderr",
          "text": [
            "Training for mask_edges, mask ratio 0.3:  33%|███▎      | 20/60 [00:05<00:11,  3.63it/s]"
          ]
        },
        {
          "output_type": "stream",
          "name": "stdout",
          "text": [
            "Epoch 20/60, Loss: 0.012019681744277477\n"
          ]
        },
        {
          "output_type": "stream",
          "name": "stderr",
          "text": [
            "Training for mask_edges, mask ratio 0.3:  35%|███▌      | 21/60 [00:06<00:13,  3.00it/s]"
          ]
        },
        {
          "output_type": "stream",
          "name": "stdout",
          "text": [
            "Epoch 21/60, Loss: 0.01201093103736639\n"
          ]
        },
        {
          "output_type": "stream",
          "name": "stderr",
          "text": [
            "Training for mask_edges, mask ratio 0.3:  37%|███▋      | 22/60 [00:06<00:12,  3.13it/s]"
          ]
        },
        {
          "output_type": "stream",
          "name": "stdout",
          "text": [
            "Epoch 22/60, Loss: 0.01200119499117136\n"
          ]
        },
        {
          "output_type": "stream",
          "name": "stderr",
          "text": [
            "Training for mask_edges, mask ratio 0.3:  38%|███▊      | 23/60 [00:06<00:11,  3.29it/s]"
          ]
        },
        {
          "output_type": "stream",
          "name": "stdout",
          "text": [
            "Epoch 23/60, Loss: 0.01199281495064497\n"
          ]
        },
        {
          "output_type": "stream",
          "name": "stderr",
          "text": [
            "Training for mask_edges, mask ratio 0.3:  40%|████      | 24/60 [00:07<00:10,  3.41it/s]"
          ]
        },
        {
          "output_type": "stream",
          "name": "stdout",
          "text": [
            "Epoch 24/60, Loss: 0.011985606513917446\n"
          ]
        },
        {
          "output_type": "stream",
          "name": "stderr",
          "text": [
            "Training for mask_edges, mask ratio 0.3:  42%|████▏     | 25/60 [00:07<00:10,  3.48it/s]"
          ]
        },
        {
          "output_type": "stream",
          "name": "stdout",
          "text": [
            "Epoch 25/60, Loss: 0.011978155933320522\n"
          ]
        },
        {
          "output_type": "stream",
          "name": "stderr",
          "text": [
            "Training for mask_edges, mask ratio 0.3:  43%|████▎     | 26/60 [00:07<00:09,  3.50it/s]"
          ]
        },
        {
          "output_type": "stream",
          "name": "stdout",
          "text": [
            "Epoch 26/60, Loss: 0.011970999650657177\n"
          ]
        },
        {
          "output_type": "stream",
          "name": "stderr",
          "text": [
            "Training for mask_edges, mask ratio 0.3:  45%|████▌     | 27/60 [00:07<00:09,  3.58it/s]"
          ]
        },
        {
          "output_type": "stream",
          "name": "stdout",
          "text": [
            "Epoch 27/60, Loss: 0.011964909732341766\n"
          ]
        },
        {
          "output_type": "stream",
          "name": "stderr",
          "text": [
            "Training for mask_edges, mask ratio 0.3:  47%|████▋     | 28/60 [00:08<00:08,  3.63it/s]"
          ]
        },
        {
          "output_type": "stream",
          "name": "stdout",
          "text": [
            "Epoch 28/60, Loss: 0.011956149712204933\n"
          ]
        },
        {
          "output_type": "stream",
          "name": "stderr",
          "text": [
            "Training for mask_edges, mask ratio 0.3:  48%|████▊     | 29/60 [00:08<00:08,  3.56it/s]"
          ]
        },
        {
          "output_type": "stream",
          "name": "stdout",
          "text": [
            "Epoch 29/60, Loss: 0.011948607861995697\n"
          ]
        },
        {
          "output_type": "stream",
          "name": "stderr",
          "text": [
            "Training for mask_edges, mask ratio 0.3:  50%|█████     | 30/60 [00:08<00:08,  3.62it/s]"
          ]
        },
        {
          "output_type": "stream",
          "name": "stdout",
          "text": [
            "Epoch 30/60, Loss: 0.011943317018449306\n"
          ]
        },
        {
          "output_type": "stream",
          "name": "stderr",
          "text": [
            "Training for mask_edges, mask ratio 0.3:  52%|█████▏    | 31/60 [00:08<00:07,  3.67it/s]"
          ]
        },
        {
          "output_type": "stream",
          "name": "stdout",
          "text": [
            "Epoch 31/60, Loss: 0.011937403120100498\n"
          ]
        },
        {
          "output_type": "stream",
          "name": "stderr",
          "text": [
            "Training for mask_edges, mask ratio 0.3:  53%|█████▎    | 32/60 [00:09<00:07,  3.65it/s]"
          ]
        },
        {
          "output_type": "stream",
          "name": "stdout",
          "text": [
            "Epoch 32/60, Loss: 0.011929737403988838\n"
          ]
        },
        {
          "output_type": "stream",
          "name": "stderr",
          "text": [
            "Training for mask_edges, mask ratio 0.3:  55%|█████▌    | 33/60 [00:09<00:07,  3.57it/s]"
          ]
        },
        {
          "output_type": "stream",
          "name": "stdout",
          "text": [
            "Epoch 33/60, Loss: 0.011923611164093018\n"
          ]
        },
        {
          "output_type": "stream",
          "name": "stderr",
          "text": [
            "Training for mask_edges, mask ratio 0.3:  57%|█████▋    | 34/60 [00:09<00:07,  3.64it/s]"
          ]
        },
        {
          "output_type": "stream",
          "name": "stdout",
          "text": [
            "Epoch 34/60, Loss: 0.011918478645384312\n"
          ]
        },
        {
          "output_type": "stream",
          "name": "stderr",
          "text": [
            "Training for mask_edges, mask ratio 0.3:  58%|█████▊    | 35/60 [00:10<00:06,  3.65it/s]"
          ]
        },
        {
          "output_type": "stream",
          "name": "stdout",
          "text": [
            "Epoch 35/60, Loss: 0.011913693509995937\n"
          ]
        },
        {
          "output_type": "stream",
          "name": "stderr",
          "text": [
            "Training for mask_edges, mask ratio 0.3:  60%|██████    | 36/60 [00:10<00:06,  3.65it/s]"
          ]
        },
        {
          "output_type": "stream",
          "name": "stdout",
          "text": [
            "Epoch 36/60, Loss: 0.01190835889428854\n"
          ]
        },
        {
          "output_type": "stream",
          "name": "stderr",
          "text": [
            "Training for mask_edges, mask ratio 0.3:  62%|██████▏   | 37/60 [00:10<00:06,  3.44it/s]"
          ]
        },
        {
          "output_type": "stream",
          "name": "stdout",
          "text": [
            "Epoch 37/60, Loss: 0.011904474347829819\n"
          ]
        },
        {
          "output_type": "stream",
          "name": "stderr",
          "text": [
            "Training for mask_edges, mask ratio 0.3:  63%|██████▎   | 38/60 [00:11<00:08,  2.54it/s]"
          ]
        },
        {
          "output_type": "stream",
          "name": "stdout",
          "text": [
            "Epoch 38/60, Loss: 0.011899743229150772\n"
          ]
        },
        {
          "output_type": "stream",
          "name": "stderr",
          "text": [
            "Training for mask_edges, mask ratio 0.3:  65%|██████▌   | 39/60 [00:11<00:08,  2.58it/s]"
          ]
        },
        {
          "output_type": "stream",
          "name": "stdout",
          "text": [
            "Epoch 39/60, Loss: 0.01189663726836443\n"
          ]
        },
        {
          "output_type": "stream",
          "name": "stderr",
          "text": [
            "Training for mask_edges, mask ratio 0.3:  67%|██████▋   | 40/60 [00:12<00:07,  2.64it/s]"
          ]
        },
        {
          "output_type": "stream",
          "name": "stdout",
          "text": [
            "Epoch 40/60, Loss: 0.011892257258296013\n"
          ]
        },
        {
          "output_type": "stream",
          "name": "stderr",
          "text": [
            "Training for mask_edges, mask ratio 0.3:  68%|██████▊   | 41/60 [00:12<00:07,  2.60it/s]"
          ]
        },
        {
          "output_type": "stream",
          "name": "stdout",
          "text": [
            "Epoch 41/60, Loss: 0.011887838132679462\n"
          ]
        },
        {
          "output_type": "stream",
          "name": "stderr",
          "text": [
            "Training for mask_edges, mask ratio 0.3:  70%|███████   | 42/60 [00:12<00:06,  2.61it/s]"
          ]
        },
        {
          "output_type": "stream",
          "name": "stdout",
          "text": [
            "Epoch 42/60, Loss: 0.011886135675013065\n"
          ]
        },
        {
          "output_type": "stream",
          "name": "stderr",
          "text": [
            "Training for mask_edges, mask ratio 0.3:  72%|███████▏  | 43/60 [00:13<00:06,  2.63it/s]"
          ]
        },
        {
          "output_type": "stream",
          "name": "stdout",
          "text": [
            "Epoch 43/60, Loss: 0.011883100494742393\n"
          ]
        },
        {
          "output_type": "stream",
          "name": "stderr",
          "text": [
            "Training for mask_edges, mask ratio 0.3:  73%|███████▎  | 44/60 [00:13<00:06,  2.57it/s]"
          ]
        },
        {
          "output_type": "stream",
          "name": "stdout",
          "text": [
            "Epoch 44/60, Loss: 0.011880624108016491\n"
          ]
        },
        {
          "output_type": "stream",
          "name": "stderr",
          "text": [
            "Training for mask_edges, mask ratio 0.3:  75%|███████▌  | 45/60 [00:13<00:05,  2.63it/s]"
          ]
        },
        {
          "output_type": "stream",
          "name": "stdout",
          "text": [
            "Epoch 45/60, Loss: 0.011880027130246162\n"
          ]
        },
        {
          "output_type": "stream",
          "name": "stderr",
          "text": [
            "Training for mask_edges, mask ratio 0.3:  77%|███████▋  | 46/60 [00:14<00:04,  2.86it/s]"
          ]
        },
        {
          "output_type": "stream",
          "name": "stdout",
          "text": [
            "Epoch 46/60, Loss: 0.011877636425197124\n"
          ]
        },
        {
          "output_type": "stream",
          "name": "stderr",
          "text": [
            "Training for mask_edges, mask ratio 0.3:  78%|███████▊  | 47/60 [00:14<00:04,  3.01it/s]"
          ]
        },
        {
          "output_type": "stream",
          "name": "stdout",
          "text": [
            "Epoch 47/60, Loss: 0.011875436641275883\n"
          ]
        },
        {
          "output_type": "stream",
          "name": "stderr",
          "text": [
            "Training for mask_edges, mask ratio 0.3:  80%|████████  | 48/60 [00:14<00:03,  3.15it/s]"
          ]
        },
        {
          "output_type": "stream",
          "name": "stdout",
          "text": [
            "Epoch 48/60, Loss: 0.011873774230480194\n"
          ]
        },
        {
          "output_type": "stream",
          "name": "stderr",
          "text": [
            "Training for mask_edges, mask ratio 0.3:  82%|████████▏ | 49/60 [00:15<00:03,  3.31it/s]"
          ]
        },
        {
          "output_type": "stream",
          "name": "stdout",
          "text": [
            "Epoch 49/60, Loss: 0.011873507872223854\n"
          ]
        },
        {
          "output_type": "stream",
          "name": "stderr",
          "text": [
            "Training for mask_edges, mask ratio 0.3:  83%|████████▎ | 50/60 [00:15<00:02,  3.40it/s]"
          ]
        },
        {
          "output_type": "stream",
          "name": "stdout",
          "text": [
            "Epoch 50/60, Loss: 0.011870916932821274\n"
          ]
        },
        {
          "output_type": "stream",
          "name": "stderr",
          "text": [
            "Training for mask_edges, mask ratio 0.3:  85%|████████▌ | 51/60 [00:15<00:02,  3.51it/s]"
          ]
        },
        {
          "output_type": "stream",
          "name": "stdout",
          "text": [
            "Epoch 51/60, Loss: 0.01187115628272295\n"
          ]
        },
        {
          "output_type": "stream",
          "name": "stderr",
          "text": [
            "Training for mask_edges, mask ratio 0.3:  87%|████████▋ | 52/60 [00:15<00:02,  3.57it/s]"
          ]
        },
        {
          "output_type": "stream",
          "name": "stdout",
          "text": [
            "Epoch 52/60, Loss: 0.01186978816986084\n"
          ]
        },
        {
          "output_type": "stream",
          "name": "stderr",
          "text": [
            "Training for mask_edges, mask ratio 0.3:  88%|████████▊ | 53/60 [00:16<00:01,  3.61it/s]"
          ]
        },
        {
          "output_type": "stream",
          "name": "stdout",
          "text": [
            "Epoch 53/60, Loss: 0.011869586072862148\n"
          ]
        },
        {
          "output_type": "stream",
          "name": "stderr",
          "text": [
            "Training for mask_edges, mask ratio 0.3:  90%|█████████ | 54/60 [00:16<00:01,  3.56it/s]"
          ]
        },
        {
          "output_type": "stream",
          "name": "stdout",
          "text": [
            "Epoch 54/60, Loss: 0.011869853362441063\n"
          ]
        },
        {
          "output_type": "stream",
          "name": "stderr",
          "text": [
            "Training for mask_edges, mask ratio 0.3:  92%|█████████▏| 55/60 [00:16<00:01,  3.61it/s]"
          ]
        },
        {
          "output_type": "stream",
          "name": "stdout",
          "text": [
            "Epoch 55/60, Loss: 0.011865111067891121\n"
          ]
        },
        {
          "output_type": "stream",
          "name": "stderr",
          "text": [
            "Training for mask_edges, mask ratio 0.3:  93%|█████████▎| 56/60 [00:16<00:01,  3.63it/s]"
          ]
        },
        {
          "output_type": "stream",
          "name": "stdout",
          "text": [
            "Epoch 56/60, Loss: 0.011865530163049698\n"
          ]
        },
        {
          "output_type": "stream",
          "name": "stderr",
          "text": [
            "Training for mask_edges, mask ratio 0.3:  95%|█████████▌| 57/60 [00:17<00:00,  3.58it/s]"
          ]
        },
        {
          "output_type": "stream",
          "name": "stdout",
          "text": [
            "Epoch 57/60, Loss: 0.011864019557833672\n"
          ]
        },
        {
          "output_type": "stream",
          "name": "stderr",
          "text": [
            "Training for mask_edges, mask ratio 0.3:  97%|█████████▋| 58/60 [00:17<00:00,  3.55it/s]"
          ]
        },
        {
          "output_type": "stream",
          "name": "stdout",
          "text": [
            "Epoch 58/60, Loss: 0.011862916871905327\n"
          ]
        },
        {
          "output_type": "stream",
          "name": "stderr",
          "text": [
            "Training for mask_edges, mask ratio 0.3:  98%|█████████▊| 59/60 [00:17<00:00,  3.55it/s]"
          ]
        },
        {
          "output_type": "stream",
          "name": "stdout",
          "text": [
            "Epoch 59/60, Loss: 0.011863217689096928\n"
          ]
        },
        {
          "output_type": "stream",
          "name": "stderr",
          "text": [
            "Training for mask_edges, mask ratio 0.3: 100%|██████████| 60/60 [00:18<00:00,  3.32it/s]\n"
          ]
        },
        {
          "output_type": "stream",
          "name": "stdout",
          "text": [
            "Epoch 60/60, Loss: 0.011859990656375885\n",
            "Training with mask ratio: 0.5 using mask_edges strategy\n"
          ]
        },
        {
          "output_type": "stream",
          "name": "stderr",
          "text": [
            "Training for mask_edges, mask ratio 0.5:   2%|▏         | 1/60 [00:00<00:19,  2.95it/s]"
          ]
        },
        {
          "output_type": "stream",
          "name": "stdout",
          "text": [
            "Epoch 1/60, Loss: 0.012730126269161701\n"
          ]
        },
        {
          "output_type": "stream",
          "name": "stderr",
          "text": [
            "Training for mask_edges, mask ratio 0.5:   3%|▎         | 2/60 [00:00<00:18,  3.22it/s]"
          ]
        },
        {
          "output_type": "stream",
          "name": "stdout",
          "text": [
            "Epoch 2/60, Loss: 0.012553487904369831\n"
          ]
        },
        {
          "output_type": "stream",
          "name": "stderr",
          "text": [
            "Training for mask_edges, mask ratio 0.5:   5%|▌         | 3/60 [00:00<00:16,  3.38it/s]"
          ]
        },
        {
          "output_type": "stream",
          "name": "stdout",
          "text": [
            "Epoch 3/60, Loss: 0.012432960793375969\n"
          ]
        },
        {
          "output_type": "stream",
          "name": "stderr",
          "text": [
            "Training for mask_edges, mask ratio 0.5:   7%|▋         | 4/60 [00:01<00:16,  3.36it/s]"
          ]
        },
        {
          "output_type": "stream",
          "name": "stdout",
          "text": [
            "Epoch 4/60, Loss: 0.012347348965704441\n"
          ]
        },
        {
          "output_type": "stream",
          "name": "stderr",
          "text": [
            "Training for mask_edges, mask ratio 0.5:   8%|▊         | 5/60 [00:01<00:16,  3.43it/s]"
          ]
        },
        {
          "output_type": "stream",
          "name": "stdout",
          "text": [
            "Epoch 5/60, Loss: 0.012296813540160656\n"
          ]
        },
        {
          "output_type": "stream",
          "name": "stderr",
          "text": [
            "Training for mask_edges, mask ratio 0.5:  10%|█         | 6/60 [00:01<00:15,  3.39it/s]"
          ]
        },
        {
          "output_type": "stream",
          "name": "stdout",
          "text": [
            "Epoch 6/60, Loss: 0.012263142503798008\n"
          ]
        },
        {
          "output_type": "stream",
          "name": "stderr",
          "text": [
            "Training for mask_edges, mask ratio 0.5:  12%|█▏        | 7/60 [00:02<00:15,  3.43it/s]"
          ]
        },
        {
          "output_type": "stream",
          "name": "stdout",
          "text": [
            "Epoch 7/60, Loss: 0.012232547625899315\n"
          ]
        },
        {
          "output_type": "stream",
          "name": "stderr",
          "text": [
            "Training for mask_edges, mask ratio 0.5:  13%|█▎        | 8/60 [00:02<00:15,  3.31it/s]"
          ]
        },
        {
          "output_type": "stream",
          "name": "stdout",
          "text": [
            "Epoch 8/60, Loss: 0.012202627956867218\n"
          ]
        },
        {
          "output_type": "stream",
          "name": "stderr",
          "text": [
            "Training for mask_edges, mask ratio 0.5:  15%|█▌        | 9/60 [00:02<00:15,  3.37it/s]"
          ]
        },
        {
          "output_type": "stream",
          "name": "stdout",
          "text": [
            "Epoch 9/60, Loss: 0.012176111340522766\n"
          ]
        },
        {
          "output_type": "stream",
          "name": "stderr",
          "text": [
            "Training for mask_edges, mask ratio 0.5:  17%|█▋        | 10/60 [00:02<00:14,  3.42it/s]"
          ]
        },
        {
          "output_type": "stream",
          "name": "stdout",
          "text": [
            "Epoch 10/60, Loss: 0.01215553842484951\n"
          ]
        },
        {
          "output_type": "stream",
          "name": "stderr",
          "text": [
            "Training for mask_edges, mask ratio 0.5:  18%|█▊        | 11/60 [00:03<00:14,  3.36it/s]"
          ]
        },
        {
          "output_type": "stream",
          "name": "stdout",
          "text": [
            "Epoch 11/60, Loss: 0.012139877304434776\n"
          ]
        },
        {
          "output_type": "stream",
          "name": "stderr",
          "text": [
            "Training for mask_edges, mask ratio 0.5:  20%|██        | 12/60 [00:03<00:13,  3.44it/s]"
          ]
        },
        {
          "output_type": "stream",
          "name": "stdout",
          "text": [
            "Epoch 12/60, Loss: 0.012125533074140549\n"
          ]
        },
        {
          "output_type": "stream",
          "name": "stderr",
          "text": [
            "Training for mask_edges, mask ratio 0.5:  22%|██▏       | 13/60 [00:03<00:13,  3.39it/s]"
          ]
        },
        {
          "output_type": "stream",
          "name": "stdout",
          "text": [
            "Epoch 13/60, Loss: 0.012109974399209023\n"
          ]
        },
        {
          "output_type": "stream",
          "name": "stderr",
          "text": [
            "Training for mask_edges, mask ratio 0.5:  23%|██▎       | 14/60 [00:04<00:13,  3.42it/s]"
          ]
        },
        {
          "output_type": "stream",
          "name": "stdout",
          "text": [
            "Epoch 14/60, Loss: 0.012093567289412022\n"
          ]
        },
        {
          "output_type": "stream",
          "name": "stderr",
          "text": [
            "Training for mask_edges, mask ratio 0.5:  25%|██▌       | 15/60 [00:04<00:13,  3.37it/s]"
          ]
        },
        {
          "output_type": "stream",
          "name": "stdout",
          "text": [
            "Epoch 15/60, Loss: 0.012078063562512398\n"
          ]
        },
        {
          "output_type": "stream",
          "name": "stderr",
          "text": [
            "Training for mask_edges, mask ratio 0.5:  27%|██▋       | 16/60 [00:04<00:12,  3.41it/s]"
          ]
        },
        {
          "output_type": "stream",
          "name": "stdout",
          "text": [
            "Epoch 16/60, Loss: 0.012064383365213871\n"
          ]
        },
        {
          "output_type": "stream",
          "name": "stderr",
          "text": [
            "Training for mask_edges, mask ratio 0.5:  28%|██▊       | 17/60 [00:05<00:12,  3.44it/s]"
          ]
        },
        {
          "output_type": "stream",
          "name": "stdout",
          "text": [
            "Epoch 17/60, Loss: 0.012053059414029121\n"
          ]
        },
        {
          "output_type": "stream",
          "name": "stderr",
          "text": [
            "Training for mask_edges, mask ratio 0.5:  30%|███       | 18/60 [00:05<00:15,  2.78it/s]"
          ]
        },
        {
          "output_type": "stream",
          "name": "stdout",
          "text": [
            "Epoch 18/60, Loss: 0.01204294990748167\n"
          ]
        },
        {
          "output_type": "stream",
          "name": "stderr",
          "text": [
            "Training for mask_edges, mask ratio 0.5:  32%|███▏      | 19/60 [00:05<00:14,  2.91it/s]"
          ]
        },
        {
          "output_type": "stream",
          "name": "stdout",
          "text": [
            "Epoch 19/60, Loss: 0.012033315375447273\n"
          ]
        },
        {
          "output_type": "stream",
          "name": "stderr",
          "text": [
            "Training for mask_edges, mask ratio 0.5:  33%|███▎      | 20/60 [00:06<00:14,  2.75it/s]"
          ]
        },
        {
          "output_type": "stream",
          "name": "stdout",
          "text": [
            "Epoch 20/60, Loss: 0.01202438585460186\n"
          ]
        },
        {
          "output_type": "stream",
          "name": "stderr",
          "text": [
            "Training for mask_edges, mask ratio 0.5:  35%|███▌      | 21/60 [00:06<00:14,  2.63it/s]"
          ]
        },
        {
          "output_type": "stream",
          "name": "stdout",
          "text": [
            "Epoch 21/60, Loss: 0.012016141787171364\n"
          ]
        },
        {
          "output_type": "stream",
          "name": "stderr",
          "text": [
            "Training for mask_edges, mask ratio 0.5:  37%|███▋      | 22/60 [00:07<00:14,  2.56it/s]"
          ]
        },
        {
          "output_type": "stream",
          "name": "stdout",
          "text": [
            "Epoch 22/60, Loss: 0.012008816003799438\n"
          ]
        },
        {
          "output_type": "stream",
          "name": "stderr",
          "text": [
            "Training for mask_edges, mask ratio 0.5:  38%|███▊      | 23/60 [00:07<00:14,  2.53it/s]"
          ]
        },
        {
          "output_type": "stream",
          "name": "stdout",
          "text": [
            "Epoch 23/60, Loss: 0.012002767994999886\n"
          ]
        },
        {
          "output_type": "stream",
          "name": "stderr",
          "text": [
            "Training for mask_edges, mask ratio 0.5:  40%|████      | 24/60 [00:07<00:14,  2.46it/s]"
          ]
        },
        {
          "output_type": "stream",
          "name": "stdout",
          "text": [
            "Epoch 24/60, Loss: 0.011997333727777004\n"
          ]
        },
        {
          "output_type": "stream",
          "name": "stderr",
          "text": [
            "Training for mask_edges, mask ratio 0.5:  42%|████▏     | 25/60 [00:08<00:14,  2.45it/s]"
          ]
        },
        {
          "output_type": "stream",
          "name": "stdout",
          "text": [
            "Epoch 25/60, Loss: 0.011992327868938446\n"
          ]
        },
        {
          "output_type": "stream",
          "name": "stderr",
          "text": [
            "Training for mask_edges, mask ratio 0.5:  43%|████▎     | 26/60 [00:08<00:13,  2.47it/s]"
          ]
        },
        {
          "output_type": "stream",
          "name": "stdout",
          "text": [
            "Epoch 26/60, Loss: 0.011988108977675438\n"
          ]
        },
        {
          "output_type": "stream",
          "name": "stderr",
          "text": [
            "Training for mask_edges, mask ratio 0.5:  45%|████▌     | 27/60 [00:09<00:13,  2.42it/s]"
          ]
        },
        {
          "output_type": "stream",
          "name": "stdout",
          "text": [
            "Epoch 27/60, Loss: 0.011983981356024742\n"
          ]
        },
        {
          "output_type": "stream",
          "name": "stderr",
          "text": [
            "Training for mask_edges, mask ratio 0.5:  47%|████▋     | 28/60 [00:09<00:12,  2.59it/s]"
          ]
        },
        {
          "output_type": "stream",
          "name": "stdout",
          "text": [
            "Epoch 28/60, Loss: 0.011980505660176277\n"
          ]
        },
        {
          "output_type": "stream",
          "name": "stderr",
          "text": [
            "Training for mask_edges, mask ratio 0.5:  48%|████▊     | 29/60 [00:09<00:11,  2.81it/s]"
          ]
        },
        {
          "output_type": "stream",
          "name": "stdout",
          "text": [
            "Epoch 29/60, Loss: 0.011977408081293106\n"
          ]
        },
        {
          "output_type": "stream",
          "name": "stderr",
          "text": [
            "Training for mask_edges, mask ratio 0.5:  50%|█████     | 30/60 [00:10<00:10,  2.93it/s]"
          ]
        },
        {
          "output_type": "stream",
          "name": "stdout",
          "text": [
            "Epoch 30/60, Loss: 0.011974646709859371\n"
          ]
        },
        {
          "output_type": "stream",
          "name": "stderr",
          "text": [
            "Training for mask_edges, mask ratio 0.5:  52%|█████▏    | 31/60 [00:10<00:09,  3.03it/s]"
          ]
        },
        {
          "output_type": "stream",
          "name": "stdout",
          "text": [
            "Epoch 31/60, Loss: 0.011972149834036827\n"
          ]
        },
        {
          "output_type": "stream",
          "name": "stderr",
          "text": [
            "Training for mask_edges, mask ratio 0.5:  53%|█████▎    | 32/60 [00:10<00:08,  3.18it/s]"
          ]
        },
        {
          "output_type": "stream",
          "name": "stdout",
          "text": [
            "Epoch 32/60, Loss: 0.011969754472374916\n"
          ]
        },
        {
          "output_type": "stream",
          "name": "stderr",
          "text": [
            "Training for mask_edges, mask ratio 0.5:  55%|█████▌    | 33/60 [00:10<00:08,  3.29it/s]"
          ]
        },
        {
          "output_type": "stream",
          "name": "stdout",
          "text": [
            "Epoch 33/60, Loss: 0.011967740952968597\n"
          ]
        },
        {
          "output_type": "stream",
          "name": "stderr",
          "text": [
            "Training for mask_edges, mask ratio 0.5:  57%|█████▋    | 34/60 [00:11<00:07,  3.27it/s]"
          ]
        },
        {
          "output_type": "stream",
          "name": "stdout",
          "text": [
            "Epoch 34/60, Loss: 0.011965635232627392\n"
          ]
        },
        {
          "output_type": "stream",
          "name": "stderr",
          "text": [
            "Training for mask_edges, mask ratio 0.5:  58%|█████▊    | 35/60 [00:11<00:07,  3.35it/s]"
          ]
        },
        {
          "output_type": "stream",
          "name": "stdout",
          "text": [
            "Epoch 35/60, Loss: 0.011963969096541405\n"
          ]
        },
        {
          "output_type": "stream",
          "name": "stderr",
          "text": [
            "Training for mask_edges, mask ratio 0.5:  60%|██████    | 36/60 [00:11<00:07,  3.41it/s]"
          ]
        },
        {
          "output_type": "stream",
          "name": "stdout",
          "text": [
            "Epoch 36/60, Loss: 0.01196297537535429\n"
          ]
        },
        {
          "output_type": "stream",
          "name": "stderr",
          "text": [
            "Training for mask_edges, mask ratio 0.5:  62%|██████▏   | 37/60 [00:12<00:06,  3.41it/s]"
          ]
        },
        {
          "output_type": "stream",
          "name": "stdout",
          "text": [
            "Epoch 37/60, Loss: 0.011961649172008038\n"
          ]
        },
        {
          "output_type": "stream",
          "name": "stderr",
          "text": [
            "Training for mask_edges, mask ratio 0.5:  63%|██████▎   | 38/60 [00:12<00:06,  3.38it/s]"
          ]
        },
        {
          "output_type": "stream",
          "name": "stdout",
          "text": [
            "Epoch 38/60, Loss: 0.011960574425756931\n"
          ]
        },
        {
          "output_type": "stream",
          "name": "stderr",
          "text": [
            "Training for mask_edges, mask ratio 0.5:  65%|██████▌   | 39/60 [00:12<00:06,  3.41it/s]"
          ]
        },
        {
          "output_type": "stream",
          "name": "stdout",
          "text": [
            "Epoch 39/60, Loss: 0.011959437280893326\n"
          ]
        },
        {
          "output_type": "stream",
          "name": "stderr",
          "text": [
            "Training for mask_edges, mask ratio 0.5:  67%|██████▋   | 40/60 [00:12<00:05,  3.46it/s]"
          ]
        },
        {
          "output_type": "stream",
          "name": "stdout",
          "text": [
            "Epoch 40/60, Loss: 0.011958622373640537\n"
          ]
        },
        {
          "output_type": "stream",
          "name": "stderr",
          "text": [
            "Training for mask_edges, mask ratio 0.5:  68%|██████▊   | 41/60 [00:13<00:05,  3.37it/s]"
          ]
        },
        {
          "output_type": "stream",
          "name": "stdout",
          "text": [
            "Epoch 41/60, Loss: 0.011957956477999687\n"
          ]
        },
        {
          "output_type": "stream",
          "name": "stderr",
          "text": [
            "Training for mask_edges, mask ratio 0.5:  70%|███████   | 42/60 [00:13<00:05,  3.40it/s]"
          ]
        },
        {
          "output_type": "stream",
          "name": "stdout",
          "text": [
            "Epoch 42/60, Loss: 0.011957650072872639\n"
          ]
        },
        {
          "output_type": "stream",
          "name": "stderr",
          "text": [
            "Training for mask_edges, mask ratio 0.5:  72%|███████▏  | 43/60 [00:13<00:04,  3.43it/s]"
          ]
        },
        {
          "output_type": "stream",
          "name": "stdout",
          "text": [
            "Epoch 43/60, Loss: 0.011956539936363697\n"
          ]
        },
        {
          "output_type": "stream",
          "name": "stderr",
          "text": [
            "Training for mask_edges, mask ratio 0.5:  73%|███████▎  | 44/60 [00:14<00:04,  3.42it/s]"
          ]
        },
        {
          "output_type": "stream",
          "name": "stdout",
          "text": [
            "Epoch 44/60, Loss: 0.011956253089010715\n"
          ]
        },
        {
          "output_type": "stream",
          "name": "stderr",
          "text": [
            "Training for mask_edges, mask ratio 0.5:  75%|███████▌  | 45/60 [00:14<00:04,  3.43it/s]"
          ]
        },
        {
          "output_type": "stream",
          "name": "stdout",
          "text": [
            "Epoch 45/60, Loss: 0.01195624191313982\n"
          ]
        },
        {
          "output_type": "stream",
          "name": "stderr",
          "text": [
            "Training for mask_edges, mask ratio 0.5:  77%|███████▋  | 46/60 [00:14<00:04,  3.47it/s]"
          ]
        },
        {
          "output_type": "stream",
          "name": "stdout",
          "text": [
            "Epoch 46/60, Loss: 0.011955502443015575\n"
          ]
        },
        {
          "output_type": "stream",
          "name": "stderr",
          "text": [
            "Training for mask_edges, mask ratio 0.5:  78%|███████▊  | 47/60 [00:15<00:03,  3.48it/s]"
          ]
        },
        {
          "output_type": "stream",
          "name": "stdout",
          "text": [
            "Epoch 47/60, Loss: 0.011955476365983486\n"
          ]
        },
        {
          "output_type": "stream",
          "name": "stderr",
          "text": [
            "Training for mask_edges, mask ratio 0.5:  80%|████████  | 48/60 [00:15<00:03,  3.38it/s]"
          ]
        },
        {
          "output_type": "stream",
          "name": "stdout",
          "text": [
            "Epoch 48/60, Loss: 0.011955288238823414\n"
          ]
        },
        {
          "output_type": "stream",
          "name": "stderr",
          "text": [
            "Training for mask_edges, mask ratio 0.5:  82%|████████▏ | 49/60 [00:15<00:03,  3.40it/s]"
          ]
        },
        {
          "output_type": "stream",
          "name": "stdout",
          "text": [
            "Epoch 49/60, Loss: 0.011954765766859055\n"
          ]
        },
        {
          "output_type": "stream",
          "name": "stderr",
          "text": [
            "Training for mask_edges, mask ratio 0.5:  83%|████████▎ | 50/60 [00:15<00:02,  3.43it/s]"
          ]
        },
        {
          "output_type": "stream",
          "name": "stdout",
          "text": [
            "Epoch 50/60, Loss: 0.011954658664762974\n"
          ]
        },
        {
          "output_type": "stream",
          "name": "stderr",
          "text": [
            "Training for mask_edges, mask ratio 0.5:  85%|████████▌ | 51/60 [00:16<00:02,  3.40it/s]"
          ]
        },
        {
          "output_type": "stream",
          "name": "stdout",
          "text": [
            "Epoch 51/60, Loss: 0.011954735964536667\n"
          ]
        },
        {
          "output_type": "stream",
          "name": "stderr",
          "text": [
            "Training for mask_edges, mask ratio 0.5:  87%|████████▋ | 52/60 [00:16<00:02,  2.82it/s]"
          ]
        },
        {
          "output_type": "stream",
          "name": "stdout",
          "text": [
            "Epoch 52/60, Loss: 0.0119545366615057\n"
          ]
        },
        {
          "output_type": "stream",
          "name": "stderr",
          "text": [
            "Training for mask_edges, mask ratio 0.5:  88%|████████▊ | 53/60 [00:16<00:02,  2.99it/s]"
          ]
        },
        {
          "output_type": "stream",
          "name": "stdout",
          "text": [
            "Epoch 53/60, Loss: 0.011954120360314846\n"
          ]
        },
        {
          "output_type": "stream",
          "name": "stderr",
          "text": [
            "Training for mask_edges, mask ratio 0.5:  90%|█████████ | 54/60 [00:17<00:01,  3.06it/s]"
          ]
        },
        {
          "output_type": "stream",
          "name": "stdout",
          "text": [
            "Epoch 54/60, Loss: 0.011954175308346748\n"
          ]
        },
        {
          "output_type": "stream",
          "name": "stderr",
          "text": [
            "Training for mask_edges, mask ratio 0.5:  92%|█████████▏| 55/60 [00:17<00:01,  3.20it/s]"
          ]
        },
        {
          "output_type": "stream",
          "name": "stdout",
          "text": [
            "Epoch 55/60, Loss: 0.011954001151025295\n"
          ]
        },
        {
          "output_type": "stream",
          "name": "stderr",
          "text": [
            "Training for mask_edges, mask ratio 0.5:  93%|█████████▎| 56/60 [00:17<00:01,  3.30it/s]"
          ]
        },
        {
          "output_type": "stream",
          "name": "stdout",
          "text": [
            "Epoch 56/60, Loss: 0.011953381821513176\n"
          ]
        },
        {
          "output_type": "stream",
          "name": "stderr",
          "text": [
            "Training for mask_edges, mask ratio 0.5:  95%|█████████▌| 57/60 [00:18<00:00,  3.31it/s]"
          ]
        },
        {
          "output_type": "stream",
          "name": "stdout",
          "text": [
            "Epoch 57/60, Loss: 0.011953636072576046\n"
          ]
        },
        {
          "output_type": "stream",
          "name": "stderr",
          "text": [
            "Training for mask_edges, mask ratio 0.5:  97%|█████████▋| 58/60 [00:18<00:00,  3.31it/s]"
          ]
        },
        {
          "output_type": "stream",
          "name": "stdout",
          "text": [
            "Epoch 58/60, Loss: 0.011953754350543022\n"
          ]
        },
        {
          "output_type": "stream",
          "name": "stderr",
          "text": [
            "Training for mask_edges, mask ratio 0.5:  98%|█████████▊| 59/60 [00:18<00:00,  3.36it/s]"
          ]
        },
        {
          "output_type": "stream",
          "name": "stdout",
          "text": [
            "Epoch 59/60, Loss: 0.011953495442867279\n"
          ]
        },
        {
          "output_type": "stream",
          "name": "stderr",
          "text": [
            "Training for mask_edges, mask ratio 0.5: 100%|██████████| 60/60 [00:19<00:00,  3.15it/s]\n"
          ]
        },
        {
          "output_type": "stream",
          "name": "stdout",
          "text": [
            "Epoch 60/60, Loss: 0.011953410692512989\n",
            "Training with mask ratio: 0.7 using mask_edges strategy\n"
          ]
        },
        {
          "output_type": "stream",
          "name": "stderr",
          "text": [
            "Training for mask_edges, mask ratio 0.7:   2%|▏         | 1/60 [00:00<00:20,  2.84it/s]"
          ]
        },
        {
          "output_type": "stream",
          "name": "stdout",
          "text": [
            "Epoch 1/60, Loss: 0.012784435413777828\n"
          ]
        },
        {
          "output_type": "stream",
          "name": "stderr",
          "text": [
            "Training for mask_edges, mask ratio 0.7:   3%|▎         | 2/60 [00:00<00:23,  2.51it/s]"
          ]
        },
        {
          "output_type": "stream",
          "name": "stdout",
          "text": [
            "Epoch 2/60, Loss: 0.012566653080284595\n"
          ]
        },
        {
          "output_type": "stream",
          "name": "stderr",
          "text": [
            "Training for mask_edges, mask ratio 0.7:   5%|▌         | 3/60 [00:01<00:23,  2.44it/s]"
          ]
        },
        {
          "output_type": "stream",
          "name": "stdout",
          "text": [
            "Epoch 3/60, Loss: 0.012455366551876068\n"
          ]
        },
        {
          "output_type": "stream",
          "name": "stderr",
          "text": [
            "Training for mask_edges, mask ratio 0.7:   7%|▋         | 4/60 [00:01<00:23,  2.40it/s]"
          ]
        },
        {
          "output_type": "stream",
          "name": "stdout",
          "text": [
            "Epoch 4/60, Loss: 0.012362021952867508\n"
          ]
        },
        {
          "output_type": "stream",
          "name": "stderr",
          "text": [
            "Training for mask_edges, mask ratio 0.7:   8%|▊         | 5/60 [00:02<00:23,  2.32it/s]"
          ]
        },
        {
          "output_type": "stream",
          "name": "stdout",
          "text": [
            "Epoch 5/60, Loss: 0.012301071546971798\n"
          ]
        },
        {
          "output_type": "stream",
          "name": "stderr",
          "text": [
            "Training for mask_edges, mask ratio 0.7:  10%|█         | 6/60 [00:02<00:24,  2.21it/s]"
          ]
        },
        {
          "output_type": "stream",
          "name": "stdout",
          "text": [
            "Epoch 6/60, Loss: 0.012263797223567963\n"
          ]
        },
        {
          "output_type": "stream",
          "name": "stderr",
          "text": [
            "Training for mask_edges, mask ratio 0.7:  12%|█▏        | 7/60 [00:03<00:23,  2.24it/s]"
          ]
        },
        {
          "output_type": "stream",
          "name": "stdout",
          "text": [
            "Epoch 7/60, Loss: 0.012236577458679676\n"
          ]
        },
        {
          "output_type": "stream",
          "name": "stderr",
          "text": [
            "Training for mask_edges, mask ratio 0.7:  13%|█▎        | 8/60 [00:03<00:23,  2.24it/s]"
          ]
        },
        {
          "output_type": "stream",
          "name": "stdout",
          "text": [
            "Epoch 8/60, Loss: 0.012212258763611317\n"
          ]
        },
        {
          "output_type": "stream",
          "name": "stderr",
          "text": [
            "Training for mask_edges, mask ratio 0.7:  15%|█▌        | 9/60 [00:03<00:22,  2.27it/s]"
          ]
        },
        {
          "output_type": "stream",
          "name": "stdout",
          "text": [
            "Epoch 9/60, Loss: 0.012188779190182686\n"
          ]
        },
        {
          "output_type": "stream",
          "name": "stderr",
          "text": [
            "Training for mask_edges, mask ratio 0.7:  17%|█▋        | 10/60 [00:04<00:20,  2.49it/s]"
          ]
        },
        {
          "output_type": "stream",
          "name": "stdout",
          "text": [
            "Epoch 10/60, Loss: 0.01216672733426094\n"
          ]
        },
        {
          "output_type": "stream",
          "name": "stderr",
          "text": [
            "Training for mask_edges, mask ratio 0.7:  18%|█▊        | 11/60 [00:04<00:18,  2.70it/s]"
          ]
        },
        {
          "output_type": "stream",
          "name": "stdout",
          "text": [
            "Epoch 11/60, Loss: 0.012147310189902782\n"
          ]
        },
        {
          "output_type": "stream",
          "name": "stderr",
          "text": [
            "Training for mask_edges, mask ratio 0.7:  20%|██        | 12/60 [00:04<00:16,  2.85it/s]"
          ]
        },
        {
          "output_type": "stream",
          "name": "stdout",
          "text": [
            "Epoch 12/60, Loss: 0.012130259536206722\n"
          ]
        },
        {
          "output_type": "stream",
          "name": "stderr",
          "text": [
            "Training for mask_edges, mask ratio 0.7:  22%|██▏       | 13/60 [00:05<00:15,  2.97it/s]"
          ]
        },
        {
          "output_type": "stream",
          "name": "stdout",
          "text": [
            "Epoch 13/60, Loss: 0.012114780023694038\n"
          ]
        },
        {
          "output_type": "stream",
          "name": "stderr",
          "text": [
            "Training for mask_edges, mask ratio 0.7:  23%|██▎       | 14/60 [00:05<00:14,  3.07it/s]"
          ]
        },
        {
          "output_type": "stream",
          "name": "stdout",
          "text": [
            "Epoch 14/60, Loss: 0.012100541964173317\n"
          ]
        },
        {
          "output_type": "stream",
          "name": "stderr",
          "text": [
            "Training for mask_edges, mask ratio 0.7:  25%|██▌       | 15/60 [00:05<00:14,  3.11it/s]"
          ]
        },
        {
          "output_type": "stream",
          "name": "stdout",
          "text": [
            "Epoch 15/60, Loss: 0.012086818926036358\n"
          ]
        },
        {
          "output_type": "stream",
          "name": "stderr",
          "text": [
            "Training for mask_edges, mask ratio 0.7:  27%|██▋       | 16/60 [00:06<00:16,  2.64it/s]"
          ]
        },
        {
          "output_type": "stream",
          "name": "stdout",
          "text": [
            "Epoch 16/60, Loss: 0.01207433920353651\n"
          ]
        },
        {
          "output_type": "stream",
          "name": "stderr",
          "text": [
            "Training for mask_edges, mask ratio 0.7:  28%|██▊       | 17/60 [00:06<00:15,  2.83it/s]"
          ]
        },
        {
          "output_type": "stream",
          "name": "stdout",
          "text": [
            "Epoch 17/60, Loss: 0.01206249464303255\n"
          ]
        },
        {
          "output_type": "stream",
          "name": "stderr",
          "text": [
            "Training for mask_edges, mask ratio 0.7:  30%|███       | 18/60 [00:06<00:14,  2.96it/s]"
          ]
        },
        {
          "output_type": "stream",
          "name": "stdout",
          "text": [
            "Epoch 18/60, Loss: 0.012051726691424847\n"
          ]
        },
        {
          "output_type": "stream",
          "name": "stderr",
          "text": [
            "Training for mask_edges, mask ratio 0.7:  32%|███▏      | 19/60 [00:07<00:13,  3.01it/s]"
          ]
        },
        {
          "output_type": "stream",
          "name": "stdout",
          "text": [
            "Epoch 19/60, Loss: 0.012041120789945126\n"
          ]
        },
        {
          "output_type": "stream",
          "name": "stderr",
          "text": [
            "Training for mask_edges, mask ratio 0.7:  33%|███▎      | 20/60 [00:07<00:14,  2.74it/s]"
          ]
        },
        {
          "output_type": "stream",
          "name": "stdout",
          "text": [
            "Epoch 20/60, Loss: 0.01203138753771782\n"
          ]
        },
        {
          "output_type": "stream",
          "name": "stderr",
          "text": [
            "Training for mask_edges, mask ratio 0.7:  35%|███▌      | 21/60 [00:08<00:15,  2.55it/s]"
          ]
        },
        {
          "output_type": "stream",
          "name": "stdout",
          "text": [
            "Epoch 21/60, Loss: 0.01202272716909647\n"
          ]
        },
        {
          "output_type": "stream",
          "name": "stderr",
          "text": [
            "Training for mask_edges, mask ratio 0.7:  37%|███▋      | 22/60 [00:08<00:15,  2.39it/s]"
          ]
        },
        {
          "output_type": "stream",
          "name": "stdout",
          "text": [
            "Epoch 22/60, Loss: 0.012015477754175663\n"
          ]
        },
        {
          "output_type": "stream",
          "name": "stderr",
          "text": [
            "Training for mask_edges, mask ratio 0.7:  38%|███▊      | 23/60 [00:08<00:15,  2.32it/s]"
          ]
        },
        {
          "output_type": "stream",
          "name": "stdout",
          "text": [
            "Epoch 23/60, Loss: 0.012009416706860065\n"
          ]
        },
        {
          "output_type": "stream",
          "name": "stderr",
          "text": [
            "Training for mask_edges, mask ratio 0.7:  40%|████      | 24/60 [00:09<00:15,  2.25it/s]"
          ]
        },
        {
          "output_type": "stream",
          "name": "stdout",
          "text": [
            "Epoch 24/60, Loss: 0.012004134245216846\n"
          ]
        },
        {
          "output_type": "stream",
          "name": "stderr",
          "text": [
            "Training for mask_edges, mask ratio 0.7:  42%|████▏     | 25/60 [00:09<00:15,  2.22it/s]"
          ]
        },
        {
          "output_type": "stream",
          "name": "stdout",
          "text": [
            "Epoch 25/60, Loss: 0.011999174952507019\n"
          ]
        },
        {
          "output_type": "stream",
          "name": "stderr",
          "text": [
            "Training for mask_edges, mask ratio 0.7:  43%|████▎     | 26/60 [00:10<00:15,  2.15it/s]"
          ]
        },
        {
          "output_type": "stream",
          "name": "stdout",
          "text": [
            "Epoch 26/60, Loss: 0.01199440099298954\n"
          ]
        },
        {
          "output_type": "stream",
          "name": "stderr",
          "text": [
            "Training for mask_edges, mask ratio 0.7:  45%|████▌     | 27/60 [00:10<00:15,  2.14it/s]"
          ]
        },
        {
          "output_type": "stream",
          "name": "stdout",
          "text": [
            "Epoch 27/60, Loss: 0.01199023425579071\n"
          ]
        },
        {
          "output_type": "stream",
          "name": "stderr",
          "text": [
            "Training for mask_edges, mask ratio 0.7:  47%|████▋     | 28/60 [00:11<00:15,  2.12it/s]"
          ]
        },
        {
          "output_type": "stream",
          "name": "stdout",
          "text": [
            "Epoch 28/60, Loss: 0.011986318044364452\n"
          ]
        },
        {
          "output_type": "stream",
          "name": "stderr",
          "text": [
            "Training for mask_edges, mask ratio 0.7:  48%|████▊     | 29/60 [00:12<00:20,  1.50it/s]"
          ]
        },
        {
          "output_type": "stream",
          "name": "stdout",
          "text": [
            "Epoch 29/60, Loss: 0.011982970871031284\n"
          ]
        },
        {
          "output_type": "stream",
          "name": "stderr",
          "text": [
            "Training for mask_edges, mask ratio 0.7:  50%|█████     | 30/60 [00:13<00:18,  1.62it/s]"
          ]
        },
        {
          "output_type": "stream",
          "name": "stdout",
          "text": [
            "Epoch 30/60, Loss: 0.011980187147855759\n"
          ]
        },
        {
          "output_type": "stream",
          "name": "stderr",
          "text": [
            "Training for mask_edges, mask ratio 0.7:  52%|█████▏    | 31/60 [00:13<00:16,  1.73it/s]"
          ]
        },
        {
          "output_type": "stream",
          "name": "stdout",
          "text": [
            "Epoch 31/60, Loss: 0.011977766640484333\n"
          ]
        },
        {
          "output_type": "stream",
          "name": "stderr",
          "text": [
            "Training for mask_edges, mask ratio 0.7:  53%|█████▎    | 32/60 [00:14<00:20,  1.36it/s]"
          ]
        },
        {
          "output_type": "stream",
          "name": "stdout",
          "text": [
            "Epoch 32/60, Loss: 0.01197509840130806\n"
          ]
        },
        {
          "output_type": "stream",
          "name": "stderr",
          "text": [
            "Training for mask_edges, mask ratio 0.7:  55%|█████▌    | 33/60 [00:15<00:20,  1.30it/s]"
          ]
        },
        {
          "output_type": "stream",
          "name": "stdout",
          "text": [
            "Epoch 33/60, Loss: 0.011972504667937756\n"
          ]
        },
        {
          "output_type": "stream",
          "name": "stderr",
          "text": [
            "Training for mask_edges, mask ratio 0.7:  57%|█████▋    | 34/60 [00:16<00:20,  1.30it/s]"
          ]
        },
        {
          "output_type": "stream",
          "name": "stdout",
          "text": [
            "Epoch 34/60, Loss: 0.01197056658565998\n"
          ]
        },
        {
          "output_type": "stream",
          "name": "stderr",
          "text": [
            "Training for mask_edges, mask ratio 0.7:  58%|█████▊    | 35/60 [00:16<00:17,  1.42it/s]"
          ]
        },
        {
          "output_type": "stream",
          "name": "stdout",
          "text": [
            "Epoch 35/60, Loss: 0.011968773789703846\n"
          ]
        },
        {
          "output_type": "stream",
          "name": "stderr",
          "text": [
            "Training for mask_edges, mask ratio 0.7:  60%|██████    | 36/60 [00:17<00:18,  1.27it/s]"
          ]
        },
        {
          "output_type": "stream",
          "name": "stdout",
          "text": [
            "Epoch 36/60, Loss: 0.011966767720878124\n"
          ]
        },
        {
          "output_type": "stream",
          "name": "stderr",
          "text": [
            "Training for mask_edges, mask ratio 0.7:  62%|██████▏   | 37/60 [00:18<00:16,  1.41it/s]"
          ]
        },
        {
          "output_type": "stream",
          "name": "stdout",
          "text": [
            "Epoch 37/60, Loss: 0.01196542289108038\n"
          ]
        },
        {
          "output_type": "stream",
          "name": "stderr",
          "text": [
            "Training for mask_edges, mask ratio 0.7:  63%|██████▎   | 38/60 [00:18<00:14,  1.56it/s]"
          ]
        },
        {
          "output_type": "stream",
          "name": "stdout",
          "text": [
            "Epoch 38/60, Loss: 0.011964153498411179\n"
          ]
        },
        {
          "output_type": "stream",
          "name": "stderr",
          "text": [
            "Training for mask_edges, mask ratio 0.7:  65%|██████▌   | 39/60 [00:19<00:12,  1.69it/s]"
          ]
        },
        {
          "output_type": "stream",
          "name": "stdout",
          "text": [
            "Epoch 39/60, Loss: 0.011963172815740108\n"
          ]
        },
        {
          "output_type": "stream",
          "name": "stderr",
          "text": [
            "Training for mask_edges, mask ratio 0.7:  67%|██████▋   | 40/60 [00:19<00:11,  1.81it/s]"
          ]
        },
        {
          "output_type": "stream",
          "name": "stdout",
          "text": [
            "Epoch 40/60, Loss: 0.01196200679987669\n"
          ]
        },
        {
          "output_type": "stream",
          "name": "stderr",
          "text": [
            "Training for mask_edges, mask ratio 0.7:  68%|██████▊   | 41/60 [00:20<00:10,  1.89it/s]"
          ]
        },
        {
          "output_type": "stream",
          "name": "stdout",
          "text": [
            "Epoch 41/60, Loss: 0.011961070820689201\n"
          ]
        },
        {
          "output_type": "stream",
          "name": "stderr",
          "text": [
            "Training for mask_edges, mask ratio 0.7:  70%|███████   | 42/60 [00:20<00:09,  1.99it/s]"
          ]
        },
        {
          "output_type": "stream",
          "name": "stdout",
          "text": [
            "Epoch 42/60, Loss: 0.011959969997406006\n"
          ]
        },
        {
          "output_type": "stream",
          "name": "stderr",
          "text": [
            "Training for mask_edges, mask ratio 0.7:  72%|███████▏  | 43/60 [00:21<00:08,  2.01it/s]"
          ]
        },
        {
          "output_type": "stream",
          "name": "stdout",
          "text": [
            "Epoch 43/60, Loss: 0.01195957325398922\n"
          ]
        },
        {
          "output_type": "stream",
          "name": "stderr",
          "text": [
            "Training for mask_edges, mask ratio 0.7:  73%|███████▎  | 44/60 [00:21<00:08,  1.99it/s]"
          ]
        },
        {
          "output_type": "stream",
          "name": "stdout",
          "text": [
            "Epoch 44/60, Loss: 0.011958548799157143\n"
          ]
        },
        {
          "output_type": "stream",
          "name": "stderr",
          "text": [
            "Training for mask_edges, mask ratio 0.7:  75%|███████▌  | 45/60 [00:21<00:06,  2.19it/s]"
          ]
        },
        {
          "output_type": "stream",
          "name": "stdout",
          "text": [
            "Epoch 45/60, Loss: 0.011957753449678421\n"
          ]
        },
        {
          "output_type": "stream",
          "name": "stderr",
          "text": [
            "Training for mask_edges, mask ratio 0.7:  77%|███████▋  | 46/60 [00:22<00:06,  2.15it/s]"
          ]
        },
        {
          "output_type": "stream",
          "name": "stdout",
          "text": [
            "Epoch 46/60, Loss: 0.011957144364714622\n"
          ]
        },
        {
          "output_type": "stream",
          "name": "stderr",
          "text": [
            "Training for mask_edges, mask ratio 0.7:  78%|███████▊  | 47/60 [00:22<00:06,  2.17it/s]"
          ]
        },
        {
          "output_type": "stream",
          "name": "stdout",
          "text": [
            "Epoch 47/60, Loss: 0.011956825852394104\n"
          ]
        },
        {
          "output_type": "stream",
          "name": "stderr",
          "text": [
            "Training for mask_edges, mask ratio 0.7:  80%|████████  | 48/60 [00:23<00:05,  2.05it/s]"
          ]
        },
        {
          "output_type": "stream",
          "name": "stdout",
          "text": [
            "Epoch 48/60, Loss: 0.011956613510847092\n"
          ]
        },
        {
          "output_type": "stream",
          "name": "stderr",
          "text": [
            "Training for mask_edges, mask ratio 0.7:  82%|████████▏ | 49/60 [00:23<00:05,  2.07it/s]"
          ]
        },
        {
          "output_type": "stream",
          "name": "stdout",
          "text": [
            "Epoch 49/60, Loss: 0.011956265196204185\n"
          ]
        },
        {
          "output_type": "stream",
          "name": "stderr",
          "text": [
            "Training for mask_edges, mask ratio 0.7:  83%|████████▎ | 50/60 [00:24<00:04,  2.06it/s]"
          ]
        },
        {
          "output_type": "stream",
          "name": "stdout",
          "text": [
            "Epoch 50/60, Loss: 0.01195599790662527\n"
          ]
        },
        {
          "output_type": "stream",
          "name": "stderr",
          "text": [
            "Training for mask_edges, mask ratio 0.7:  85%|████████▌ | 51/60 [00:24<00:04,  2.12it/s]"
          ]
        },
        {
          "output_type": "stream",
          "name": "stdout",
          "text": [
            "Epoch 51/60, Loss: 0.011955870315432549\n"
          ]
        },
        {
          "output_type": "stream",
          "name": "stderr",
          "text": [
            "Training for mask_edges, mask ratio 0.7:  87%|████████▋ | 52/60 [00:25<00:03,  2.07it/s]"
          ]
        },
        {
          "output_type": "stream",
          "name": "stdout",
          "text": [
            "Epoch 52/60, Loss: 0.011955887079238892\n"
          ]
        },
        {
          "output_type": "stream",
          "name": "stderr",
          "text": [
            "Training for mask_edges, mask ratio 0.7:  88%|████████▊ | 53/60 [00:25<00:03,  2.09it/s]"
          ]
        },
        {
          "output_type": "stream",
          "name": "stdout",
          "text": [
            "Epoch 53/60, Loss: 0.011955521069467068\n"
          ]
        },
        {
          "output_type": "stream",
          "name": "stderr",
          "text": [
            "Training for mask_edges, mask ratio 0.7:  90%|█████████ | 54/60 [00:26<00:02,  2.08it/s]"
          ]
        },
        {
          "output_type": "stream",
          "name": "stdout",
          "text": [
            "Epoch 54/60, Loss: 0.011955502443015575\n"
          ]
        },
        {
          "output_type": "stream",
          "name": "stderr",
          "text": [
            "Training for mask_edges, mask ratio 0.7:  92%|█████████▏| 55/60 [00:26<00:02,  2.07it/s]"
          ]
        },
        {
          "output_type": "stream",
          "name": "stdout",
          "text": [
            "Epoch 55/60, Loss: 0.01195542048662901\n"
          ]
        },
        {
          "output_type": "stream",
          "name": "stderr",
          "text": [
            "Training for mask_edges, mask ratio 0.7:  93%|█████████▎| 56/60 [00:27<00:01,  2.08it/s]"
          ]
        },
        {
          "output_type": "stream",
          "name": "stdout",
          "text": [
            "Epoch 56/60, Loss: 0.01195529755204916\n"
          ]
        },
        {
          "output_type": "stream",
          "name": "stderr",
          "text": [
            "Training for mask_edges, mask ratio 0.7:  95%|█████████▌| 57/60 [00:27<00:01,  2.08it/s]"
          ]
        },
        {
          "output_type": "stream",
          "name": "stdout",
          "text": [
            "Epoch 57/60, Loss: 0.011955119669437408\n"
          ]
        },
        {
          "output_type": "stream",
          "name": "stderr",
          "text": [
            "Training for mask_edges, mask ratio 0.7:  97%|█████████▋| 58/60 [00:28<00:00,  2.03it/s]"
          ]
        },
        {
          "output_type": "stream",
          "name": "stdout",
          "text": [
            "Epoch 58/60, Loss: 0.011955060996115208\n"
          ]
        },
        {
          "output_type": "stream",
          "name": "stderr",
          "text": [
            "Training for mask_edges, mask ratio 0.7:  98%|█████████▊| 59/60 [00:28<00:00,  2.10it/s]"
          ]
        },
        {
          "output_type": "stream",
          "name": "stdout",
          "text": [
            "Epoch 59/60, Loss: 0.01195500511676073\n"
          ]
        },
        {
          "output_type": "stream",
          "name": "stderr",
          "text": [
            "Training for mask_edges, mask ratio 0.7: 100%|██████████| 60/60 [00:29<00:00,  2.06it/s]\n"
          ]
        },
        {
          "output_type": "stream",
          "name": "stdout",
          "text": [
            "Epoch 60/60, Loss: 0.011954971589148045\n",
            "Training with mask ratio: 0.9 using mask_edges strategy\n"
          ]
        },
        {
          "output_type": "stream",
          "name": "stderr",
          "text": [
            "Training for mask_edges, mask ratio 0.9:   2%|▏         | 1/60 [00:00<00:27,  2.13it/s]"
          ]
        },
        {
          "output_type": "stream",
          "name": "stdout",
          "text": [
            "Epoch 1/60, Loss: 0.012735141441226006\n"
          ]
        },
        {
          "output_type": "stream",
          "name": "stderr",
          "text": [
            "Training for mask_edges, mask ratio 0.9:   3%|▎         | 2/60 [00:00<00:27,  2.08it/s]"
          ]
        },
        {
          "output_type": "stream",
          "name": "stdout",
          "text": [
            "Epoch 2/60, Loss: 0.012595768086612225\n"
          ]
        },
        {
          "output_type": "stream",
          "name": "stderr",
          "text": [
            "Training for mask_edges, mask ratio 0.9:   5%|▌         | 3/60 [00:01<00:27,  2.06it/s]"
          ]
        },
        {
          "output_type": "stream",
          "name": "stdout",
          "text": [
            "Epoch 3/60, Loss: 0.012433750554919243\n"
          ]
        },
        {
          "output_type": "stream",
          "name": "stderr",
          "text": [
            "Training for mask_edges, mask ratio 0.9:   7%|▋         | 4/60 [00:01<00:27,  2.04it/s]"
          ]
        },
        {
          "output_type": "stream",
          "name": "stdout",
          "text": [
            "Epoch 4/60, Loss: 0.012348512187600136\n"
          ]
        },
        {
          "output_type": "stream",
          "name": "stderr",
          "text": [
            "Training for mask_edges, mask ratio 0.9:   8%|▊         | 5/60 [00:02<00:25,  2.17it/s]"
          ]
        },
        {
          "output_type": "stream",
          "name": "stdout",
          "text": [
            "Epoch 5/60, Loss: 0.012300227768719196\n"
          ]
        },
        {
          "output_type": "stream",
          "name": "stderr",
          "text": [
            "Training for mask_edges, mask ratio 0.9:  10%|█         | 6/60 [00:02<00:26,  2.07it/s]"
          ]
        },
        {
          "output_type": "stream",
          "name": "stdout",
          "text": [
            "Epoch 6/60, Loss: 0.012266098521649837\n"
          ]
        },
        {
          "output_type": "stream",
          "name": "stderr",
          "text": [
            "Training for mask_edges, mask ratio 0.9:  12%|█▏        | 7/60 [00:03<00:22,  2.33it/s]"
          ]
        },
        {
          "output_type": "stream",
          "name": "stdout",
          "text": [
            "Epoch 7/60, Loss: 0.012235015630722046\n"
          ]
        },
        {
          "output_type": "stream",
          "name": "stderr",
          "text": [
            "Training for mask_edges, mask ratio 0.9:  13%|█▎        | 8/60 [00:03<00:20,  2.56it/s]"
          ]
        },
        {
          "output_type": "stream",
          "name": "stdout",
          "text": [
            "Epoch 8/60, Loss: 0.012205715291202068\n"
          ]
        },
        {
          "output_type": "stream",
          "name": "stderr",
          "text": [
            "Training for mask_edges, mask ratio 0.9:  15%|█▌        | 9/60 [00:03<00:18,  2.69it/s]"
          ]
        },
        {
          "output_type": "stream",
          "name": "stdout",
          "text": [
            "Epoch 9/60, Loss: 0.012180238962173462\n"
          ]
        },
        {
          "output_type": "stream",
          "name": "stderr",
          "text": [
            "Training for mask_edges, mask ratio 0.9:  17%|█▋        | 10/60 [00:04<00:17,  2.80it/s]"
          ]
        },
        {
          "output_type": "stream",
          "name": "stdout",
          "text": [
            "Epoch 10/60, Loss: 0.012159809470176697\n"
          ]
        },
        {
          "output_type": "stream",
          "name": "stderr",
          "text": [
            "Training for mask_edges, mask ratio 0.9:  18%|█▊        | 11/60 [00:04<00:16,  2.92it/s]"
          ]
        },
        {
          "output_type": "stream",
          "name": "stdout",
          "text": [
            "Epoch 11/60, Loss: 0.012143448926508427\n"
          ]
        },
        {
          "output_type": "stream",
          "name": "stderr",
          "text": [
            "Training for mask_edges, mask ratio 0.9:  20%|██        | 12/60 [00:04<00:16,  2.96it/s]"
          ]
        },
        {
          "output_type": "stream",
          "name": "stdout",
          "text": [
            "Epoch 12/60, Loss: 0.012129261158406734\n"
          ]
        },
        {
          "output_type": "stream",
          "name": "stderr",
          "text": [
            "Training for mask_edges, mask ratio 0.9:  22%|██▏       | 13/60 [00:05<00:15,  2.98it/s]"
          ]
        },
        {
          "output_type": "stream",
          "name": "stdout",
          "text": [
            "Epoch 13/60, Loss: 0.012115188874304295\n"
          ]
        },
        {
          "output_type": "stream",
          "name": "stderr",
          "text": [
            "Training for mask_edges, mask ratio 0.9:  23%|██▎       | 14/60 [00:05<00:15,  3.02it/s]"
          ]
        },
        {
          "output_type": "stream",
          "name": "stdout",
          "text": [
            "Epoch 14/60, Loss: 0.012100773863494396\n"
          ]
        },
        {
          "output_type": "stream",
          "name": "stderr",
          "text": [
            "Training for mask_edges, mask ratio 0.9:  25%|██▌       | 15/60 [00:05<00:14,  3.02it/s]"
          ]
        },
        {
          "output_type": "stream",
          "name": "stdout",
          "text": [
            "Epoch 15/60, Loss: 0.01208615954965353\n"
          ]
        },
        {
          "output_type": "stream",
          "name": "stderr",
          "text": [
            "Training for mask_edges, mask ratio 0.9:  27%|██▋       | 16/60 [00:06<00:14,  3.00it/s]"
          ]
        },
        {
          "output_type": "stream",
          "name": "stdout",
          "text": [
            "Epoch 16/60, Loss: 0.01207240205258131\n"
          ]
        },
        {
          "output_type": "stream",
          "name": "stderr",
          "text": [
            "Training for mask_edges, mask ratio 0.9:  28%|██▊       | 17/60 [00:06<00:14,  3.01it/s]"
          ]
        },
        {
          "output_type": "stream",
          "name": "stdout",
          "text": [
            "Epoch 17/60, Loss: 0.012060296721756458\n"
          ]
        },
        {
          "output_type": "stream",
          "name": "stderr",
          "text": [
            "Training for mask_edges, mask ratio 0.9:  30%|███       | 18/60 [00:06<00:13,  3.01it/s]"
          ]
        },
        {
          "output_type": "stream",
          "name": "stdout",
          "text": [
            "Epoch 18/60, Loss: 0.012049807235598564\n"
          ]
        },
        {
          "output_type": "stream",
          "name": "stderr",
          "text": [
            "Training for mask_edges, mask ratio 0.9:  32%|███▏      | 19/60 [00:07<00:13,  3.03it/s]"
          ]
        },
        {
          "output_type": "stream",
          "name": "stdout",
          "text": [
            "Epoch 19/60, Loss: 0.012040264904499054\n"
          ]
        },
        {
          "output_type": "stream",
          "name": "stderr",
          "text": [
            "Training for mask_edges, mask ratio 0.9:  33%|███▎      | 20/60 [00:07<00:12,  3.09it/s]"
          ]
        },
        {
          "output_type": "stream",
          "name": "stdout",
          "text": [
            "Epoch 20/60, Loss: 0.012031295336782932\n"
          ]
        },
        {
          "output_type": "stream",
          "name": "stderr",
          "text": [
            "Training for mask_edges, mask ratio 0.9:  35%|███▌      | 21/60 [00:07<00:12,  3.09it/s]"
          ]
        },
        {
          "output_type": "stream",
          "name": "stdout",
          "text": [
            "Epoch 21/60, Loss: 0.012022876180708408\n"
          ]
        },
        {
          "output_type": "stream",
          "name": "stderr",
          "text": [
            "Training for mask_edges, mask ratio 0.9:  37%|███▋      | 22/60 [00:08<00:12,  3.03it/s]"
          ]
        },
        {
          "output_type": "stream",
          "name": "stdout",
          "text": [
            "Epoch 22/60, Loss: 0.012015328742563725\n"
          ]
        },
        {
          "output_type": "stream",
          "name": "stderr",
          "text": [
            "Training for mask_edges, mask ratio 0.9:  38%|███▊      | 23/60 [00:08<00:11,  3.09it/s]"
          ]
        },
        {
          "output_type": "stream",
          "name": "stdout",
          "text": [
            "Epoch 23/60, Loss: 0.012008477933704853\n"
          ]
        },
        {
          "output_type": "stream",
          "name": "stderr",
          "text": [
            "Training for mask_edges, mask ratio 0.9:  40%|████      | 24/60 [00:08<00:11,  3.10it/s]"
          ]
        },
        {
          "output_type": "stream",
          "name": "stdout",
          "text": [
            "Epoch 24/60, Loss: 0.012002590112388134\n"
          ]
        },
        {
          "output_type": "stream",
          "name": "stderr",
          "text": [
            "Training for mask_edges, mask ratio 0.9:  42%|████▏     | 25/60 [00:09<00:11,  3.04it/s]"
          ]
        },
        {
          "output_type": "stream",
          "name": "stdout",
          "text": [
            "Epoch 25/60, Loss: 0.011997489258646965\n"
          ]
        },
        {
          "output_type": "stream",
          "name": "stderr",
          "text": [
            "Training for mask_edges, mask ratio 0.9:  43%|████▎     | 26/60 [00:09<00:13,  2.59it/s]"
          ]
        },
        {
          "output_type": "stream",
          "name": "stdout",
          "text": [
            "Epoch 26/60, Loss: 0.011992573738098145\n"
          ]
        },
        {
          "output_type": "stream",
          "name": "stderr",
          "text": [
            "Training for mask_edges, mask ratio 0.9:  45%|████▌     | 27/60 [00:09<00:12,  2.72it/s]"
          ]
        },
        {
          "output_type": "stream",
          "name": "stdout",
          "text": [
            "Epoch 27/60, Loss: 0.011988203041255474\n"
          ]
        },
        {
          "output_type": "stream",
          "name": "stderr",
          "text": [
            "Training for mask_edges, mask ratio 0.9:  47%|████▋     | 28/60 [00:10<00:11,  2.82it/s]"
          ]
        },
        {
          "output_type": "stream",
          "name": "stdout",
          "text": [
            "Epoch 28/60, Loss: 0.011984260752797127\n"
          ]
        },
        {
          "output_type": "stream",
          "name": "stderr",
          "text": [
            "Training for mask_edges, mask ratio 0.9:  48%|████▊     | 29/60 [00:10<00:10,  2.94it/s]"
          ]
        },
        {
          "output_type": "stream",
          "name": "stdout",
          "text": [
            "Epoch 29/60, Loss: 0.011980290524661541\n"
          ]
        },
        {
          "output_type": "stream",
          "name": "stderr",
          "text": [
            "Training for mask_edges, mask ratio 0.9:  50%|█████     | 30/60 [00:10<00:09,  3.00it/s]"
          ]
        },
        {
          "output_type": "stream",
          "name": "stdout",
          "text": [
            "Epoch 30/60, Loss: 0.011976810172200203\n"
          ]
        },
        {
          "output_type": "stream",
          "name": "stderr",
          "text": [
            "Training for mask_edges, mask ratio 0.9:  52%|█████▏    | 31/60 [00:11<00:09,  3.01it/s]"
          ]
        },
        {
          "output_type": "stream",
          "name": "stdout",
          "text": [
            "Epoch 31/60, Loss: 0.01197380106896162\n"
          ]
        },
        {
          "output_type": "stream",
          "name": "stderr",
          "text": [
            "Training for mask_edges, mask ratio 0.9:  53%|█████▎    | 32/60 [00:11<00:09,  3.05it/s]"
          ]
        },
        {
          "output_type": "stream",
          "name": "stdout",
          "text": [
            "Epoch 32/60, Loss: 0.011970850639045238\n"
          ]
        },
        {
          "output_type": "stream",
          "name": "stderr",
          "text": [
            "Training for mask_edges, mask ratio 0.9:  55%|█████▌    | 33/60 [00:11<00:08,  3.07it/s]"
          ]
        },
        {
          "output_type": "stream",
          "name": "stdout",
          "text": [
            "Epoch 33/60, Loss: 0.011967912316322327\n"
          ]
        },
        {
          "output_type": "stream",
          "name": "stderr",
          "text": [
            "Training for mask_edges, mask ratio 0.9:  57%|█████▋    | 34/60 [00:12<00:08,  3.04it/s]"
          ]
        },
        {
          "output_type": "stream",
          "name": "stdout",
          "text": [
            "Epoch 34/60, Loss: 0.011965437792241573\n"
          ]
        },
        {
          "output_type": "stream",
          "name": "stderr",
          "text": [
            "Training for mask_edges, mask ratio 0.9:  58%|█████▊    | 35/60 [00:12<00:08,  2.78it/s]"
          ]
        },
        {
          "output_type": "stream",
          "name": "stdout",
          "text": [
            "Epoch 35/60, Loss: 0.01196309458464384\n"
          ]
        },
        {
          "output_type": "stream",
          "name": "stderr",
          "text": [
            "Training for mask_edges, mask ratio 0.9:  60%|██████    | 36/60 [00:13<00:09,  2.52it/s]"
          ]
        },
        {
          "output_type": "stream",
          "name": "stdout",
          "text": [
            "Epoch 36/60, Loss: 0.0119607113301754\n"
          ]
        },
        {
          "output_type": "stream",
          "name": "stderr",
          "text": [
            "Training for mask_edges, mask ratio 0.9:  62%|██████▏   | 37/60 [00:13<00:09,  2.39it/s]"
          ]
        },
        {
          "output_type": "stream",
          "name": "stdout",
          "text": [
            "Epoch 37/60, Loss: 0.011958339251577854\n"
          ]
        },
        {
          "output_type": "stream",
          "name": "stderr",
          "text": [
            "Training for mask_edges, mask ratio 0.9:  63%|██████▎   | 38/60 [00:14<00:09,  2.28it/s]"
          ]
        },
        {
          "output_type": "stream",
          "name": "stdout",
          "text": [
            "Epoch 38/60, Loss: 0.011956430040299892\n"
          ]
        },
        {
          "output_type": "stream",
          "name": "stderr",
          "text": [
            "Training for mask_edges, mask ratio 0.9:  65%|██████▌   | 39/60 [00:14<00:09,  2.23it/s]"
          ]
        },
        {
          "output_type": "stream",
          "name": "stdout",
          "text": [
            "Epoch 39/60, Loss: 0.011953862383961678\n"
          ]
        },
        {
          "output_type": "stream",
          "name": "stderr",
          "text": [
            "Training for mask_edges, mask ratio 0.9:  67%|██████▋   | 40/60 [00:14<00:09,  2.18it/s]"
          ]
        },
        {
          "output_type": "stream",
          "name": "stdout",
          "text": [
            "Epoch 40/60, Loss: 0.011952975764870644\n"
          ]
        },
        {
          "output_type": "stream",
          "name": "stderr",
          "text": [
            "Training for mask_edges, mask ratio 0.9:  68%|██████▊   | 41/60 [00:15<00:08,  2.14it/s]"
          ]
        },
        {
          "output_type": "stream",
          "name": "stdout",
          "text": [
            "Epoch 41/60, Loss: 0.01195121742784977\n"
          ]
        },
        {
          "output_type": "stream",
          "name": "stderr",
          "text": [
            "Training for mask_edges, mask ratio 0.9:  70%|███████   | 42/60 [00:15<00:07,  2.28it/s]"
          ]
        },
        {
          "output_type": "stream",
          "name": "stdout",
          "text": [
            "Epoch 42/60, Loss: 0.011946958489716053\n"
          ]
        },
        {
          "output_type": "stream",
          "name": "stderr",
          "text": [
            "Training for mask_edges, mask ratio 0.9:  72%|███████▏  | 43/60 [00:16<00:06,  2.43it/s]"
          ]
        },
        {
          "output_type": "stream",
          "name": "stdout",
          "text": [
            "Epoch 43/60, Loss: 0.011947677470743656\n"
          ]
        },
        {
          "output_type": "stream",
          "name": "stderr",
          "text": [
            "Training for mask_edges, mask ratio 0.9:  73%|███████▎  | 44/60 [00:16<00:06,  2.61it/s]"
          ]
        },
        {
          "output_type": "stream",
          "name": "stdout",
          "text": [
            "Epoch 44/60, Loss: 0.011942902579903603\n"
          ]
        },
        {
          "output_type": "stream",
          "name": "stderr",
          "text": [
            "Training for mask_edges, mask ratio 0.9:  75%|███████▌  | 45/60 [00:16<00:05,  2.74it/s]"
          ]
        },
        {
          "output_type": "stream",
          "name": "stdout",
          "text": [
            "Epoch 45/60, Loss: 0.011942298151552677\n"
          ]
        },
        {
          "output_type": "stream",
          "name": "stderr",
          "text": [
            "Training for mask_edges, mask ratio 0.9:  77%|███████▋  | 46/60 [00:17<00:04,  2.83it/s]"
          ]
        },
        {
          "output_type": "stream",
          "name": "stdout",
          "text": [
            "Epoch 46/60, Loss: 0.01193907205015421\n"
          ]
        },
        {
          "output_type": "stream",
          "name": "stderr",
          "text": [
            "Training for mask_edges, mask ratio 0.9:  78%|███████▊  | 47/60 [00:17<00:04,  2.92it/s]"
          ]
        },
        {
          "output_type": "stream",
          "name": "stdout",
          "text": [
            "Epoch 47/60, Loss: 0.011937265284359455\n"
          ]
        },
        {
          "output_type": "stream",
          "name": "stderr",
          "text": [
            "Training for mask_edges, mask ratio 0.9:  80%|████████  | 48/60 [00:17<00:04,  2.99it/s]"
          ]
        },
        {
          "output_type": "stream",
          "name": "stdout",
          "text": [
            "Epoch 48/60, Loss: 0.011935927905142307\n"
          ]
        },
        {
          "output_type": "stream",
          "name": "stderr",
          "text": [
            "Training for mask_edges, mask ratio 0.9:  82%|████████▏ | 49/60 [00:18<00:03,  3.01it/s]"
          ]
        },
        {
          "output_type": "stream",
          "name": "stdout",
          "text": [
            "Epoch 49/60, Loss: 0.011935349553823471\n"
          ]
        },
        {
          "output_type": "stream",
          "name": "stderr",
          "text": [
            "Training for mask_edges, mask ratio 0.9:  83%|████████▎ | 50/60 [00:18<00:03,  3.01it/s]"
          ]
        },
        {
          "output_type": "stream",
          "name": "stdout",
          "text": [
            "Epoch 50/60, Loss: 0.011931819841265678\n"
          ]
        },
        {
          "output_type": "stream",
          "name": "stderr",
          "text": [
            "Training for mask_edges, mask ratio 0.9:  85%|████████▌ | 51/60 [00:18<00:02,  3.04it/s]"
          ]
        },
        {
          "output_type": "stream",
          "name": "stdout",
          "text": [
            "Epoch 51/60, Loss: 0.01193210855126381\n"
          ]
        },
        {
          "output_type": "stream",
          "name": "stderr",
          "text": [
            "Training for mask_edges, mask ratio 0.9:  87%|████████▋ | 52/60 [00:19<00:03,  2.55it/s]"
          ]
        },
        {
          "output_type": "stream",
          "name": "stdout",
          "text": [
            "Epoch 52/60, Loss: 0.011931115761399269\n"
          ]
        },
        {
          "output_type": "stream",
          "name": "stderr",
          "text": [
            "Training for mask_edges, mask ratio 0.9:  88%|████████▊ | 53/60 [00:19<00:02,  2.72it/s]"
          ]
        },
        {
          "output_type": "stream",
          "name": "stdout",
          "text": [
            "Epoch 53/60, Loss: 0.011929137632250786\n"
          ]
        },
        {
          "output_type": "stream",
          "name": "stderr",
          "text": [
            "Training for mask_edges, mask ratio 0.9:  90%|█████████ | 54/60 [00:19<00:02,  2.81it/s]"
          ]
        },
        {
          "output_type": "stream",
          "name": "stdout",
          "text": [
            "Epoch 54/60, Loss: 0.011925049126148224\n"
          ]
        },
        {
          "output_type": "stream",
          "name": "stderr",
          "text": [
            "Training for mask_edges, mask ratio 0.9:  92%|█████████▏| 55/60 [00:20<00:01,  2.91it/s]"
          ]
        },
        {
          "output_type": "stream",
          "name": "stdout",
          "text": [
            "Epoch 55/60, Loss: 0.011924742721021175\n"
          ]
        },
        {
          "output_type": "stream",
          "name": "stderr",
          "text": [
            "Training for mask_edges, mask ratio 0.9:  93%|█████████▎| 56/60 [00:20<00:01,  3.00it/s]"
          ]
        },
        {
          "output_type": "stream",
          "name": "stdout",
          "text": [
            "Epoch 56/60, Loss: 0.011921968311071396\n"
          ]
        },
        {
          "output_type": "stream",
          "name": "stderr",
          "text": [
            "Training for mask_edges, mask ratio 0.9:  95%|█████████▌| 57/60 [00:20<00:00,  3.04it/s]"
          ]
        },
        {
          "output_type": "stream",
          "name": "stdout",
          "text": [
            "Epoch 57/60, Loss: 0.011920720338821411\n"
          ]
        },
        {
          "output_type": "stream",
          "name": "stderr",
          "text": [
            "Training for mask_edges, mask ratio 0.9:  97%|█████████▋| 58/60 [00:21<00:00,  3.02it/s]"
          ]
        },
        {
          "output_type": "stream",
          "name": "stdout",
          "text": [
            "Epoch 58/60, Loss: 0.01191807072609663\n"
          ]
        },
        {
          "output_type": "stream",
          "name": "stderr",
          "text": [
            "Training for mask_edges, mask ratio 0.9:  98%|█████████▊| 59/60 [00:21<00:00,  3.02it/s]"
          ]
        },
        {
          "output_type": "stream",
          "name": "stdout",
          "text": [
            "Epoch 59/60, Loss: 0.011913602240383625\n"
          ]
        },
        {
          "output_type": "stream",
          "name": "stderr",
          "text": [
            "Training for mask_edges, mask ratio 0.9: 100%|██████████| 60/60 [00:21<00:00,  2.74it/s]\n"
          ]
        },
        {
          "output_type": "stream",
          "name": "stdout",
          "text": [
            "Epoch 60/60, Loss: 0.011912589892745018\n",
            "Training with mask ratio: 0.0 using mask_neighborhood strategy\n"
          ]
        },
        {
          "output_type": "stream",
          "name": "stderr",
          "text": [
            "Training for mask_neighborhood, mask ratio 0.0:   2%|▏         | 1/60 [00:00<00:09,  6.28it/s]"
          ]
        },
        {
          "output_type": "stream",
          "name": "stdout",
          "text": [
            "Epoch 1/60, Loss: 0.012708106078207493\n"
          ]
        },
        {
          "output_type": "stream",
          "name": "stderr",
          "text": [
            "Training for mask_neighborhood, mask ratio 0.0:   3%|▎         | 2/60 [00:00<00:08,  6.75it/s]"
          ]
        },
        {
          "output_type": "stream",
          "name": "stdout",
          "text": [
            "Epoch 2/60, Loss: 0.012558414600789547\n"
          ]
        },
        {
          "output_type": "stream",
          "name": "stderr",
          "text": [
            "Training for mask_neighborhood, mask ratio 0.0:   5%|▌         | 3/60 [00:00<00:08,  6.74it/s]"
          ]
        },
        {
          "output_type": "stream",
          "name": "stdout",
          "text": [
            "Epoch 3/60, Loss: 0.012424961663782597\n"
          ]
        },
        {
          "output_type": "stream",
          "name": "stderr",
          "text": [
            "Training for mask_neighborhood, mask ratio 0.0:   7%|▋         | 4/60 [00:00<00:08,  6.88it/s]"
          ]
        },
        {
          "output_type": "stream",
          "name": "stdout",
          "text": [
            "Epoch 4/60, Loss: 0.012345156632363796\n"
          ]
        },
        {
          "output_type": "stream",
          "name": "stderr",
          "text": [
            "Training for mask_neighborhood, mask ratio 0.0:   8%|▊         | 5/60 [00:00<00:08,  6.85it/s]"
          ]
        },
        {
          "output_type": "stream",
          "name": "stdout",
          "text": [
            "Epoch 5/60, Loss: 0.012299586087465286\n"
          ]
        },
        {
          "output_type": "stream",
          "name": "stderr",
          "text": [
            "Training for mask_neighborhood, mask ratio 0.0:  10%|█         | 6/60 [00:00<00:07,  6.83it/s]"
          ]
        },
        {
          "output_type": "stream",
          "name": "stdout",
          "text": [
            "Epoch 6/60, Loss: 0.012265131808817387\n"
          ]
        },
        {
          "output_type": "stream",
          "name": "stderr",
          "text": [
            "Training for mask_neighborhood, mask ratio 0.0:  12%|█▏        | 7/60 [00:01<00:07,  6.68it/s]"
          ]
        },
        {
          "output_type": "stream",
          "name": "stdout",
          "text": [
            "Epoch 7/60, Loss: 0.012232540175318718\n"
          ]
        },
        {
          "output_type": "stream",
          "name": "stderr",
          "text": [
            "Training for mask_neighborhood, mask ratio 0.0:  13%|█▎        | 8/60 [00:01<00:08,  6.44it/s]"
          ]
        },
        {
          "output_type": "stream",
          "name": "stdout",
          "text": [
            "Epoch 8/60, Loss: 0.01220257580280304\n"
          ]
        },
        {
          "output_type": "stream",
          "name": "stderr",
          "text": [
            "Training for mask_neighborhood, mask ratio 0.0:  15%|█▌        | 9/60 [00:01<00:07,  6.54it/s]"
          ]
        },
        {
          "output_type": "stream",
          "name": "stdout",
          "text": [
            "Epoch 9/60, Loss: 0.012177606113255024\n"
          ]
        },
        {
          "output_type": "stream",
          "name": "stderr",
          "text": [
            "Training for mask_neighborhood, mask ratio 0.0:  17%|█▋        | 10/60 [00:01<00:07,  6.54it/s]"
          ]
        },
        {
          "output_type": "stream",
          "name": "stdout",
          "text": [
            "Epoch 10/60, Loss: 0.012158256024122238\n"
          ]
        },
        {
          "output_type": "stream",
          "name": "stderr",
          "text": [
            "Training for mask_neighborhood, mask ratio 0.0:  18%|█▊        | 11/60 [00:01<00:07,  6.72it/s]"
          ]
        },
        {
          "output_type": "stream",
          "name": "stdout",
          "text": [
            "Epoch 11/60, Loss: 0.012143068015575409\n"
          ]
        },
        {
          "output_type": "stream",
          "name": "stderr",
          "text": [
            "Training for mask_neighborhood, mask ratio 0.0:  20%|██        | 12/60 [00:01<00:07,  6.83it/s]"
          ]
        },
        {
          "output_type": "stream",
          "name": "stdout",
          "text": [
            "Epoch 12/60, Loss: 0.012129504233598709\n"
          ]
        },
        {
          "output_type": "stream",
          "name": "stderr",
          "text": [
            "Training for mask_neighborhood, mask ratio 0.0:  22%|██▏       | 13/60 [00:01<00:06,  6.89it/s]"
          ]
        },
        {
          "output_type": "stream",
          "name": "stdout",
          "text": [
            "Epoch 13/60, Loss: 0.012115559540688992\n"
          ]
        },
        {
          "output_type": "stream",
          "name": "stderr",
          "text": [
            "Training for mask_neighborhood, mask ratio 0.0:  23%|██▎       | 14/60 [00:02<00:06,  6.77it/s]"
          ]
        },
        {
          "output_type": "stream",
          "name": "stdout",
          "text": [
            "Epoch 14/60, Loss: 0.01210078876465559\n"
          ]
        },
        {
          "output_type": "stream",
          "name": "stderr",
          "text": [
            "Training for mask_neighborhood, mask ratio 0.0:  25%|██▌       | 15/60 [00:02<00:06,  6.64it/s]"
          ]
        },
        {
          "output_type": "stream",
          "name": "stdout",
          "text": [
            "Epoch 15/60, Loss: 0.012086007744073868\n"
          ]
        },
        {
          "output_type": "stream",
          "name": "stderr",
          "text": [
            "Training for mask_neighborhood, mask ratio 0.0:  27%|██▋       | 16/60 [00:02<00:06,  6.70it/s]"
          ]
        },
        {
          "output_type": "stream",
          "name": "stdout",
          "text": [
            "Epoch 16/60, Loss: 0.01207229495048523\n"
          ]
        },
        {
          "output_type": "stream",
          "name": "stderr",
          "text": [
            "Training for mask_neighborhood, mask ratio 0.0:  28%|██▊       | 17/60 [00:02<00:06,  6.53it/s]"
          ]
        },
        {
          "output_type": "stream",
          "name": "stdout",
          "text": [
            "Epoch 17/60, Loss: 0.012060252018272877\n"
          ]
        },
        {
          "output_type": "stream",
          "name": "stderr",
          "text": [
            "Training for mask_neighborhood, mask ratio 0.0:  30%|███       | 18/60 [00:02<00:06,  6.68it/s]"
          ]
        },
        {
          "output_type": "stream",
          "name": "stdout",
          "text": [
            "Epoch 18/60, Loss: 0.012049787677824497\n"
          ]
        },
        {
          "output_type": "stream",
          "name": "stderr",
          "text": [
            "Training for mask_neighborhood, mask ratio 0.0:  32%|███▏      | 19/60 [00:02<00:06,  6.64it/s]"
          ]
        },
        {
          "output_type": "stream",
          "name": "stdout",
          "text": [
            "Epoch 19/60, Loss: 0.01204040739685297\n"
          ]
        },
        {
          "output_type": "stream",
          "name": "stderr",
          "text": [
            "Training for mask_neighborhood, mask ratio 0.0:  33%|███▎      | 20/60 [00:02<00:06,  6.57it/s]"
          ]
        },
        {
          "output_type": "stream",
          "name": "stdout",
          "text": [
            "Epoch 20/60, Loss: 0.012031563557684422\n"
          ]
        },
        {
          "output_type": "stream",
          "name": "stderr",
          "text": [
            "Training for mask_neighborhood, mask ratio 0.0:  35%|███▌      | 21/60 [00:03<00:06,  6.49it/s]"
          ]
        },
        {
          "output_type": "stream",
          "name": "stdout",
          "text": [
            "Epoch 21/60, Loss: 0.012022946029901505\n"
          ]
        },
        {
          "output_type": "stream",
          "name": "stderr",
          "text": [
            "Training for mask_neighborhood, mask ratio 0.0:  37%|███▋      | 22/60 [00:03<00:05,  6.43it/s]"
          ]
        },
        {
          "output_type": "stream",
          "name": "stdout",
          "text": [
            "Epoch 22/60, Loss: 0.012014617212116718\n"
          ]
        },
        {
          "output_type": "stream",
          "name": "stderr",
          "text": [
            "Training for mask_neighborhood, mask ratio 0.0:  38%|███▊      | 23/60 [00:03<00:05,  6.58it/s]"
          ]
        },
        {
          "output_type": "stream",
          "name": "stdout",
          "text": [
            "Epoch 23/60, Loss: 0.012006874196231365\n"
          ]
        },
        {
          "output_type": "stream",
          "name": "stderr",
          "text": [
            "Training for mask_neighborhood, mask ratio 0.0:  40%|████      | 24/60 [00:03<00:05,  6.64it/s]"
          ]
        },
        {
          "output_type": "stream",
          "name": "stdout",
          "text": [
            "Epoch 24/60, Loss: 0.011999862268567085\n"
          ]
        },
        {
          "output_type": "stream",
          "name": "stderr",
          "text": [
            "Training for mask_neighborhood, mask ratio 0.0:  42%|████▏     | 25/60 [00:03<00:05,  6.52it/s]"
          ]
        },
        {
          "output_type": "stream",
          "name": "stdout",
          "text": [
            "Epoch 25/60, Loss: 0.01199343428015709\n"
          ]
        },
        {
          "output_type": "stream",
          "name": "stderr",
          "text": [
            "Training for mask_neighborhood, mask ratio 0.0:  43%|████▎     | 26/60 [00:03<00:05,  6.35it/s]"
          ]
        },
        {
          "output_type": "stream",
          "name": "stdout",
          "text": [
            "Epoch 26/60, Loss: 0.011987212114036083\n"
          ]
        },
        {
          "output_type": "stream",
          "name": "stderr",
          "text": [
            "Training for mask_neighborhood, mask ratio 0.0:  45%|████▌     | 27/60 [00:04<00:05,  5.93it/s]"
          ]
        },
        {
          "output_type": "stream",
          "name": "stdout",
          "text": [
            "Epoch 27/60, Loss: 0.011980867944657803\n"
          ]
        },
        {
          "output_type": "stream",
          "name": "stderr",
          "text": [
            "Training for mask_neighborhood, mask ratio 0.0:  47%|████▋     | 28/60 [00:04<00:05,  5.73it/s]"
          ]
        },
        {
          "output_type": "stream",
          "name": "stdout",
          "text": [
            "Epoch 28/60, Loss: 0.011974329128861427\n"
          ]
        },
        {
          "output_type": "stream",
          "name": "stderr",
          "text": [
            "Training for mask_neighborhood, mask ratio 0.0:  48%|████▊     | 29/60 [00:04<00:05,  5.86it/s]"
          ]
        },
        {
          "output_type": "stream",
          "name": "stdout",
          "text": [
            "Epoch 29/60, Loss: 0.011967738159000874\n"
          ]
        },
        {
          "output_type": "stream",
          "name": "stderr",
          "text": [
            "Training for mask_neighborhood, mask ratio 0.0:  50%|█████     | 30/60 [00:04<00:05,  5.90it/s]"
          ]
        },
        {
          "output_type": "stream",
          "name": "stdout",
          "text": [
            "Epoch 30/60, Loss: 0.011961172334849834\n"
          ]
        },
        {
          "output_type": "stream",
          "name": "stderr",
          "text": [
            "Training for mask_neighborhood, mask ratio 0.0:  52%|█████▏    | 31/60 [00:04<00:04,  5.81it/s]"
          ]
        },
        {
          "output_type": "stream",
          "name": "stdout",
          "text": [
            "Epoch 31/60, Loss: 0.011954530142247677\n"
          ]
        },
        {
          "output_type": "stream",
          "name": "stderr",
          "text": [
            "Training for mask_neighborhood, mask ratio 0.0:  53%|█████▎    | 32/60 [00:04<00:04,  5.92it/s]"
          ]
        },
        {
          "output_type": "stream",
          "name": "stdout",
          "text": [
            "Epoch 32/60, Loss: 0.011947709135711193\n"
          ]
        },
        {
          "output_type": "stream",
          "name": "stderr",
          "text": [
            "Training for mask_neighborhood, mask ratio 0.0:  55%|█████▌    | 33/60 [00:05<00:04,  5.74it/s]"
          ]
        },
        {
          "output_type": "stream",
          "name": "stdout",
          "text": [
            "Epoch 33/60, Loss: 0.011940756812691689\n"
          ]
        },
        {
          "output_type": "stream",
          "name": "stderr",
          "text": [
            "Training for mask_neighborhood, mask ratio 0.0:  57%|█████▋    | 34/60 [00:05<00:04,  5.89it/s]"
          ]
        },
        {
          "output_type": "stream",
          "name": "stdout",
          "text": [
            "Epoch 34/60, Loss: 0.011933917179703712\n"
          ]
        },
        {
          "output_type": "stream",
          "name": "stderr",
          "text": [
            "Training for mask_neighborhood, mask ratio 0.0:  58%|█████▊    | 35/60 [00:05<00:04,  6.04it/s]"
          ]
        },
        {
          "output_type": "stream",
          "name": "stdout",
          "text": [
            "Epoch 35/60, Loss: 0.011927460320293903\n"
          ]
        },
        {
          "output_type": "stream",
          "name": "stderr",
          "text": [
            "Training for mask_neighborhood, mask ratio 0.0:  60%|██████    | 36/60 [00:05<00:03,  6.06it/s]"
          ]
        },
        {
          "output_type": "stream",
          "name": "stdout",
          "text": [
            "Epoch 36/60, Loss: 0.011921481229364872\n"
          ]
        },
        {
          "output_type": "stream",
          "name": "stderr",
          "text": [
            "Training for mask_neighborhood, mask ratio 0.0:  62%|██████▏   | 37/60 [00:05<00:03,  6.13it/s]"
          ]
        },
        {
          "output_type": "stream",
          "name": "stdout",
          "text": [
            "Epoch 37/60, Loss: 0.011915919370949268\n"
          ]
        },
        {
          "output_type": "stream",
          "name": "stderr",
          "text": [
            "Training for mask_neighborhood, mask ratio 0.0:  63%|██████▎   | 38/60 [00:05<00:03,  6.16it/s]"
          ]
        },
        {
          "output_type": "stream",
          "name": "stdout",
          "text": [
            "Epoch 38/60, Loss: 0.011910628527402878\n"
          ]
        },
        {
          "output_type": "stream",
          "name": "stderr",
          "text": [
            "Training for mask_neighborhood, mask ratio 0.0:  65%|██████▌   | 39/60 [00:06<00:03,  5.86it/s]"
          ]
        },
        {
          "output_type": "stream",
          "name": "stdout",
          "text": [
            "Epoch 39/60, Loss: 0.011905522085726261\n"
          ]
        },
        {
          "output_type": "stream",
          "name": "stderr",
          "text": [
            "Training for mask_neighborhood, mask ratio 0.0:  67%|██████▋   | 40/60 [00:06<00:03,  5.91it/s]"
          ]
        },
        {
          "output_type": "stream",
          "name": "stdout",
          "text": [
            "Epoch 40/60, Loss: 0.011900655925273895\n"
          ]
        },
        {
          "output_type": "stream",
          "name": "stderr",
          "text": [
            "Training for mask_neighborhood, mask ratio 0.0:  68%|██████▊   | 41/60 [00:06<00:03,  6.01it/s]"
          ]
        },
        {
          "output_type": "stream",
          "name": "stdout",
          "text": [
            "Epoch 41/60, Loss: 0.011896130628883839\n"
          ]
        },
        {
          "output_type": "stream",
          "name": "stderr",
          "text": [
            "Training for mask_neighborhood, mask ratio 0.0:  70%|███████   | 42/60 [00:06<00:03,  5.88it/s]"
          ]
        },
        {
          "output_type": "stream",
          "name": "stdout",
          "text": [
            "Epoch 42/60, Loss: 0.011891975067555904\n"
          ]
        },
        {
          "output_type": "stream",
          "name": "stderr",
          "text": [
            "Training for mask_neighborhood, mask ratio 0.0:  72%|███████▏  | 43/60 [00:06<00:02,  5.72it/s]"
          ]
        },
        {
          "output_type": "stream",
          "name": "stdout",
          "text": [
            "Epoch 43/60, Loss: 0.011888173408806324\n"
          ]
        },
        {
          "output_type": "stream",
          "name": "stderr",
          "text": [
            "Training for mask_neighborhood, mask ratio 0.0:  73%|███████▎  | 44/60 [00:07<00:02,  5.66it/s]"
          ]
        },
        {
          "output_type": "stream",
          "name": "stdout",
          "text": [
            "Epoch 44/60, Loss: 0.011884755454957485\n"
          ]
        },
        {
          "output_type": "stream",
          "name": "stderr",
          "text": [
            "Training for mask_neighborhood, mask ratio 0.0:  75%|███████▌  | 45/60 [00:07<00:02,  5.48it/s]"
          ]
        },
        {
          "output_type": "stream",
          "name": "stdout",
          "text": [
            "Epoch 45/60, Loss: 0.011881815269589424\n"
          ]
        },
        {
          "output_type": "stream",
          "name": "stderr",
          "text": [
            "Training for mask_neighborhood, mask ratio 0.0:  77%|███████▋  | 46/60 [00:07<00:02,  5.79it/s]"
          ]
        },
        {
          "output_type": "stream",
          "name": "stdout",
          "text": [
            "Epoch 46/60, Loss: 0.011879325844347477\n"
          ]
        },
        {
          "output_type": "stream",
          "name": "stderr",
          "text": [
            "Training for mask_neighborhood, mask ratio 0.0:  78%|███████▊  | 47/60 [00:07<00:02,  6.01it/s]"
          ]
        },
        {
          "output_type": "stream",
          "name": "stdout",
          "text": [
            "Epoch 47/60, Loss: 0.011877136304974556\n"
          ]
        },
        {
          "output_type": "stream",
          "name": "stderr",
          "text": [
            "Training for mask_neighborhood, mask ratio 0.0:  80%|████████  | 48/60 [00:07<00:01,  6.05it/s]"
          ]
        },
        {
          "output_type": "stream",
          "name": "stdout",
          "text": [
            "Epoch 48/60, Loss: 0.01187510509043932\n"
          ]
        },
        {
          "output_type": "stream",
          "name": "stderr",
          "text": [
            "Training for mask_neighborhood, mask ratio 0.0:  82%|████████▏ | 49/60 [00:07<00:01,  5.91it/s]"
          ]
        },
        {
          "output_type": "stream",
          "name": "stdout",
          "text": [
            "Epoch 49/60, Loss: 0.011873198673129082\n"
          ]
        },
        {
          "output_type": "stream",
          "name": "stderr",
          "text": [
            "Training for mask_neighborhood, mask ratio 0.0:  83%|████████▎ | 50/60 [00:08<00:01,  5.93it/s]"
          ]
        },
        {
          "output_type": "stream",
          "name": "stdout",
          "text": [
            "Epoch 50/60, Loss: 0.011871382594108582\n"
          ]
        },
        {
          "output_type": "stream",
          "name": "stderr",
          "text": [
            "Training for mask_neighborhood, mask ratio 0.0:  87%|████████▋ | 52/60 [00:08<00:01,  5.67it/s]"
          ]
        },
        {
          "output_type": "stream",
          "name": "stdout",
          "text": [
            "Epoch 51/60, Loss: 0.011869598180055618\n",
            "Epoch 52/60, Loss: 0.011867806315422058\n"
          ]
        },
        {
          "output_type": "stream",
          "name": "stderr",
          "text": [
            "Training for mask_neighborhood, mask ratio 0.0:  90%|█████████ | 54/60 [00:08<00:00,  6.04it/s]"
          ]
        },
        {
          "output_type": "stream",
          "name": "stdout",
          "text": [
            "Epoch 53/60, Loss: 0.011866035871207714\n",
            "Epoch 54/60, Loss: 0.011864335276186466\n"
          ]
        },
        {
          "output_type": "stream",
          "name": "stderr",
          "text": [
            "Training for mask_neighborhood, mask ratio 0.0:  93%|█████████▎| 56/60 [00:09<00:00,  6.19it/s]"
          ]
        },
        {
          "output_type": "stream",
          "name": "stdout",
          "text": [
            "Epoch 55/60, Loss: 0.011862694285809994\n",
            "Epoch 56/60, Loss: 0.011861089617013931\n"
          ]
        },
        {
          "output_type": "stream",
          "name": "stderr",
          "text": [
            "Training for mask_neighborhood, mask ratio 0.0:  97%|█████████▋| 58/60 [00:09<00:00,  6.58it/s]"
          ]
        },
        {
          "output_type": "stream",
          "name": "stdout",
          "text": [
            "Epoch 57/60, Loss: 0.011859496124088764\n",
            "Epoch 58/60, Loss: 0.01185791939496994\n"
          ]
        },
        {
          "output_type": "stream",
          "name": "stderr",
          "text": [
            "Training for mask_neighborhood, mask ratio 0.0: 100%|██████████| 60/60 [00:09<00:00,  6.24it/s]\n"
          ]
        },
        {
          "output_type": "stream",
          "name": "stdout",
          "text": [
            "Epoch 59/60, Loss: 0.01185639388859272\n",
            "Epoch 60/60, Loss: 0.011854921467602253\n",
            "Training with mask ratio: 0.1 using mask_neighborhood strategy\n"
          ]
        },
        {
          "output_type": "stream",
          "name": "stderr",
          "text": [
            "Training for mask_neighborhood, mask ratio 0.1:   2%|▏         | 1/60 [00:00<00:43,  1.37it/s]"
          ]
        },
        {
          "output_type": "stream",
          "name": "stdout",
          "text": [
            "Epoch 1/60, Loss: 0.012704206630587578\n"
          ]
        },
        {
          "output_type": "stream",
          "name": "stderr",
          "text": [
            "Training for mask_neighborhood, mask ratio 0.1:   3%|▎         | 2/60 [00:01<00:40,  1.43it/s]"
          ]
        },
        {
          "output_type": "stream",
          "name": "stdout",
          "text": [
            "Epoch 2/60, Loss: 0.012640057131648064\n"
          ]
        },
        {
          "output_type": "stream",
          "name": "stderr",
          "text": [
            "Training for mask_neighborhood, mask ratio 0.1:   5%|▌         | 3/60 [00:02<00:39,  1.46it/s]"
          ]
        },
        {
          "output_type": "stream",
          "name": "stdout",
          "text": [
            "Epoch 3/60, Loss: 0.012433023191988468\n"
          ]
        },
        {
          "output_type": "stream",
          "name": "stderr",
          "text": [
            "Training for mask_neighborhood, mask ratio 0.1:   7%|▋         | 4/60 [00:02<00:38,  1.45it/s]"
          ]
        },
        {
          "output_type": "stream",
          "name": "stdout",
          "text": [
            "Epoch 4/60, Loss: 0.012354977428913116\n"
          ]
        },
        {
          "output_type": "stream",
          "name": "stderr",
          "text": [
            "Training for mask_neighborhood, mask ratio 0.1:   8%|▊         | 5/60 [00:03<00:37,  1.46it/s]"
          ]
        },
        {
          "output_type": "stream",
          "name": "stdout",
          "text": [
            "Epoch 5/60, Loss: 0.012310121208429337\n"
          ]
        }
      ]
    },
    {
      "cell_type": "markdown",
      "source": [
        "## Klasyfikacja społeczności"
      ],
      "metadata": {
        "id": "ihm1yY6Y1gf3"
      }
    },
    {
      "cell_type": "code",
      "source": [
        "import torch\n",
        "import networkx as nx\n",
        "from torch_geometric.data import Data\n",
        "import torch.nn.functional as F\n",
        "import torch.nn as nn\n",
        "from torch_geometric.datasets import Planetoid\n",
        "from torch_geometric.nn import GCNConv\n",
        "from torch.optim import Adam\n",
        "from collections import defaultdict\n",
        "import matplotlib.pyplot as plt\n",
        "import random\n",
        "import numpy as np\n",
        "from sklearn.metrics import f1_score, accuracy_score, precision_score, recall_score, roc_auc_score, average_precision_score, roc_curve\n",
        "from tqdm import tqdm  # Import tqdm\n",
        "\n",
        "CUSTOM_EPOCHS = 400\n",
        "\n",
        "# Sprawdzenie dostępności CUDA\n",
        "device = torch.device('cuda' if torch.cuda.is_available() else 'cpu')\n",
        "\n",
        "# Załadowanie zbioru danych Cora\n",
        "dataset = Planetoid(root='data/Planetoid', name='Cora')\n",
        "data = dataset[0].to(device)\n",
        "\n",
        "# Podział na zbiór treningowy i testowy (węzły i krawędzie)\n",
        "def split_edges_and_nodes(data, test_ratio=0.2):\n",
        "    edge_index = data.edge_index\n",
        "    num_edges = edge_index.size(1)\n",
        "    num_nodes = data.num_nodes\n",
        "\n",
        "    # Wygenerowanie losowego permutacji indeksów\n",
        "    perm_edges = torch.randperm(num_edges)\n",
        "    perm_nodes = torch.randperm(num_nodes)\n",
        "    test_size_edges = int(num_edges * test_ratio)\n",
        "    test_size_nodes = int(num_nodes * test_ratio)\n",
        "\n",
        "    # Podział indeksów na zbiór testowy i treningowy\n",
        "    test_edge_index = edge_index[:, perm_edges[:test_size_edges]].to(device)\n",
        "    train_edge_index = edge_index[:, perm_edges[test_size_edges:]].to(device)\n",
        "    train_mask = torch.zeros(num_nodes, dtype=torch.bool).to(device)\n",
        "    test_mask = torch.zeros(num_nodes, dtype=torch.bool).to(device)\n",
        "    train_mask[perm_nodes[test_size_nodes:]] = True\n",
        "    test_mask[perm_nodes[:test_size_nodes]] = True\n",
        "\n",
        "    train_data = Data(x=data.x, edge_index=train_edge_index, y=data.y, train_mask=train_mask, test_mask=test_mask).to(device)\n",
        "    test_data = Data(x=data.x, edge_index=test_edge_index, y=data.y, train_mask=train_mask, test_mask=test_mask).to(device)\n",
        "\n",
        "    return train_data, test_data\n",
        "\n",
        "train_data, test_data = split_edges_and_nodes(data, test_ratio=0.2)\n",
        "\n",
        "# Implementacja Autoenkodera Grafowego MaskGAE\n",
        "class MaskGAE(torch.nn.Module):\n",
        "    def __init__(self, in_channels, out_channels, num_classes):\n",
        "        super(MaskGAE, self).__init__()\n",
        "        self.conv1 = GCNConv(in_channels, 2 * out_channels).to(device)\n",
        "        self.conv2 = GCNConv(2 * out_channels, out_channels).to(device)\n",
        "        self.classifier = nn.Linear(out_channels, num_classes).to(device)\n",
        "\n",
        "    def encode(self, x, edge_index):\n",
        "        x = F.relu(self.conv1(x, edge_index))\n",
        "        return self.conv2(x, edge_index)\n",
        "\n",
        "    def classify(self, z):\n",
        "        return self.classifier(z)\n",
        "\n",
        "    def forward(self, x, edge_index):\n",
        "        z = self.encode(x, edge_index)\n",
        "        return self.classify(z)\n",
        "\n",
        "# Maskowanie krawędzi\n",
        "def mask_edges(data, mask_ratio):\n",
        "    edge_index = data.edge_index.t().tolist()\n",
        "    num_edges = len(edge_index)\n",
        "    num_mask = int(num_edges * mask_ratio)\n",
        "\n",
        "    mask_indices = random.sample(range(num_edges), num_mask)\n",
        "    mask_indices = torch.tensor(mask_indices, dtype=torch.long)\n",
        "\n",
        "    masked_edges = [edge for i, edge in enumerate(edge_index) if i not in mask_indices]\n",
        "    masked_edge_index = torch.tensor(masked_edges, dtype=torch.long).t().contiguous()\n",
        "\n",
        "    data.edge_index = masked_edge_index\n",
        "    return data\n",
        "\n",
        "# Nowa strategia: maskowanie sąsiedztwa (neighborhood)\n",
        "def mask_neighborhood(data, mask_ratio):\n",
        "\n",
        "    edge_index = data.edge_index.cpu().numpy()\n",
        "    num_nodes = data.num_nodes\n",
        "    num_mask = int(num_nodes * mask_ratio)\n",
        "    masked_edges = edge_index.T.tolist()\n",
        "\n",
        "\n",
        "\n",
        "\n",
        "    for _ in range(num_mask):\n",
        "        node = random.randint(0, num_nodes - 1)\n",
        "        edges_to_remove = [edge for edge in masked_edges if edge[0] == node or edge[1] == node]\n",
        "\n",
        "\n",
        "\n",
        "\n",
        "\n",
        "\n",
        "\n",
        "\n",
        "\n",
        "\n",
        "\n",
        "\n",
        "        for edge in edges_to_remove:\n",
        "            if edge in masked_edges:\n",
        "                masked_edges.remove(edge)\n",
        "\n",
        "    masked_edge_index = torch.tensor(masked_edges, dtype=torch.long).t().contiguous()\n",
        "    data.edge_index = masked_edge_index\n",
        "    return data\n",
        "\n",
        "# Nowa strategia: maskowanie atrybutów (attributes)\n",
        "def mask_attributes(data, mask_ratio):\n",
        "    num_nodes = data.num_nodes\n",
        "    num_mask = int(num_nodes * mask_ratio)\n",
        "    mask_indices = random.sample(range(num_nodes), num_mask)\n",
        "    mask_indices = torch.tensor(mask_indices, dtype=torch.long)\n",
        "\n",
        "    data.x[mask_indices] = 0  # Zerowanie atrybutów wybranych węzłów\n",
        "\n",
        "\n",
        "\n",
        "    return data\n",
        "\n",
        "# Zaktualizowana funkcja trenowania z nowymi strategiami maskowania\n",
        "def train_and_evaluate_classification(in_channels, out_channels, num_classes, train_data, mask_ratios, epochs=100, mask_strategy='mask_edges'):\n",
        "    results = defaultdict(dict)\n",
        "    models = {}\n",
        "    criterion = torch.nn.CrossEntropyLoss()\n",
        "\n",
        "    for ratio in mask_ratios:\n",
        "        print(f'Training with mask ratio: {ratio} using {mask_strategy} strategy')\n",
        "\n",
        "\n",
        "        model = MaskGAE(in_channels=in_channels, out_channels=out_channels, num_classes=num_classes).to(device)\n",
        "        optimizer = Adam(model.parameters(), lr=0.01)\n",
        "\n",
        "        losses = []\n",
        "\n",
        "\n",
        "        for epoch in tqdm(range(epochs), desc=f'Training for {mask_strategy}, mask ratio {ratio}'):\n",
        "            model.train()\n",
        "            optimizer.zero_grad()\n",
        "\n",
        "            # Wybór odpowiedniej strategii maskowania\n",
        "            if mask_strategy == 'mask_edges':\n",
        "                masked_train_data = mask_edges(train_data.clone(), ratio) if ratio > 0 else train_data\n",
        "            elif mask_strategy == 'mask_neighborhood':\n",
        "                masked_train_data = mask_neighborhood(train_data.clone(), ratio) if ratio > 0 else train_data\n",
        "            elif mask_strategy == 'mask_attributes':\n",
        "                masked_train_data = mask_attributes(train_data.clone(), ratio) if ratio > 0 else train_data\n",
        "\n",
        "\n",
        "            out = model(masked_train_data.x, masked_train_data.edge_index)\n",
        "            loss = criterion(out[train_data.train_mask], train_data.y[train_data.train_mask])\n",
        "            loss.backward()\n",
        "            optimizer.step()\n",
        "\n",
        "\n",
        "\n",
        "            losses.append(loss.item())\n",
        "            tqdm.write(f'Epoch {epoch+1}/{epochs}, Loss: {loss.item()}')\n",
        "\n",
        "\n",
        "        results[ratio] = losses\n",
        "        models[(mask_strategy, ratio)] = model\n",
        "\n",
        "    return results, models\n",
        "\n",
        "# Funkcja do obliczania miar oceny\n",
        "def calculate_metrics(pred, true):\n",
        "    pred_binary = (pred > 0.5).float()\n",
        "    true_binary = (true > 0.5).float()\n",
        "\n",
        "    mse = F.mse_loss(pred, true).item()\n",
        "    f1 = f1_score(true_binary.cpu().numpy(), pred_binary.cpu().numpy(), average='macro')\n",
        "    accuracy = accuracy_score(true_binary.cpu().numpy(), pred_binary.cpu().numpy())\n",
        "    precision = precision_score(true_binary.cpu().numpy(), pred_binary.cpu().numpy(), average='macro')\n",
        "    recall = recall_score(true_binary.cpu().numpy(), pred_binary.cpu().numpy(), average='macro')\n",
        "\n",
        "\n",
        "    roc_auc = roc_auc_score(true_binary.cpu().numpy(), pred.cpu().numpy(), average='macro')\n",
        "    avg_precision = average_precision_score(true_binary.cpu().numpy(), pred.cpu().numpy(), average='macro')\n",
        "\n",
        "    return {\n",
        "        'MSE': mse,\n",
        "        'F1 Score': f1,\n",
        "        'Accuracy': accuracy,\n",
        "        'Precision': precision,\n",
        "        'Recall': recall,\n",
        "        'ROC AUC': roc_auc,\n",
        "        'Average Precision': avg_precision\n",
        "    }\n",
        "\n",
        "# Funkcja do oceny modelu na zbiorze testowym\n",
        "def evaluate_model_classification(model, data):\n",
        "    model.eval()\n",
        "    with torch.no_grad():\n",
        "        out = model(data.x, data.edge_index)\n",
        "        _, pred = out.max(dim=1)\n",
        "        correct = (pred[data.test_mask] == data.y[data.test_mask]).sum()\n",
        "        acc = int(correct) / int(data.test_mask.sum())\n",
        "\n",
        "\n",
        "        pred_prob = F.softmax(out, dim=1)[:, 1]\n",
        "        metrics = calculate_metrics(pred_prob[data.test_mask], data.y[data.test_mask])\n",
        "\n",
        "        print(f\"Accuracy: {acc:.4f}, MSE: {metrics['MSE']:.4f}, F1 Score: {metrics['F1 Score']:.4f}, Precision: {metrics['Precision']:.4f}, Recall: {metrics['Recall']:.4f}, ROC AUC: {metrics['ROC AUC']:.4f}, Average Precision: {metrics['Average Precision']:.4f}\")\n",
        "\n",
        "\n",
        "        return metrics\n",
        "\n",
        "# Trening i ocena modelu\n",
        "mask_ratios = [0.0, 0.1, 0.3, 0.5, 0.7, 0.9]\n",
        "strategies = ['mask_edges', 'mask_neighborhood', 'mask_attributes']\n",
        "\n",
        "# Trening i ocena modelu z nowymi strategiami\n",
        "all_models = {}\n",
        "accuracies = defaultdict(dict)\n",
        "loss_results = defaultdict(dict)\n",
        "\n",
        "for strategy in strategies:\n",
        "    results, models = train_and_evaluate_classification(\n",
        "        in_channels=train_data.num_features,\n",
        "        out_channels=2,\n",
        "        num_classes=dataset.num_classes,\n",
        "        train_data=train_data,\n",
        "        mask_ratios=mask_ratios,\n",
        "        epochs=CUSTOM_EPOCHS,\n",
        "        mask_strategy=strategy\n",
        "\n",
        "    )\n",
        "    all_models[strategy] = models\n",
        "    loss_results[strategy] = results\n",
        "\n",
        "\n",
        "    for ratio in mask_ratios:\n",
        "        model = models[(strategy, ratio)]\n",
        "        metrics = evaluate_model_classification(model, test_data)\n",
        "\n",
        "        print(f\"Metrics for Strategy: {strategy}, Mask Ratio: {ratio}\")\n",
        "        print(metrics)\n",
        "        accuracies[strategy][ratio] = metrics['Accuracy']\n",
        "\n",
        "# Plot classification accuracy for each mask ratio\n",
        "plt.figure(figsize=(15, 10))\n",
        "for i, strategy in enumerate(strategies):\n",
        "    plt.subplot(2, 2, i + 1)\n",
        "    strategy_accuracies = accuracies[strategy]\n",
        "    plt.bar(strategy_accuracies.keys(), strategy_accuracies.values(), color='skyblue')\n",
        "    plt.xlabel('Mask Ratio')\n",
        "    plt.ylabel('Accuracy')\n",
        "    plt.title(f'MaskGAE 2GCN: {strategy.capitalize()} Strategy: Classification Accuracy')\n",
        "    plt.grid(True)\n",
        "\n",
        "plt.tight_layout()\n",
        "plt.show()\n",
        "\n",
        "# Plot training loss results for each strategy and mask ratio\n",
        "def plot_loss_results(loss_results):\n",
        "    plt.figure(figsize=(15, 10))\n",
        "    mask_strategies = loss_results.keys()\n",
        "\n",
        "    for i, mask_strategy in enumerate(mask_strategies):\n",
        "        plt.subplot(2, 2, i + 1)\n",
        "        strategy_results = loss_results[mask_strategy]\n",
        "        for ratio, losses in strategy_results.items():\n",
        "            if isinstance(losses, list):\n",
        "                plt.plot(losses, label=f'Mask ratio {ratio}')\n",
        "        plt.xlabel('Epoch')\n",
        "        plt.ylabel('Loss')\n",
        "        plt.title(f'MaskGAE 2GCN: {mask_strategy.capitalize()} Strategy: Training Loss')\n",
        "        plt.legend()\n",
        "        plt.grid(True)\n",
        "\n",
        "    plt.tight_layout()\n",
        "    plt.show()\n",
        "\n",
        "\n",
        "plot_loss_results(loss_results)"
      ],
      "metadata": {
        "id": "1hTsTTYQoIxg"
      },
      "execution_count": null,
      "outputs": []
    },
    {
      "cell_type": "markdown",
      "source": [
        "# Graf losowy syntetyczny - MaskGAE 2GCNConv 4MLP"
      ],
      "metadata": {
        "id": "4LfrCIAyAoJ_"
      }
    },
    {
      "cell_type": "markdown",
      "source": [
        "## Przewidywanie połaczeń"
      ],
      "metadata": {
        "id": "E5C6NKXWmALK"
      }
    },
    {
      "cell_type": "code",
      "source": [
        "import torch\n",
        "import networkx as nx\n",
        "from torch_geometric.data import Data\n",
        "import torch.nn.functional as F\n",
        "import torch.nn as nn\n",
        "from torch_geometric.nn import GCNConv\n",
        "from torch.optim import Adam\n",
        "from collections import defaultdict\n",
        "import matplotlib.pyplot as plt\n",
        "import random\n",
        "import numpy as np\n",
        "from sklearn.metrics import f1_score, accuracy_score, precision_score, recall_score, roc_auc_score, average_precision_score, roc_curve\n",
        "from torch_geometric.datasets import Planetoid\n",
        "from tqdm import tqdm\n",
        "\n",
        "# Device configuration (CUDA or CPU)\n",
        "device = torch.device('cuda' if torch.cuda.is_available() else 'cpu')\n",
        "print(f\"Using device: {device}\")\n",
        "\n",
        "CUSTOM_EPOCHS = 3\n",
        "\n",
        "# Load the Cora dataset from PyG\n",
        "dataset = Planetoid(root='/tmp/Cora', name='Cora')\n",
        "data = dataset[0].to(device)\n",
        "\n",
        "# Split edges (train/test split)\n",
        "def split_edges(data, test_ratio=0.2):\n",
        "    edge_index = data.edge_index.to(device)\n",
        "    num_edges = edge_index.size(1)\n",
        "\n",
        "    # Random permutation of indices\n",
        "    perm = torch.randperm(num_edges, device=device)  # Ensure perm is on the same device\n",
        "    test_size = int(num_edges * test_ratio)\n",
        "\n",
        "    # Split into test and train edges\n",
        "    test_edge_index = edge_index[:, perm[:test_size]].to(device)\n",
        "    train_edge_index = edge_index[:, perm[test_size:]].to(device)\n",
        "\n",
        "    # Create two Data objects: one for training, one for testing\n",
        "    train_data = Data(x=data.x, edge_index=train_edge_index).to(device)\n",
        "    test_data = Data(x=data.x, edge_index=test_edge_index).to(device)\n",
        "\n",
        "    return train_data, test_data\n",
        "\n",
        "train_data, test_data = split_edges(data, test_ratio=0.2)\n",
        "\n",
        "# Implementacja Autoenkodera Grafowego MaskGAE\n",
        "class MaskGAE(torch.nn.Module):\n",
        "    def __init__(self, in_channels, out_channels):\n",
        "        super(MaskGAE, self).__init__()\n",
        "\n",
        "        # Enkoder z dwoma warstwami GCN\n",
        "        self.conv1 = GCNConv(in_channels, 2 * out_channels)\n",
        "        self.conv2 = GCNConv(2 * out_channels, out_channels)\n",
        "\n",
        "        # Dekoder struktury z dwoma warstwami MLP\n",
        "        self.structure_decoder = nn.Sequential(\n",
        "            nn.Linear(out_channels, 2 * out_channels),\n",
        "            nn.ReLU(),\n",
        "            nn.Linear(2 * out_channels, in_channels)\n",
        "        )\n",
        "\n",
        "        # Dekoder stopnia z dwoma warstwami MLP\n",
        "        self.degree_decoder = nn.Sequential(\n",
        "            nn.Linear(out_channels, 2 * out_channels),\n",
        "            nn.ReLU(),\n",
        "            nn.Linear(2 * out_channels, in_channels)\n",
        "        )\n",
        "\n",
        "    def encode(self, x, edge_index):\n",
        "        x = F.relu(self.conv1(x, edge_index))\n",
        "        return self.conv2(x, edge_index)\n",
        "\n",
        "    def decode_structure(self, z):\n",
        "        # Dekodowanie struktury grafu\n",
        "        return self.structure_decoder(z)\n",
        "\n",
        "    def decode_degree(self, z):\n",
        "        # Dekodowanie stopnia wierzchołków\n",
        "        return self.degree_decoder(z)\n",
        "\n",
        "    def forward(self, x, edge_index):\n",
        "        z = self.encode(x, edge_index)\n",
        "        structure_reconstruction = self.decode_structure(z)\n",
        "        degree_prediction = self.decode_degree(z)\n",
        "\n",
        "        # Zwracamy rekonstrukcję struktury i predykcję stopnia jako wynik\n",
        "        return structure_reconstruction, degree_prediction\n",
        "\n",
        "# Maskowanie krawędzi\n",
        "def mask_edges(data, mask_ratio):\n",
        "\n",
        "    edge_index = data.edge_index.t().tolist()\n",
        "    num_edges = len(edge_index)\n",
        "    num_mask = int(num_edges * mask_ratio)\n",
        "\n",
        "    mask_indices = random.sample(range(num_edges), num_mask)\n",
        "    mask_indices = torch.tensor(mask_indices, dtype=torch.long)\n",
        "\n",
        "\n",
        "    masked_edges = [edge for i, edge in enumerate(edge_index) if i not in mask_indices]\n",
        "    masked_edge_index = torch.tensor(masked_edges, dtype=torch.long).t().contiguous()\n",
        "\n",
        "\n",
        "\n",
        "\n",
        "\n",
        "    data.edge_index = masked_edge_index\n",
        "    return data\n",
        "\n",
        "\n",
        "\n",
        "\n",
        "\n",
        "\n",
        "# Maskowanie sąsiedztwa\n",
        "def mask_neighborhood(data, mask_ratio):\n",
        "    edge_index = data.edge_index.cpu().numpy()\n",
        "    num_nodes = data.num_nodes\n",
        "    num_mask = int(num_nodes * mask_ratio)\n",
        "    masked_edges = edge_index.T.tolist()\n",
        "\n",
        "    for _ in range(num_mask):\n",
        "        node = random.randint(0, num_nodes - 1)\n",
        "        edges_to_remove = [edge for edge in masked_edges if edge[0] == node or edge[1] == node]\n",
        "        for edge in edges_to_remove:\n",
        "            if edge in masked_edges:\n",
        "                masked_edges.remove(edge)\n",
        "\n",
        "\n",
        "\n",
        "\n",
        "\n",
        "    masked_edge_index = torch.tensor(masked_edges, dtype=torch.long).t().contiguous()\n",
        "\n",
        "\n",
        "    data.edge_index = masked_edge_index\n",
        "    return data\n",
        "\n",
        "# Maskowanie atrybutów\n",
        "def mask_attributes(data, mask_ratio):\n",
        "    num_nodes = data.num_nodes\n",
        "    num_mask = int(num_nodes * mask_ratio)\n",
        "    mask_indices = random.sample(range(num_nodes), num_mask)\n",
        "    mask_indices = torch.tensor(mask_indices, dtype=torch.long)\n",
        "\n",
        "    data.x[mask_indices] = 0  # Zero out the features of selected nodes\n",
        "    return data\n",
        "\n",
        "# Trening modelu z różnymi strategiami maskowania\n",
        "def train_and_evaluate(in_channels, out_channels, train_data, mask_ratios, epochs=100, mask_strategy='mask_edges'):\n",
        "    results = defaultdict(dict)\n",
        "    models = {}\n",
        "    criterion = torch.nn.MSELoss()\n",
        "\n",
        "    for ratio in mask_ratios:\n",
        "        print(f'Training with mask ratio: {ratio} using {mask_strategy} strategy')\n",
        "\n",
        "        # Initialize a new model for each mask ratio\n",
        "        model = MaskGAE(in_channels=in_channels, out_channels=out_channels).to(device)\n",
        "        optimizer = Adam(model.parameters(), lr=0.01)\n",
        "\n",
        "        losses = []  # Collect losses for each ratio\n",
        "\n",
        "        for epoch in tqdm(range(epochs), desc=f\"Training ratio {ratio}\"):\n",
        "            model.train()\n",
        "            optimizer.zero_grad()\n",
        "\n",
        "            if mask_strategy == 'mask_edges':\n",
        "                masked_train_data = mask_edges(train_data.clone(), ratio) if ratio > 0 else train_data\n",
        "            elif mask_strategy == 'mask_neighborhood':\n",
        "                masked_train_data = mask_neighborhood(train_data.clone(), ratio) if ratio > 0 else train_data\n",
        "            elif mask_strategy == 'mask_attributes':\n",
        "                masked_train_data = mask_attributes(train_data.clone(), ratio) if ratio > 0 else train_data\n",
        "\n",
        "            structure_out, degree_out = model(masked_train_data.x, masked_train_data.edge_index)\n",
        "            loss = criterion(structure_out, train_data.x)  # Loss is computed on the training data\n",
        "            loss.backward()\n",
        "            optimizer.step()\n",
        "\n",
        "            # Print and store the loss\n",
        "            losses.append(loss.item())\n",
        "            tqdm.write(f'Epoch {epoch+1}/{epochs}, Loss: {loss.item()}')\n",
        "\n",
        "        # Store the losses and models after training\n",
        "        results[ratio] = losses\n",
        "        models[(mask_strategy, ratio)] = model\n",
        "\n",
        "    return results, models\n",
        "\n",
        "# Funkcja do oceny modelu na zbiorze testowym\n",
        "def evaluate_on_test(model, test_data):\n",
        "    model.eval()\n",
        "    with torch.no_grad():\n",
        "        z = model.encode(test_data.x, test_data.edge_index)\n",
        "        structure_out = model.decode_structure(z)\n",
        "        degree_out = model.decode_degree(z)\n",
        "        loss = calculate_prediction_error(structure_out, test_data)\n",
        "        print(f'Test Loss: {loss}')\n",
        "        return loss\n",
        "\n",
        "def calculate_prediction_error(pred, data):\n",
        "    return torch.nn.functional.mse_loss(pred, data.x).item()\n",
        "\n",
        "# Zaktualizowane funkcje wizualizacyjne\n",
        "def plot_results(results):\n",
        "    plt.figure(figsize=(15, 10))\n",
        "    mask_strategies = results.keys()\n",
        "\n",
        "    for i, mask_strategy in enumerate(mask_strategies):\n",
        "        plt.subplot(2, 2, i + 1)\n",
        "        strategy_results = results[mask_strategy]  # Get the dictionary for the strategy directly\n",
        "        for ratio, losses in strategy_results.items():\n",
        "            if isinstance(losses, list):  # Ensure losses is a list\n",
        "                if ratio == 0.0:\n",
        "                    plt.plot(losses, label=f'Without masking')\n",
        "                else:\n",
        "                    plt.plot(losses, label=f'Mask ratio {ratio}')\n",
        "        plt.xlabel('Epoch')\n",
        "        plt.ylabel('MSE Loss')\n",
        "        plt.title(f'MaskGAE: {mask_strategy.capitalize()} Strategy: Effect of Masking Ratio on MSE Loss')\n",
        "        plt.legend()\n",
        "        plt.grid(True)\n",
        "\n",
        "    plt.tight_layout()\n",
        "    plt.show()\n",
        "\n",
        "def final_loss_comparison(results):\n",
        "    mask_strategies = results.keys()\n",
        "\n",
        "    for mask_strategy in mask_strategies:\n",
        "        final_losses = {ratio: losses[-1] for ratio, losses in results[mask_strategy].items()}\n",
        "        ratios = list(final_losses.keys())\n",
        "        losses = list(final_losses.values())\n",
        "\n",
        "        plt.figure(figsize=(10, 6))\n",
        "        plt.bar(ratios, losses, color='skyblue')\n",
        "        plt.xlabel('Mask Ratio')\n",
        "        plt.ylabel('Final MSE Loss')\n",
        "        plt.title(f'MaskGAE: {mask_strategy.capitalize()} Strategy: Final MSE Loss for Different Masking Ratios')\n",
        "        plt.grid(True)\n",
        "        plt.show()\n",
        "\n",
        "# Funkcja predykcji na nieoznaczonych danych\n",
        "def predict(model, data):\n",
        "    model.eval()\n",
        "    with torch.no_grad():\n",
        "        z = model.encode(data.x, data.edge_index)\n",
        "        structure_out = model.decode_structure(z)\n",
        "        degree_out = model.decode_degree(z)\n",
        "        return structure_out, degree_out\n",
        "\n",
        "# Funkcja do obliczania dodatkowych metryk\n",
        "def calculate_metrics(pred, data):\n",
        "    mse = calculate_prediction_error(pred, data)\n",
        "    pred_binary = (pred > 0.5).float()\n",
        "    data_binary = (data.x > 0.5).float()\n",
        "\n",
        "    # Przekształcenie do wektora\n",
        "    pred_flat = pred_binary.flatten().cpu().numpy()\n",
        "    data_flat = data_binary.flatten().cpu().numpy()\n",
        "\n",
        "    f1 = f1_score(data_flat, pred_flat)\n",
        "    accuracy = accuracy_score(data_flat, pred_flat)\n",
        "    precision = precision_score(data_flat, pred_flat)\n",
        "    recall = recall_score(data_flat, pred_flat)\n",
        "    roc_auc = roc_auc_score(data_flat, pred.flatten().cpu().numpy())\n",
        "    average_precision = average_precision_score(data_flat, pred.flatten().cpu().numpy())\n",
        "\n",
        "    return {\n",
        "        'MSE': mse,\n",
        "        'F1 Score': f1,\n",
        "        'Accuracy': accuracy,\n",
        "        'Precision': precision,\n",
        "        'Recall': recall,\n",
        "        'ROC AUC': roc_auc,\n",
        "        'Average Precision': average_precision\n",
        "    }\n",
        "\n",
        "# Trening i ocena modelu\n",
        "mask_ratios = [0.0, 0.1, 0.3, 0.5, 0.7, 0.9]\n",
        "strategies = ['mask_edges', 'mask_neighborhood', 'mask_attributes']\n",
        "\n",
        "all_results = {}\n",
        "all_models = {}\n",
        "for strategy in strategies:\n",
        "    results, models = train_and_evaluate(\n",
        "        in_channels=train_data.num_features,\n",
        "        out_channels=2,\n",
        "        train_data=train_data,\n",
        "        mask_ratios=mask_ratios,\n",
        "        epochs=CUSTOM_EPOCHS,\n",
        "        mask_strategy=strategy\n",
        "    )\n",
        "    all_results[strategy] = results\n",
        "    all_models[strategy] = models\n",
        "\n",
        "# After training\n",
        "print(all_results)\n",
        "\n",
        "plot_results(all_results)\n",
        "final_loss_comparison(all_results)\n",
        "\n",
        "# Ewaluacja na zbiorze testowym\n",
        "for strategy in strategies:\n",
        "    for ratio in mask_ratios:\n",
        "        model = all_models[strategy][(strategy, ratio)]\n",
        "        test_loss = evaluate_on_test(model, test_data)\n",
        "        print(f\"Strategy: {strategy}, Mask Ratio: {ratio}, Test Loss: {test_loss}\")\n",
        "\n",
        "# Predykcja na nieoznaczonych danych\n",
        "unlabeled_data = test_data\n",
        "\n",
        "predictions = {}\n",
        "errors = {}\n",
        "metrics_results = {}\n",
        "for strategy in strategies:\n",
        "    for ratio in mask_ratios:\n",
        "        model = all_models[strategy][(strategy, ratio)]\n",
        "        structure_pred, degree_pred = predict(model, unlabeled_data)\n",
        "\n",
        "        # Calculate all metrics\n",
        "        structure_metrics = calculate_metrics(structure_pred, unlabeled_data)\n",
        "        degree_metrics = calculate_metrics(degree_pred, unlabeled_data)\n",
        "\n",
        "        predictions[(strategy, ratio)] = (structure_pred, degree_pred)\n",
        "        metrics_results[(strategy, ratio)] = {'Structure': structure_metrics, 'Degree': degree_metrics}\n",
        "        errors[(strategy, ratio)] = (structure_metrics['MSE'], degree_metrics['MSE'])  # Store the errors as MSE values for plotting\n",
        "        print(f\"Strategy: {strategy}, Mask Ratio: {ratio}, Metrics: {metrics_results[(strategy, ratio)]}\")\n",
        "\n",
        "# Wizualizacja błędów predykcji\n",
        "bar_width = 0.35\n",
        "for strategy in strategies:\n",
        "    strategy_errors = {ratio: errors[(strategy, ratio)] for ratio in mask_ratios}\n",
        "    index = np.arange(len(mask_ratios))\n",
        "    index_shifted = index + bar_width\n",
        "\n",
        "    plt.figure(figsize=(10, 6))\n",
        "    plt.bar(index, [e[0] for e in strategy_errors.values()], width=bar_width, label='Structure Error (MSE)', color='skyblue')\n",
        "    plt.bar(index_shifted, [e[1] for e in strategy_errors.values()], width=bar_width, label='Degree Error (MSE)', color='orange')\n",
        "    plt.xlabel('Mask Ratio')\n",
        "    plt.ylabel('Prediction Error (MSE)')\n",
        "    plt.title(f'MaskGAE: {strategy.capitalize()} Strategy: Link Prediction Errors for Different Masking Ratios')\n",
        "    plt.xticks(index + bar_width / 2, [str(r) for r in mask_ratios])\n",
        "    plt.legend()\n",
        "    plt.grid(True)\n",
        "    plt.show()\n"
      ],
      "metadata": {
        "id": "Xn6wTDS3xZb7"
      },
      "execution_count": null,
      "outputs": []
    },
    {
      "cell_type": "markdown",
      "source": [
        "## Klasyfikacja społeczności"
      ],
      "metadata": {
        "id": "PO7_exqt7nsK"
      }
    },
    {
      "cell_type": "code",
      "source": [
        "import torch\n",
        "import networkx as nx\n",
        "from torch_geometric.data import Data\n",
        "import torch.nn.functional as F\n",
        "import torch.nn as nn\n",
        "from torch_geometric.nn import GCNConv\n",
        "from torch.optim import Adam\n",
        "from collections import defaultdict\n",
        "import matplotlib.pyplot as plt\n",
        "import random\n",
        "import numpy as np\n",
        "from sklearn.metrics import f1_score, accuracy_score, precision_score, recall_score, roc_auc_score, average_precision_score, roc_curve\n",
        "from torch_geometric.datasets import Planetoid\n",
        "from tqdm import tqdm  # Import for progress tracking\n",
        "\n",
        "CUSTOM_EPOCHS = 45\n",
        "\n",
        "# Device setup\n",
        "device = torch.device('cuda' if torch.cuda.is_available() else 'cpu')\n",
        "print(f'Using device: {device}')  # Display the device (CPU/GPU)\n",
        "\n",
        "# Loading the Cora dataset\n",
        "dataset = Planetoid(root='/tmp/Cora', name='Cora')\n",
        "data = dataset[0].to(device)  # Move data to the selected device\n",
        "\n",
        "# Split data into train/test for edges and nodes\n",
        "def split_edges_and_nodes(data, test_ratio=0.2):\n",
        "    edge_index = data.edge_index\n",
        "    num_edges = edge_index.size(1)\n",
        "    num_nodes = data.num_nodes\n",
        "\n",
        "    # Random permutation of indices\n",
        "    perm_edges = torch.randperm(num_edges)\n",
        "    perm_nodes = torch.randperm(num_nodes)\n",
        "    test_size_edges = int(num_edges * test_ratio)\n",
        "    test_size_nodes = int(num_nodes * test_ratio)\n",
        "\n",
        "    # Split indices into train/test\n",
        "    test_edge_index = edge_index[:, perm_edges[:test_size_edges]]\n",
        "    train_edge_index = edge_index[:, perm_edges[test_size_edges:]]\n",
        "    train_mask = torch.zeros(num_nodes, dtype=torch.bool)\n",
        "    test_mask = torch.zeros(num_nodes, dtype=torch.bool)\n",
        "    train_mask[perm_nodes[test_size_nodes:]] = True\n",
        "    test_mask[perm_nodes[:test_size_nodes]] = True\n",
        "\n",
        "    train_data = Data(x=data.x, edge_index=train_edge_index, y=data.y, train_mask=train_mask, test_mask=test_mask)\n",
        "    test_data = Data(x=data.x, edge_index=test_edge_index, y=data.y, train_mask=train_mask, test_mask=test_mask)\n",
        "\n",
        "    return train_data, test_data\n",
        "\n",
        "train_data, test_data = split_edges_and_nodes(data, test_ratio=0.2)\n",
        "\n",
        "# Implementing MaskGAE model with classification layer\n",
        "class MaskGAE(torch.nn.Module):\n",
        "    def __init__(self, in_channels, out_channels, num_classes):\n",
        "        super(MaskGAE, self).__init__()\n",
        "\n",
        "        # GCN Encoder with two layers\n",
        "        self.conv1 = GCNConv(in_channels, 2 * out_channels)\n",
        "        self.conv2 = GCNConv(2 * out_channels, out_channels)\n",
        "\n",
        "        # Structure decoder with two MLP layers\n",
        "        self.structure_decoder = nn.Sequential(\n",
        "            nn.Linear(out_channels, 2 * out_channels),\n",
        "            nn.ReLU(),\n",
        "            nn.Linear(2 * out_channels, in_channels)\n",
        "        )\n",
        "\n",
        "        # Degree decoder with two MLP layers\n",
        "        self.degree_decoder = nn.Sequential(\n",
        "            nn.Linear(out_channels, 2 * out_channels),\n",
        "            nn.ReLU(),\n",
        "            nn.Linear(2 * out_channels, in_channels)\n",
        "        )\n",
        "\n",
        "        # Node classification decoder\n",
        "        self.classifier = nn.Linear(out_channels, num_classes)\n",
        "\n",
        "    def encode(self, x, edge_index):\n",
        "        x = F.relu(self.conv1(x, edge_index))\n",
        "        return self.conv2(x, edge_index)\n",
        "\n",
        "    def decode_structure(self, z):\n",
        "        # Decoding the graph structure\n",
        "        return self.structure_decoder(z)\n",
        "\n",
        "    def decode_degree(self, z):\n",
        "        # Decoding node degrees\n",
        "        return self.degree_decoder(z)\n",
        "\n",
        "    def classify(self, z):\n",
        "        # Node classification\n",
        "        return self.classifier(z)\n",
        "\n",
        "    def forward(self, x, edge_index):\n",
        "        z = self.encode(x, edge_index)\n",
        "        structure_reconstruction = self.decode_structure(z)\n",
        "        degree_prediction = self.decode_degree(z)\n",
        "        node_classification = self.classify(z)\n",
        "\n",
        "        # Return structure reconstruction, degree prediction, and classification output\n",
        "        return structure_reconstruction, degree_prediction, node_classification\n",
        "\n",
        "# Masking Strategies\n",
        "\n",
        "# Masking edges\n",
        "def mask_edges(data, mask_ratio):\n",
        "    edge_index = data.edge_index.t().tolist()\n",
        "    num_edges = len(edge_index)\n",
        "    num_mask = int(num_edges * mask_ratio)\n",
        "\n",
        "    mask_indices = random.sample(range(num_edges), num_mask)\n",
        "    mask_indices = torch.tensor(mask_indices, dtype=torch.long)\n",
        "\n",
        "    masked_edges = [edge for i, edge in enumerate(edge_index) if i not in mask_indices]\n",
        "    masked_edge_index = torch.tensor(masked_edges, dtype=torch.long).t().contiguous()\n",
        "\n",
        "    data.edge_index = masked_edge_index\n",
        "    return data\n",
        "\n",
        "# Masking neighbors\n",
        "def mask_neighborhood(data, mask_ratio):\n",
        "    edge_index = data.edge_index.cpu().numpy()\n",
        "    num_nodes = data.num_nodes\n",
        "    num_mask = int(num_nodes * mask_ratio)\n",
        "    masked_edges = edge_index.T.tolist()\n",
        "\n",
        "    for _ in range(num_mask):\n",
        "        node = random.randint(0, num_nodes - 1)\n",
        "        edges_to_remove = [edge for edge in masked_edges if edge[0] == node or edge[1] == node]\n",
        "        for edge in edges_to_remove:\n",
        "            if edge in masked_edges:\n",
        "                masked_edges.remove(edge)\n",
        "\n",
        "    masked_edge_index = torch.tensor(masked_edges, dtype=torch.long).t().contiguous()\n",
        "    data.edge_index = masked_edge_index\n",
        "    return data\n",
        "\n",
        "# Masking attributes\n",
        "def mask_attributes(data, mask_ratio):\n",
        "    num_nodes = data.num_nodes\n",
        "    num_mask = int(num_nodes * mask_ratio)\n",
        "    mask_indices = random.sample(range(num_nodes), num_mask)\n",
        "    mask_indices = torch.tensor(mask_indices, dtype=torch.long)\n",
        "\n",
        "    data.x[mask_indices] = 0  # Zero out the features of selected nodes\n",
        "    return data\n",
        "\n",
        "# Training and evaluating the model with different masking strategies\n",
        "def train_and_evaluate(in_channels, out_channels, num_classes, train_data, mask_ratios, epochs=100, mask_strategy='mask_edges'):\n",
        "    results = defaultdict(dict)\n",
        "    loss_results = {}  # Simple dictionary for losses\n",
        "    models = {}\n",
        "    criterion_classification = torch.nn.CrossEntropyLoss()\n",
        "\n",
        "    for ratio in mask_ratios:\n",
        "        print(f'Training with mask ratio: {ratio} using {mask_strategy} strategy')\n",
        "\n",
        "        # Move model to GPU\n",
        "        model = MaskGAE(in_channels=in_channels, out_channels=out_channels, num_classes=num_classes).to(device)\n",
        "        optimizer = Adam(model.parameters(), lr=0.01)\n",
        "\n",
        "        accuracies = []\n",
        "        losses = []\n",
        "\n",
        "        # Using tqdm to monitor progress\n",
        "        for epoch in tqdm(range(epochs), desc=f\"Mask Ratio {ratio} ({mask_strategy})\"):\n",
        "            model.train()\n",
        "            optimizer.zero_grad()\n",
        "\n",
        "            # Applying the appropriate masking strategy\n",
        "            if mask_strategy == 'mask_edges':\n",
        "                masked_train_data = mask_edges(train_data.clone(), ratio) if ratio > 0 else train_data\n",
        "            elif mask_strategy == 'mask_neighborhood':\n",
        "                masked_train_data = mask_neighborhood(train_data.clone(), ratio) if ratio > 0 else train_data\n",
        "            elif mask_strategy == 'mask_attributes':\n",
        "                masked_train_data = mask_attributes(train_data.clone(), ratio) if ratio > 0 else train_data\n",
        "\n",
        "            # Moving the data to the GPU\n",
        "            masked_train_data = masked_train_data.to(device)\n",
        "\n",
        "            # Forward pass through the model\n",
        "            structure_out, degree_out, node_classification = model(masked_train_data.x, masked_train_data.edge_index)\n",
        "            loss = criterion_classification(node_classification[masked_train_data.train_mask], masked_train_data.y[masked_train_data.train_mask])\n",
        "            loss.backward()\n",
        "            optimizer.step()\n",
        "\n",
        "            losses.append(loss.item())\n",
        "            tqdm.write(f'Epoch {epoch+1}/{epochs}, Loss: {loss.item()}')\n",
        "\n",
        "            pred = node_classification[masked_train_data.train_mask].argmax(dim=1)\n",
        "            correct = pred.eq(masked_train_data.y[masked_train_data.train_mask]).sum().item()\n",
        "            acc = correct / masked_train_data.train_mask.sum().item()\n",
        "            accuracies.append(acc)\n",
        "\n",
        "        results[ratio] = accuracies\n",
        "\n",
        "        if mask_strategy not in loss_results:\n",
        "            loss_results[mask_strategy] = {}\n",
        "        loss_results[mask_strategy][ratio] = losses\n",
        "\n",
        "        models[(mask_strategy, ratio)] = model\n",
        "\n",
        "    return results, models, loss_results\n",
        "\n",
        "# Evaluating the classification performance on the test set\n",
        "def evaluate_classification(model, test_data):\n",
        "    model.eval()\n",
        "    with torch.no_grad():\n",
        "        _, _, node_classification = model(test_data.x, test_data.edge_index)\n",
        "        pred = node_classification[test_data.test_mask].argmax(dim=1)\n",
        "        true = test_data.y[test_data.test_mask]\n",
        "        pred_probs = F.softmax(node_classification[test_data.test_mask], dim=1)[:, 1]\n",
        "\n",
        "        metrics = calculate_metrics(pred_probs.cpu(), true.cpu())\n",
        "\n",
        "        print(f'Test Metrics: {metrics}')\n",
        "        return metrics\n",
        "\n",
        "# Function to calculate various metrics\n",
        "def calculate_metrics(pred, true):\n",
        "    pred_binary = (pred > 0.5).float()\n",
        "    true_binary = (true > 0.5).float()\n",
        "\n",
        "    mse = F.mse_loss(pred, true).item()\n",
        "    f1 = f1_score(true_binary.numpy(), pred_binary.numpy(), average='macro')\n",
        "    accuracy = accuracy_score(true_binary.numpy(), pred_binary.numpy())\n",
        "    precision = precision_score(true_binary.numpy(), pred_binary.numpy(), average='macro')\n",
        "    recall = recall_score(true_binary.numpy(), pred_binary.numpy(), average='macro')\n",
        "\n",
        "    # Additional metrics for continuous predictions\n",
        "    roc_auc = roc_auc_score(true_binary.numpy(), pred.numpy(), average='macro')\n",
        "    avg_precision = average_precision_score(true_binary.numpy(), pred.numpy(), average='macro')\n",
        "\n",
        "    return {\n",
        "        'MSE': mse,\n",
        "        'F1 Score': f1,\n",
        "        'Accuracy': accuracy,\n",
        "        'Precision': precision,\n",
        "        'Recall': recall,\n",
        "        'ROC AUC': roc_auc,\n",
        "        'Average Precision': avg_precision\n",
        "    }\n",
        "\n",
        "# Training and evaluation loop\n",
        "mask_ratios = [0.0, 0.1, 0.3, 0.5, 0.7, 0.9]\n",
        "strategies = ['mask_edges', 'mask_neighborhood', 'mask_attributes']\n",
        "all_results = {}\n",
        "all_loss_results = {}\n",
        "all_models = {}\n",
        "\n",
        "for strategy in strategies:\n",
        "    results, models, loss_results = train_and_evaluate(\n",
        "        in_channels=train_data.num_features,\n",
        "        out_channels=2,\n",
        "        num_classes=dataset.num_classes,\n",
        "        train_data=train_data,\n",
        "        mask_ratios=mask_ratios,\n",
        "        epochs=CUSTOM_EPOCHS,\n",
        "        mask_strategy=strategy\n",
        "    )\n",
        "    all_results[strategy] = results\n",
        "    all_loss_results[strategy] = loss_results\n",
        "    all_models[strategy] = models\n",
        "\n",
        "# Visualizing classification accuracy results\n",
        "for strategy in strategies:\n",
        "    accuracies = {ratio: all_results[strategy][ratio][-1] for ratio in mask_ratios}\n",
        "    index = np.arange(len(accuracies))\n",
        "    bar_width = 0.35\n",
        "\n",
        "    plt.figure(figsize=(10, 6))\n",
        "    plt.bar(index, list(accuracies.values()), width=bar_width, color='skyblue', label='Classification Accuracy')\n",
        "    plt.xlabel('Mask Ratio')\n",
        "    plt.ylabel('Accuracy')\n",
        "    plt.title(f'MaskGAE {strategy.capitalize()}: Classification Accuracy for Different Masking Ratios')\n",
        "    plt.xticks(index, [str(ratio) for ratio in accuracies.keys()])\n",
        "    plt.legend()\n",
        "    plt.grid(True)\n",
        "    plt.show()\n",
        "\n",
        "# Plot training loss results for each strategy and mask ratio\n",
        "def plot_loss_results(loss_results):\n",
        "    print(f\"loss_results: {loss_results}\")  # Debugowanie, aby zobaczyć strukturę danych\n",
        "    plt.figure(figsize=(15, 10))\n",
        "    mask_strategies = loss_results.keys()\n",
        "\n",
        "    for i, mask_strategy in enumerate(mask_strategies):\n",
        "        plt.subplot(2, 2, i + 1)\n",
        "\n",
        "        # Uzyskanie danych dla konkretnej strategii maskowania\n",
        "        nested_strategy_results = loss_results[mask_strategy]\n",
        "\n",
        "        # Ponowne zagnieżdżenie - pobranie wewnętrznego słownika\n",
        "        strategy_results = nested_strategy_results.get(mask_strategy, {})\n",
        "        if not strategy_results:\n",
        "            print(f\"No data to plot for strategy {mask_strategy}\")\n",
        "            continue\n",
        "\n",
        "        # Iteracja po współczynnikach maskowania i ich stratach\n",
        "        for ratio, losses in sorted(strategy_results.items()):\n",
        "            if isinstance(losses, list) and losses:\n",
        "                plt.plot(range(len(losses)), losses, label=f'Mask ratio {ratio}')  # Poprawiony zakres dla osi X\n",
        "            else:\n",
        "                print(f\"No loss data for mask ratio {ratio} in strategy {mask_strategy}\")\n",
        "\n",
        "        plt.xlabel('Epoch')\n",
        "        plt.ylabel('Loss')\n",
        "        plt.title(f'MaskGAE: {mask_strategy.capitalize()} Strategy: Training Loss')\n",
        "        plt.legend()  # Upewnij się, że legenda jest włączona\n",
        "        plt.grid(True)\n",
        "\n",
        "    plt.tight_layout()\n",
        "    plt.show()\n",
        "\n",
        "plot_loss_results(all_loss_results)\n",
        "\n",
        "# Evaluate model performance on the test set\n",
        "for strategy, models in all_models.items():\n",
        "    for (mask_strategy, ratio), model in models.items():\n",
        "        print(f\"Evaluating model for strategy '{mask_strategy}' with mask ratio {ratio}\")\n",
        "        evaluate_classification(model, test_data)\n"
      ],
      "metadata": {
        "id": "oQ-l5s54B-U8"
      },
      "execution_count": null,
      "outputs": []
    },
    {
      "cell_type": "markdown",
      "source": [
        "# Graf losowy syntetyczny - RGAE"
      ],
      "metadata": {
        "id": "G3saNji2RRP0"
      }
    },
    {
      "cell_type": "markdown",
      "source": [
        "## Przewidywanie połaczeń"
      ],
      "metadata": {
        "id": "4Db5OKvoy54i"
      }
    },
    {
      "cell_type": "code",
      "source": [
        "import torch\n",
        "import networkx as nx\n",
        "import numpy as np\n",
        "from torch_geometric.data import Data\n",
        "import torch.nn.functional as F\n",
        "import torch.nn as nn\n",
        "from torch_geometric.nn import GCNConv\n",
        "from torch.optim import Adam\n",
        "from collections import defaultdict\n",
        "import matplotlib.pyplot as plt\n",
        "import random\n",
        "import os\n",
        "from sklearn.metrics import f1_score, accuracy_score, precision_score, recall_score, roc_auc_score, average_precision_score, roc_curve\n",
        "from torch_geometric.datasets import Planetoid\n",
        "from tqdm import tqdm\n",
        "\n",
        "# Device setup\n",
        "device = torch.device('cuda' if torch.cuda.is_available() else 'cpu')\n",
        "print(device)\n",
        "\n",
        "CUSTOM_EPOCHS = 45\n",
        "\n",
        "# Wczytanie zestawu danych Cora\n",
        "dataset = Planetoid(root='/tmp/Cora', name='Cora')\n",
        "data = dataset[0].to(device)\n",
        "\n",
        "# Podział na zbiór treningowy i testowy\n",
        "def split_edges(data, test_ratio=0.2):\n",
        "    edge_index = data.edge_index\n",
        "    num_edges = edge_index.size(1)\n",
        "\n",
        "    # Wygenerowanie losowego permutacji indeksów\n",
        "    perm = torch.randperm(num_edges)\n",
        "    test_size = int(num_edges * test_ratio)\n",
        "\n",
        "    # Podział indeksów na zbiór testowy i treningowy\n",
        "    test_edge_index = edge_index[:, perm[:test_size]].to(device)\n",
        "    train_edge_index = edge_index[:, perm[test_size:]].to(device)\n",
        "\n",
        "    # Utworzenie dwóch obiektów Data: jeden dla treningu, drugi dla testowania\n",
        "    train_data = Data(x=data.x.to(device), edge_index=train_edge_index)\n",
        "    test_data = Data(x=data.x.to(device), edge_index=test_edge_index)\n",
        "\n",
        "    return train_data, test_data\n",
        "\n",
        "train_data, test_data = split_edges(data, test_ratio=0.2)\n",
        "\n",
        "class RobustGraphAE(torch.nn.Module):\n",
        "    def __init__(self, in_channels, out_channels, hidden_channels=64, dropout=0.5):\n",
        "        super(RobustGraphAE, self).__init__()\n",
        "        self.conv1 = GCNConv(in_channels, hidden_channels)\n",
        "        self.conv2 = GCNConv(hidden_channels, hidden_channels)\n",
        "        self.linear = nn.Linear(hidden_channels, out_channels)\n",
        "        self.structure_decoder = nn.Sequential(\n",
        "            nn.Linear(out_channels, hidden_channels),\n",
        "            nn.ReLU(),\n",
        "            nn.Dropout(dropout),\n",
        "            nn.Linear(hidden_channels, in_channels)\n",
        "        )\n",
        "        self.degree_decoder = nn.Sequential(\n",
        "            nn.Linear(out_channels, hidden_channels),\n",
        "            nn.ReLU(),\n",
        "            nn.Dropout(dropout),\n",
        "            nn.Linear(hidden_channels, in_channels)\n",
        "        )\n",
        "        self.perturbation_layer = nn.Linear(in_channels, in_channels)\n",
        "\n",
        "    def encode(self, x, edge_index):\n",
        "        x = F.relu(self.conv1(x, edge_index))\n",
        "        x = F.relu(self.conv2(x, edge_index))\n",
        "        return self.linear(x)\n",
        "\n",
        "    def decode_structure(self, z):\n",
        "        return self.structure_decoder(z)\n",
        "\n",
        "    def decode_degree(self, z):\n",
        "        return self.degree_decoder(z)\n",
        "\n",
        "    def generate_perturbation(self, x):\n",
        "        return torch.tanh(self.perturbation_layer(x))\n",
        "\n",
        "    def forward(self, x, edge_index):\n",
        "        z = self.encode(x, edge_index)\n",
        "        structure_reconstruction = self.decode_structure(z)\n",
        "        degree_prediction = self.decode_degree(z)\n",
        "        perturbation = self.generate_perturbation(x)\n",
        "        perturbed_x = x + perturbation\n",
        "        perturbed_z = self.encode(perturbed_x, edge_index)\n",
        "        perturbed_structure_reconstruction = self.decode_structure(perturbed_z)\n",
        "        perturbed_degree_prediction = self.decode_degree(perturbed_z)\n",
        "        return structure_reconstruction, degree_prediction, \\\n",
        "               perturbation, perturbed_structure_reconstruction, perturbed_degree_prediction\n",
        "\n",
        "def robust_graph_ae_loss(model, x, edge_index, alpha=0.5, beta=0.3):\n",
        "    structure_reconstruction, degree_prediction, \\\n",
        "    perturbation, perturbed_structure_reconstruction, perturbed_degree_prediction = model(x, edge_index)\n",
        "    structure_loss = F.mse_loss(structure_reconstruction, x)\n",
        "    degree_loss = F.mse_loss(degree_prediction, x)\n",
        "    consistency_loss = F.mse_loss(perturbed_structure_reconstruction, structure_reconstruction) + \\\n",
        "                       F.mse_loss(perturbed_degree_prediction, degree_prediction)\n",
        "    perturbation_regularization = torch.mean(torch.norm(perturbation, dim=-1))\n",
        "    total_loss = structure_loss + degree_loss + alpha * consistency_loss + beta * perturbation_regularization\n",
        "    return total_loss\n",
        "\n",
        "# New masking strategies\n",
        "def mask_edges(data, mask_ratio):\n",
        "    edge_index = data.edge_index.t().tolist()\n",
        "    num_edges = len(edge_index)\n",
        "\n",
        "    num_mask = int(num_edges * mask_ratio)\n",
        "\n",
        "    mask_indices = random.sample(range(num_edges), num_mask)\n",
        "    mask_indices = torch.tensor(mask_indices, dtype=torch.long)\n",
        "\n",
        "    masked_edges = [edge for i, edge in enumerate(edge_index) if i not in mask_indices]\n",
        "    masked_edge_index = torch.tensor(masked_edges, dtype=torch.long).t().contiguous()\n",
        "\n",
        "    data.edge_index = masked_edge_index\n",
        "    return data\n",
        "\n",
        "def mask_neighborhood(data, mask_ratio):\n",
        "    edge_index = data.edge_index.cpu().numpy()\n",
        "    num_nodes = data.num_nodes\n",
        "    num_mask = int(num_nodes * mask_ratio)\n",
        "    masked_edges = edge_index.T.tolist()\n",
        "\n",
        "    for _ in range(num_mask):\n",
        "        node = random.randint(0, num_nodes - 1)\n",
        "        edges_to_remove = [edge for edge in masked_edges if edge[0] == node or edge[1] == node]\n",
        "        for edge in edges_to_remove:\n",
        "            if edge in masked_edges:\n",
        "                masked_edges.remove(edge)\n",
        "\n",
        "    masked_edge_index = torch.tensor(masked_edges, dtype=torch.long).t().contiguous().to(device)\n",
        "\n",
        "    data.edge_index = masked_edge_index\n",
        "    return data\n",
        "\n",
        "def mask_attributes(data, mask_ratio):\n",
        "    num_nodes = data.num_nodes\n",
        "\n",
        "    num_mask = int(num_nodes * mask_ratio)\n",
        "    mask_indices = random.sample(range(num_nodes), num_mask)\n",
        "\n",
        "    mask_indices = torch.tensor(mask_indices, dtype=torch.long).to(device)\n",
        "    data.x[mask_indices] = 0  # Zero out the features of selected nodes\n",
        "\n",
        "    return data\n",
        "\n",
        "# Updated train_and_evaluate function with the new masking strategies\n",
        "def train_and_evaluate(in_channels, out_channels, train_data, test_data, mask_ratios, epochs=100):\n",
        "    results = defaultdict(list)\n",
        "    models = {}\n",
        "    mask_strategies = {\n",
        "        'mask_edges': mask_edges,\n",
        "        'mask_neighborhood': mask_neighborhood,\n",
        "        'mask_attributes': mask_attributes,\n",
        "    }\n",
        "\n",
        "    for strategy_name, strategy_func in mask_strategies.items():\n",
        "        for ratio in mask_ratios:\n",
        "            print(f'Training with mask strategy: {strategy_name}, mask ratio: {ratio}')\n",
        "            model = RobustGraphAE(in_channels=in_channels, out_channels=out_channels).to(device)\n",
        "            optimizer = Adam(model.parameters(), lr=0.01)\n",
        "\n",
        "            losses = []\n",
        "\n",
        "            for epoch in tqdm(range(epochs), desc=f'{strategy_name} - Mask Ratio {ratio}'):\n",
        "                model.train()\n",
        "                optimizer.zero_grad()\n",
        "                masked_train_data = strategy_func(train_data.clone().to(device), ratio)\n",
        "                loss = robust_graph_ae_loss(model, masked_train_data.x, masked_train_data.edge_index)\n",
        "                loss.backward()\n",
        "                optimizer.step()\n",
        "                losses.append(loss.item())\n",
        "                tqdm.write(f'Epoch {epoch+1}/{epochs}, Loss: {loss.item()}')\n",
        "\n",
        "            # Store the losses and models after training\n",
        "            results[(strategy_name, ratio)] = losses\n",
        "            models[(strategy_name, ratio)] = model\n",
        "\n",
        "    return results, models\n",
        "\n",
        "def evaluate_on_test(model, test_data):\n",
        "    model.eval()\n",
        "    with torch.no_grad():\n",
        "        structure_reconstruction, degree_prediction, \\\n",
        "        perturbation, perturbed_structure_reconstruction, perturbed_degree_prediction = model(test_data.x, test_data.edge_index)\n",
        "        structure_error = F.mse_loss(structure_reconstruction, test_data.x).item()\n",
        "        degree_error = F.mse_loss(degree_prediction, test_data.x).item()\n",
        "        print(f'Test Structure Error: {structure_error}, Test Degree Error: {degree_error}')\n",
        "        return structure_error, degree_error\n",
        "\n",
        "# Nowa funkcja do obliczania miar\n",
        "def calculate_metrics(pred, true):\n",
        "    # Move tensors to CPU and convert to numpy\n",
        "    true = true.cpu().numpy().flatten()\n",
        "    pred = pred.cpu().numpy().flatten()\n",
        "\n",
        "    # Compute ROC curve and optimal threshold\n",
        "    fpr, tpr, thresholds = roc_curve(true, pred)\n",
        "    optimal_idx = np.argmax(tpr - fpr)\n",
        "    optimal_threshold = thresholds[optimal_idx]\n",
        "\n",
        "    # Use optimal threshold to generate binary predictions\n",
        "    pred_binary = (pred > optimal_threshold).astype(float)\n",
        "    true_binary = (true > 0.5).astype(float)\n",
        "\n",
        "    # Calculate various metrics\n",
        "    mse = F.mse_loss(torch.tensor(pred), torch.tensor(true)).item()\n",
        "    f1 = f1_score(true_binary, pred_binary, average='macro')\n",
        "    accuracy = accuracy_score(true_binary, pred_binary)\n",
        "    precision = precision_score(true_binary, pred_binary, average='macro')\n",
        "    recall = recall_score(true_binary, pred_binary, average='macro')\n",
        "    roc_auc = roc_auc_score(true_binary, pred, average='macro')\n",
        "    avg_precision = average_precision_score(true_binary, pred, average='macro')\n",
        "\n",
        "    return {\n",
        "        'MSE': mse,\n",
        "        'F1 Score': f1,\n",
        "        'Accuracy': accuracy,\n",
        "        'Precision': precision,\n",
        "        'Recall': recall,\n",
        "        'ROC AUC': roc_auc,\n",
        "        'Average Precision': avg_precision\n",
        "    }\n",
        "\n",
        "def plot_results(results):\n",
        "    # Iterate over each masking strategy\n",
        "    strategies = set(strategy_name for strategy_name, _ in results.keys())\n",
        "\n",
        "    for strategy in strategies:\n",
        "        plt.figure(figsize=(10, 6))\n",
        "\n",
        "        # Filter results for the current strategy\n",
        "        for (strategy_name, mask_ratio), losses in results.items():\n",
        "            if strategy_name == strategy:\n",
        "                if mask_ratio == 0.0:\n",
        "                    plt.plot(losses, label=f'Without masking')\n",
        "                else:\n",
        "                    plt.plot(losses, label=f'Mask ratio {mask_ratio}')\n",
        "\n",
        "        plt.xlabel('Epoch')\n",
        "        plt.ylabel('MSE Loss')\n",
        "        plt.title(f'RGAE: Effect of Masking Strategy {strategy} on MSE Loss')\n",
        "        plt.legend()\n",
        "        plt.grid(True)\n",
        "        plt.show()\n",
        "\n",
        "def final_loss_comparison(results):\n",
        "    comparison_results = defaultdict(list)\n",
        "    for (strategy_name, ratio), losses in results.items():\n",
        "        comparison_results[strategy_name].append((ratio, losses[-1]))\n",
        "\n",
        "    for strategy_name, losses in comparison_results.items():\n",
        "        ratios, final_losses = zip(*sorted(losses))\n",
        "        plt.figure(figsize=(10, 6))\n",
        "        plt.bar(ratios, final_losses, color='skyblue')\n",
        "        plt.xlabel('Mask Ratio')\n",
        "        plt.ylabel('Final MSE Loss')\n",
        "        plt.title(f'RGAE: Final MSE Loss for Masking Strategy {strategy_name}')\n",
        "        plt.grid(True)\n",
        "        plt.show()\n",
        "\n",
        "def predict(model, data):\n",
        "    model.eval()\n",
        "    with torch.no_grad():\n",
        "        structure_reconstruction, degree_prediction, \\\n",
        "        perturbation, perturbed_structure_reconstruction, perturbed_degree_prediction = model(data.x, data.edge_index)\n",
        "        return structure_reconstruction, degree_prediction, perturbation\n",
        "\n",
        "def calculate_prediction_error(pred_structure, pred_degree, data):\n",
        "    structure_error = torch.nn.functional.mse_loss(pred_structure, data.x).item()\n",
        "    degree_error = torch.nn.functional.mse_loss(pred_degree, data.x).item()\n",
        "    return structure_error, degree_error\n",
        "\n",
        "# Training and evaluation\n",
        "mask_ratios = [0.0, 0.1, 0.3, 0.5, 0.7, 0.9]\n",
        "results, models = train_and_evaluate(\n",
        "    in_channels=train_data.num_features,\n",
        "    out_channels=2,\n",
        "    train_data=train_data,\n",
        "    test_data=test_data,\n",
        "    mask_ratios=mask_ratios,\n",
        "    epochs=CUSTOM_EPOCHS\n",
        ")\n",
        "\n",
        "# Plot results\n",
        "plot_results(results)\n",
        "final_loss_comparison(results)\n",
        "\n",
        "# Evaluate on test data\n",
        "errors = {}\n",
        "metrics_results = {}\n",
        "encoded_representations = {}\n",
        "for (strategy_name, ratio), model in models.items():\n",
        "    errors[strategy_name] = errors.get(strategy_name, {})\n",
        "    metrics_results[strategy_name] = metrics_results.get(strategy_name, {})\n",
        "    encoded_representations[strategy_name] = encoded_representations.get(strategy_name, {})\n",
        "\n",
        "    test_loss = evaluate_on_test(model, test_data)\n",
        "    print(f\"{strategy_name} | Mask Ratio: {ratio} | Test Loss: {test_loss}\")\n",
        "\n",
        "    pred_structure, pred_degree, perturbation = predict(model, test_data)\n",
        "    structure_error, degree_error = calculate_prediction_error(pred_structure, pred_degree, test_data)\n",
        "    errors[strategy_name][ratio] = (structure_error, degree_error)\n",
        "    encoded_representations[strategy_name][ratio] = pred_structure\n",
        "\n",
        "    # Calculate additional metrics\n",
        "    metrics = calculate_metrics(pred_structure, test_data.x)\n",
        "    metrics_results[strategy_name][ratio] = metrics\n",
        "    print(f\"Metrics for {strategy_name} | Mask Ratio: {ratio}: {metrics}\")\n",
        "\n",
        "# Adjust error plotting to check for key existence\n",
        "for strategy in strategies:\n",
        "    strategy_errors = {ratio: errors[strategy].get(ratio, (0, 0)) for ratio in mask_ratios}\n",
        "    index = np.arange(len(mask_ratios))\n",
        "    index_shifted = index + bar_width\n",
        "\n",
        "    plt.figure(figsize=(10, 6))\n",
        "    plt.bar(index, [e[0] for e in strategy_errors.values()], width=bar_width, label='Structure Error', color='skyblue')\n",
        "    plt.bar(index_shifted, [e[1] for e in strategy_errors.values()], width=bar_width, label='Degree Error', color='orange')\n",
        "    plt.xlabel('Mask Ratio')\n",
        "    plt.ylabel('Prediction Error')\n",
        "    plt.title(f'RGAE: {strategy.capitalize()} Strategy: Link Prediction Errors for Different Masking Ratios')\n",
        "    plt.xticks(index + bar_width / 2, [str(r) for r in mask_ratios])\n",
        "    plt.legend()\n",
        "    plt.grid(True)\n",
        "    plt.show()"
      ],
      "metadata": {
        "id": "DX8wkRiForOz"
      },
      "execution_count": null,
      "outputs": []
    },
    {
      "cell_type": "markdown",
      "source": [
        "## Klasyfikacja społeczności"
      ],
      "metadata": {
        "id": "iZkrP3_Oy7f-"
      }
    },
    {
      "cell_type": "code",
      "source": [
        "import torch\n",
        "import networkx as nx\n",
        "import numpy as np\n",
        "from torch_geometric.data import Data\n",
        "import torch.nn.functional as F\n",
        "import torch.nn as nn\n",
        "from torch_geometric.nn import GCNConv\n",
        "from torch.optim import Adam\n",
        "from collections import defaultdict\n",
        "import matplotlib.pyplot as plt\n",
        "import random\n",
        "from sklearn.metrics import f1_score, accuracy_score, precision_score, recall_score, roc_auc_score, average_precision_score, roc_curve\n",
        "from tqdm import tqdm\n",
        "from torch_geometric.datasets import Planetoid\n",
        "import os\n",
        "\n",
        "# Parameters\n",
        "CUSTOM_EPOCHS = 100\n",
        "\n",
        "# Load Cora dataset\n",
        "dataset = Planetoid(root='/tmp/Cora', name='Cora')\n",
        "num_classes = dataset.num_classes\n",
        "data = dataset[0]\n",
        "\n",
        "# Ensure CUDA and print the device\n",
        "device = torch.device('cuda' if torch.cuda.is_available() else 'cpu')\n",
        "# device = torch.device('cpu')\n",
        "print(f'Using device: {device}')\n",
        "data = data.to(device)\n",
        "\n",
        "# Podział na zbiór treningowy i testowy\n",
        "def split_edges_and_nodes(data, test_ratio=0.2):\n",
        "    edge_index = data.edge_index\n",
        "    num_edges = edge_index.size(1)\n",
        "    num_nodes = data.num_nodes\n",
        "\n",
        "    # Wygenerowanie losowej permutacji indeksów\n",
        "    perm_edges = torch.randperm(num_edges).to(device)  # Ensure on the same device\n",
        "    perm_nodes = torch.randperm(num_nodes).to(device)  # Ensure on the same device\n",
        "    test_size_edges = int(num_edges * test_ratio)\n",
        "    test_size_nodes = int(num_nodes * test_ratio)\n",
        "\n",
        "    # Podział indeksów na zbiór testowy i treningowy\n",
        "    test_edge_index = edge_index[:, perm_edges[:test_size_edges]]\n",
        "    train_edge_index = edge_index[:, perm_edges[test_size_edges:]]\n",
        "    train_mask = torch.zeros(num_nodes, dtype=torch.bool, device=device)  # Ensure on the same device\n",
        "    test_mask = torch.zeros(num_nodes, dtype=torch.bool, device=device)  # Ensure on the same device\n",
        "    train_mask[perm_nodes[test_size_nodes:]] = True\n",
        "    test_mask[perm_nodes[:test_size_nodes]] = True\n",
        "\n",
        "    train_data = Data(x=data.x, edge_index=train_edge_index, y=data.y, train_mask=train_mask, test_mask=test_mask).to(device)\n",
        "    test_data = Data(x=data.x, edge_index=test_edge_index, y=data.y, train_mask=train_mask, test_mask=test_mask).to(device)\n",
        "\n",
        "    return train_data, test_data\n",
        "\n",
        "train_data, test_data = split_edges_and_nodes(data, test_ratio=0.2)\n",
        "\n",
        "# Implementacja Autoenkodera Grafowego RobustGraphAE\n",
        "class RobustGraphAE(torch.nn.Module):\n",
        "    def __init__(self, in_channels, out_channels, hidden_channels=64, dropout=0.5, num_classes=num_classes):\n",
        "        super(RobustGraphAE, self).__init__()\n",
        "\n",
        "        # Enkoder z dwoma warstwami GCN i dodatkową warstwą liniową\n",
        "        self.conv1 = GCNConv(in_channels, hidden_channels)\n",
        "        self.conv2 = GCNConv(hidden_channels, hidden_channels)\n",
        "        self.linear = nn.Linear(hidden_channels, out_channels)\n",
        "\n",
        "        # Warstwa klasyfikacyjna\n",
        "        self.classifier = nn.Linear(out_channels, num_classes)\n",
        "\n",
        "        # Dekoder struktury\n",
        "        self.structure_decoder = nn.Sequential(\n",
        "            nn.Linear(out_channels, hidden_channels),\n",
        "            nn.ReLU(),\n",
        "            nn.Dropout(dropout),\n",
        "            nn.Linear(hidden_channels, in_channels)\n",
        "        )\n",
        "\n",
        "        # Dekoder stopnia\n",
        "        self.degree_decoder = nn.Sequential(\n",
        "            nn.Linear(out_channels, hidden_channels),\n",
        "            nn.ReLU(),\n",
        "            nn.Dropout(dropout),\n",
        "            nn.Linear(hidden_channels, in_channels)\n",
        "        )\n",
        "\n",
        "        # Warstwa perturbacji\n",
        "        self.perturbation_layer = nn.Linear(in_channels, in_channels)\n",
        "\n",
        "    def encode(self, x, edge_index):\n",
        "        x = F.relu(self.conv1(x, edge_index))\n",
        "        x = F.relu(self.conv2(x, edge_index))\n",
        "        return self.linear(x)\n",
        "\n",
        "    def decode_structure(self, z):\n",
        "        return self.structure_decoder(z)\n",
        "\n",
        "    def decode_degree(self, z):\n",
        "        return self.degree_decoder(z)\n",
        "\n",
        "    def classify(self, z):\n",
        "        return self.classifier(z)\n",
        "\n",
        "    def generate_perturbation(self, x):\n",
        "        return torch.tanh(self.perturbation_layer(x))\n",
        "\n",
        "    def forward(self, x, edge_index):\n",
        "        z = self.encode(x, edge_index)\n",
        "        structure_reconstruction = self.decode_structure(z)\n",
        "        degree_prediction = self.decode_degree(z)\n",
        "        class_logits = self.classify(z)\n",
        "\n",
        "        # Generujemy perturbację wejścia\n",
        "        perturbation = self.generate_perturbation(x)\n",
        "        perturbed_x = x + perturbation\n",
        "\n",
        "        # Przebieg przodu dla danych zakłóconych\n",
        "        perturbed_z = self.encode(perturbed_x, edge_index)\n",
        "        perturbed_structure_reconstruction = self.decode_structure(perturbed_z)\n",
        "        perturbed_degree_prediction = self.decode_degree(perturbed_z)\n",
        "\n",
        "        return structure_reconstruction, degree_prediction, class_logits, \\\n",
        "               perturbation, perturbed_structure_reconstruction, perturbed_degree_prediction\n",
        "\n",
        "# Updated robust_graph_ae_loss function\n",
        "def robust_graph_ae_loss(model, x, edge_index, y, train_mask, alpha=0.5, beta=0.3, gamma=0.2):\n",
        "    structure_reconstruction, degree_prediction, class_logits, \\\n",
        "    perturbation, perturbed_structure_reconstruction, perturbed_degree_prediction = model(x, edge_index)\n",
        "\n",
        "    # Strata rekonstrukcji struktury\n",
        "    structure_loss = F.mse_loss(structure_reconstruction, x)\n",
        "\n",
        "    # Strata predykcji stopnia\n",
        "    degree_loss = F.mse_loss(degree_prediction, x)\n",
        "\n",
        "    # Strata klasyfikacji węzłów\n",
        "    classification_loss = F.cross_entropy(class_logits[train_mask], y[train_mask])\n",
        "\n",
        "    # Strata spójności między rekonstrukcjami zakłóconymi i niezakłóconymi\n",
        "    consistency_loss = F.mse_loss(perturbed_structure_reconstruction, structure_reconstruction) + \\\n",
        "                       F.mse_loss(perturbed_degree_prediction, degree_prediction)\n",
        "\n",
        "    # Regularizacja perturbacji\n",
        "    perturbation_regularization = torch.mean(torch.norm(perturbation, dim=-1))\n",
        "\n",
        "    total_loss = structure_loss + degree_loss + alpha * consistency_loss + beta * perturbation_regularization + gamma * classification_loss\n",
        "\n",
        "    return total_loss\n",
        "\n",
        "# New masking strategies\n",
        "def mask_edges(data, mask_ratio):\n",
        "    edge_index = data.edge_index.t().tolist()\n",
        "    num_edges = len(edge_index)\n",
        "    num_mask = int(num_edges * mask_ratio)\n",
        "\n",
        "    mask_indices = random.sample(range(num_edges), num_mask)\n",
        "    mask_indices = torch.tensor(mask_indices, dtype=torch.long)\n",
        "\n",
        "    masked_edges = [edge for i, edge in enumerate(edge_index) if i not in mask_indices]\n",
        "    masked_edge_index = torch.tensor(masked_edges, dtype=torch.long).t().contiguous()\n",
        "\n",
        "    data.edge_index = masked_edge_index\n",
        "    return data\n",
        "\n",
        "def mask_neighborhood(data, mask_ratio):\n",
        "    edge_index = data.edge_index.cpu().numpy()\n",
        "    num_nodes = data.num_nodes\n",
        "    num_mask = int(num_nodes * mask_ratio)\n",
        "    masked_edges = edge_index.T.tolist()\n",
        "\n",
        "    for _ in range(num_mask):\n",
        "        node = random.randint(0, num_nodes - 1)\n",
        "        edges_to_remove = [edge for edge in masked_edges if edge[0] == node or edge[1] == node]\n",
        "        for edge in edges_to_remove:\n",
        "            if edge in masked_edges:\n",
        "                masked_edges.remove(edge)\n",
        "\n",
        "    masked_edge_index = torch.tensor(masked_edges, dtype=torch.long).t().contiguous().to(device)\n",
        "    data.edge_index = masked_edge_index\n",
        "    return data\n",
        "\n",
        "def mask_attributes(data, mask_ratio):\n",
        "    num_nodes = data.num_nodes\n",
        "    num_mask = int(num_nodes * mask_ratio)\n",
        "    mask_indices = random.sample(range(num_nodes), num_mask)\n",
        "    mask_indices = torch.tensor(mask_indices, dtype=torch.long).to(device)\n",
        "    data.x[mask_indices] = 0  # Zero out the features of selected nodes\n",
        "    return data\n",
        "\n",
        "# Updated train_and_evaluate function with the new masking strategies\n",
        "def train_and_evaluate(in_channels, out_channels, train_data, test_data, mask_ratios, epochs=100):\n",
        "    results = defaultdict(list)\n",
        "    models = {}\n",
        "    accuracies = defaultdict(list)\n",
        "    mask_strategies = {\n",
        "        'mask_edges': mask_edges,\n",
        "        'mask_neighborhood': mask_neighborhood,\n",
        "        'mask_attributes': mask_attributes,\n",
        "    }\n",
        "\n",
        "    for strategy_name, strategy_func in mask_strategies.items():\n",
        "        for ratio in mask_ratios:\n",
        "            print(f'Training with mask strategy: {strategy_name}, mask ratio: {ratio}')\n",
        "            model = RobustGraphAE(in_channels=in_channels, out_channels=out_channels).to(device)\n",
        "            optimizer = Adam(model.parameters(), lr=0.01)\n",
        "\n",
        "            losses = []\n",
        "\n",
        "            # Adding tqdm for progress bar\n",
        "            for epoch in tqdm(range(epochs), desc=f'Training Epochs for {strategy_name} with ratio {ratio}'):\n",
        "                model.train()\n",
        "                optimizer.zero_grad()\n",
        "                masked_train_data = strategy_func(train_data.clone(), ratio).to(device)  # Move to same device\n",
        "                loss = robust_graph_ae_loss(\n",
        "                    model,\n",
        "                    masked_train_data.x,\n",
        "                    masked_train_data.edge_index,\n",
        "                    masked_train_data.y,\n",
        "                    masked_train_data.train_mask,\n",
        "                )\n",
        "                loss.backward()\n",
        "                optimizer.step()\n",
        "                losses.append(loss.item())\n",
        "\n",
        "                if epoch % 10 == 0:\n",
        "                    print(f'Epoch {epoch}, Loss: {loss.item()}')\n",
        "\n",
        "            # Store the losses and models after training\n",
        "            results[(strategy_name, ratio)] = losses\n",
        "            models[(strategy_name, ratio)] = model\n",
        "\n",
        "            # Evaluate on the test set for classification accuracy\n",
        "            accuracy = evaluate_classification_accuracy(model, test_data)\n",
        "            accuracies[strategy_name].append((ratio, accuracy))\n",
        "            print(f\"{strategy_name} | Mask Ratio: {ratio} | Test Accuracy: {accuracy}\")\n",
        "\n",
        "            # Call predict_on_unlabeled to compute metrics on unlabeled data\n",
        "            predictions, metrics = predict_on_unlabeled(model, test_data)\n",
        "            print(f\"Strategy: {strategy_name}, Mask Ratio: {ratio}, Metrics on Unlabeled Data: {metrics}\")\n",
        "\n",
        "    return results, models, accuracies\n",
        "\n",
        "# Updated evaluate_classification_accuracy function\n",
        "def evaluate_classification_accuracy(model, test_data):\n",
        "    model.eval()\n",
        "    with torch.no_grad():\n",
        "        _, _, class_logits, _, _, _ = model(test_data.x, test_data.edge_index)\n",
        "        pred = class_logits[test_data.test_mask].max(1)[1]\n",
        "        acc = pred.eq(test_data.y[test_data.test_mask]).sum().item() / test_data.test_mask.sum().item()\n",
        "        return acc\n",
        "\n",
        "# Ewaluacja na zbiorze testowym\n",
        "def evaluate_on_test(model, test_data):\n",
        "    model.eval()\n",
        "    with torch.no_grad():\n",
        "        structure_reconstruction, degree_prediction, class_logits, \\\n",
        "        perturbation, perturbed_structure_reconstruction, perturbed_degree_prediction = model(test_data.x, test_data.edge_index)\n",
        "\n",
        "        # Structure error\n",
        "        structure_error = F.mse_loss(structure_reconstruction, test_data.x).item()\n",
        "\n",
        "        # Degree error\n",
        "        degree_error = F.mse_loss(degree_prediction, test_data.x).item()\n",
        "\n",
        "        # Classification accuracy\n",
        "        pred = class_logits[test_data.test_mask].max(1)[1]\n",
        "        classification_accuracy = pred.eq(test_data.y[test_data.test_mask]).sum().item() / test_data.test_mask.sum().item()\n",
        "\n",
        "        print(f'Test Structure Error: {structure_error}, Test Degree Error: {degree_error}, Test Classification Accuracy: {classification_accuracy}')\n",
        "        return structure_error, degree_error, classification_accuracy\n",
        "\n",
        "# Nowa funkcja obliczająca miary\n",
        "def calculate_metrics(pred, true):\n",
        "    # Użyj argmax do uzyskania przewidywań klas (najwyższa logit dla każdej próbki)\n",
        "    pred_classes = pred.max(1)[1]\n",
        "\n",
        "    # MSE obliczane tylko dla wartości logistycznych przewidywań w porównaniu do one-hot encodowanych prawdziwych etykiet\n",
        "    true_one_hot = F.one_hot(true, num_classes=pred.size(1)).float()\n",
        "    mse = F.mse_loss(pred, true_one_hot).item()\n",
        "\n",
        "    # Konwersja tensorów na numpy do użycia w sklearn\n",
        "    pred_classes_np = pred_classes.cpu().numpy()\n",
        "    true_np = true.cpu().numpy()\n",
        "\n",
        "    f1 = f1_score(true_np, pred_classes_np, average='macro')\n",
        "    accuracy = accuracy_score(true_np, pred_classes_np)\n",
        "    precision = precision_score(true_np, pred_classes_np, average='macro')\n",
        "    recall = recall_score(true_np, pred_classes_np, average='macro')\n",
        "\n",
        "    # Additional metrics for continuous predictions\n",
        "    if len(np.unique(true_np)) > 1:  # Sprawdzenie, czy więcej niż jedna klasa występuje\n",
        "        roc_auc = roc_auc_score(true_one_hot.cpu().numpy(), pred.cpu().numpy(), multi_class='ovr')\n",
        "        avg_precision = average_precision_score(true_one_hot.cpu().numpy(), pred.cpu().numpy())\n",
        "    else:\n",
        "        roc_auc = 'undefined'  # Nie można obliczyć AUC, jeśli nie ma więcej niż jedna klasa\n",
        "        avg_precision = 'undefined'\n",
        "\n",
        "    return {\n",
        "        'MSE': mse,\n",
        "        'F1 Score': f1,\n",
        "        'Accuracy': accuracy,\n",
        "        'Precision': precision,\n",
        "        'Recall': recall,\n",
        "        'ROC AUC': roc_auc,\n",
        "        'Average Precision': avg_precision\n",
        "    }\n",
        "\n",
        "# Predykcja na nieolabelowanych danych\n",
        "def predict_on_unlabeled(model, data):\n",
        "    model.eval()\n",
        "    with torch.no_grad():\n",
        "        structure_reconstruction, degree_prediction, class_logits, _, _, _ = model(data.x, data.edge_index)\n",
        "        predictions = class_logits.max(1)[1]\n",
        "\n",
        "        # Obliczanie metryk\n",
        "        metrics = calculate_metrics(class_logits, data.y)\n",
        "\n",
        "        return predictions, metrics\n",
        "\n",
        "# Run the training and evaluation process\n",
        "mask_ratios = [0.0, 0.1, 0.3, 0.5, 0.7, 0.9]\n",
        "results, models, accuracies = train_and_evaluate(\n",
        "    in_channels=train_data.num_features,\n",
        "    out_channels=2,\n",
        "    train_data=train_data,\n",
        "    test_data=test_data,\n",
        "    mask_ratios=mask_ratios,\n",
        "    epochs=CUSTOM_EPOCHS\n",
        ")\n",
        "\n",
        "# Analiza wyników i wizualizacje\n",
        "def plot_results(results, accuracies, mask_ratios):\n",
        "    for strategy_name in ['mask_edges', 'mask_neighborhood', 'mask_attributes']:\n",
        "        plt.figure(figsize=(10, 6))\n",
        "        for (strategy, ratio), losses in results.items():\n",
        "            if strategy == strategy_name:\n",
        "                plt.plot(losses, label=f'Mask ratio {ratio}')\n",
        "\n",
        "        plt.xlabel('Epoch')\n",
        "        plt.ylabel('MSE Loss')\n",
        "        plt.title(f'RGAE: Training Loss for Masking Strategy: {strategy_name}')\n",
        "        plt.legend()\n",
        "        plt.grid(True)\n",
        "        plt.show()\n",
        "\n",
        "plot_results(results, accuracies, mask_ratios)\n",
        "\n",
        "# Wizualizacja wyników klasyfikacji\n",
        "for strategy in ['mask_edges', 'mask_neighborhood', 'mask_attributes']:\n",
        "    strategy_accuracies = {ratio: accuracy for ratio, accuracy in accuracies[strategy]}\n",
        "\n",
        "    index = np.arange(len(strategy_accuracies))\n",
        "    bar_width = 0.35\n",
        "\n",
        "    plt.figure(figsize=(10, 6))\n",
        "    plt.bar(index, list(strategy_accuracies.values()), width=bar_width, color='skyblue', label='Classification Accuracy')\n",
        "    plt.xlabel('Mask Ratio')\n",
        "    plt.ylabel('Accuracy')\n",
        "    plt.title(f'RGAE: {strategy.capitalize()}: Classification Accuracy for Different Masking Ratios')\n",
        "    plt.xticks(index, [str(ratio) for ratio in strategy_accuracies.keys()])\n",
        "    plt.legend()\n",
        "    plt.grid(True)\n",
        "    plt.show()"
      ],
      "metadata": {
        "id": "lTz3Ho2OugQt"
      },
      "execution_count": null,
      "outputs": []
    },
    {
      "cell_type": "markdown",
      "source": [
        "# Graf losowy syntetyczny - S2GAE"
      ],
      "metadata": {
        "id": "JvWeHy1_GivW"
      }
    },
    {
      "cell_type": "markdown",
      "source": [
        "## Przewidywanie połaczeń"
      ],
      "metadata": {
        "id": "kUBlgojxGoZu"
      }
    },
    {
      "cell_type": "code",
      "source": [
        "import torch\n",
        "import networkx as nx\n",
        "import numpy as np\n",
        "from torch_geometric.data import Data\n",
        "import torch.nn.functional as F\n",
        "import torch.nn as nn\n",
        "from torch_geometric.nn import GCNConv\n",
        "from torch.optim import Adam\n",
        "from collections import defaultdict\n",
        "import matplotlib.pyplot as plt\n",
        "import random\n",
        "from sklearn.metrics import f1_score, accuracy_score, precision_score, recall_score, roc_auc_score, average_precision_score, roc_curve\n",
        "from torch_geometric.datasets import Planetoid\n",
        "from torch_geometric.utils import to_undirected\n",
        "from tqdm import tqdm\n",
        "\n",
        "CUSTOM_EPOCHS = 30\n",
        "device = torch.device('cuda' if torch.cuda.is_available() else 'cpu')\n",
        "print(device)\n",
        "\n",
        "# Wczytanie danych Cora\n",
        "dataset = Planetoid(root='/tmp/Cora', name='Cora')\n",
        "data = dataset[0]\n",
        "data.edge_index = to_undirected(data.edge_index).to(device)\n",
        "data = data.to(device)\n",
        "\n",
        "## Podział na zbiór treningowy i testowy\n",
        "def split_edges(data, test_ratio=0.2):\n",
        "    edge_index = data.edge_index\n",
        "    num_edges = edge_index.size(1)\n",
        "\n",
        "    # Wygenerowanie losowego permutacji indeksów\n",
        "    perm = torch.randperm(num_edges)\n",
        "    test_size = int(num_edges * test_ratio)\n",
        "\n",
        "    # Podział indeksów na zbiór testowy i treningowy\n",
        "    test_edge_index = edge_index[:, perm[:test_size]]\n",
        "    train_edge_index = edge_index[:, perm[test_size:]]\n",
        "\n",
        "    # Utworzenie dwóch obiektów Data: jeden dla treningu, drugi dla testowania\n",
        "    train_data = Data(x=data.x, edge_index=train_edge_index).to(device)\n",
        "    test_data = Data(x=data.x, edge_index=test_edge_index).to(device)\n",
        "\n",
        "    return train_data, test_data\n",
        "\n",
        "train_data, test_data = split_edges(data, test_ratio=0.2)\n",
        "\n",
        "## Implementacja Autoenkodera Grafowego S2GAE\n",
        "class S2GAE(torch.nn.Module):\n",
        "    def __init__(self, in_channels, out_channels):\n",
        "        super(S2GAE, self).__init__()\n",
        "\n",
        "        # Enkoder z dwoma warstwami GCN\n",
        "        self.conv1 = GCNConv(in_channels, 2 * out_channels)\n",
        "        self.conv2 = GCNConv(2 * out_channels, out_channels)\n",
        "\n",
        "        # Dekoder z korelacją krzyżową do rekonstrukcji krawędzi\n",
        "        self.cross_correlation_decoder = nn.Sequential(\n",
        "            nn.Linear(out_channels * 3, out_channels * 2),\n",
        "            nn.ReLU(),\n",
        "            nn.Linear(out_channels * 2, 1)\n",
        "        )\n",
        "\n",
        "    def encode(self, x, edge_index):\n",
        "        x = F.relu(self.conv1(x, edge_index))\n",
        "        return self.conv2(x, edge_index)\n",
        "\n",
        "    def decode(self, z, edge_index):\n",
        "        row, col = edge_index\n",
        "        h_e = torch.cat([z[row] * z[col], z[row], z[col]], dim=1)\n",
        "        return self.cross_correlation_decoder(h_e).squeeze()\n",
        "\n",
        "    def forward(self, x, edge_index):\n",
        "        z = self.encode(x, edge_index)\n",
        "        edge_reconstruction = self.decode(z, edge_index)\n",
        "        return edge_reconstruction\n",
        "\n",
        "## Nowe funkcje maskowania\n",
        "\n",
        "# Maskowanie krawędzi\n",
        "def mask_edges(data, mask_ratio):\n",
        "    edge_index = data.edge_index.t().tolist()\n",
        "    num_edges = len(edge_index)\n",
        "    num_mask = int(num_edges * mask_ratio)\n",
        "\n",
        "    mask_indices = random.sample(range(num_edges), num_mask)\n",
        "    mask_indices = torch.tensor(mask_indices, dtype=torch.long)\n",
        "\n",
        "    masked_edges = [edge for i, edge in enumerate(edge_index) if i not in mask_indices]\n",
        "    masked_edge_index = torch.tensor(masked_edges, dtype=torch.long).t().contiguous()\n",
        "\n",
        "    data.edge_index = masked_edge_index\n",
        "    return data\n",
        "\n",
        "# Maskowanie sąsiedztw\n",
        "def mask_neighborhood(data, mask_ratio):\n",
        "    edge_index = data.edge_index.cpu().numpy()\n",
        "    num_nodes = data.num_nodes\n",
        "    num_mask = int(num_nodes * mask_ratio)\n",
        "    masked_edges = edge_index.T.tolist()\n",
        "\n",
        "    for _ in range(num_mask):\n",
        "        node = random.randint(0, num_nodes - 1)\n",
        "        edges_to_remove = [edge for edge in masked_edges if edge[0] == node or edge[1] == node]\n",
        "        for edge in edges_to_remove:\n",
        "            if edge in masked_edges:\n",
        "                masked_edges.remove(edge)\n",
        "\n",
        "    masked_edge_index = torch.tensor(masked_edges, dtype=torch.long).t().contiguous().to(device)\n",
        "    data.edge_index = masked_edge_index\n",
        "    return data\n",
        "\n",
        "# Maskowanie cech\n",
        "def mask_attributes(data, mask_ratio):\n",
        "    num_nodes = data.num_nodes\n",
        "    num_mask = int(num_nodes * mask_ratio)\n",
        "    mask_indices = random.sample(range(num_nodes), num_mask)\n",
        "    mask_indices = torch.tensor(mask_indices, dtype=torch.long).to(device)\n",
        "    data.x[mask_indices] = 0  # Wyzerowanie cech wybranych węzłów\n",
        "    return data\n",
        "\n",
        "## Trening modelu z użyciem zbioru treningowego i ocena na zbiorze testowym\n",
        "def train_and_evaluate(in_channels, out_channels, train_data, test_data, mask_ratios, epochs=100):\n",
        "    results = defaultdict(lambda: defaultdict(list))\n",
        "    models = defaultdict(dict)\n",
        "    criterion = torch.nn.BCEWithLogitsLoss()  # Binary Cross Entropy for link prediction\n",
        "\n",
        "    # Strategia maskowania\n",
        "    mask_strategies = {\n",
        "        'mask_edges': mask_edges,\n",
        "        'mask_neighborhood': mask_neighborhood,\n",
        "        'mask_attributes': mask_attributes,\n",
        "    }\n",
        "\n",
        "    for strategy_name, strategy_func in mask_strategies.items():\n",
        "        for ratio in mask_ratios:\n",
        "            print(f'Training with mask strategy: {strategy_name}, mask ratio: {ratio}')\n",
        "            # Inicjalizacja nowego modelu dla każdej strategii maskowania i mask_ratio\n",
        "            model = S2GAE(in_channels=in_channels, out_channels=out_channels).to(device)\n",
        "            optimizer = Adam(model.parameters(), lr=0.01)\n",
        "\n",
        "            for epoch in tqdm(range(epochs), desc=f\"Training {strategy_name} - ratio {ratio}\"):\n",
        "                model.train()\n",
        "                optimizer.zero_grad()\n",
        "\n",
        "                # Maskowanie danych\n",
        "                masked_train_data = strategy_func(train_data.clone(), ratio) if ratio > 0 else train_data\n",
        "\n",
        "                edge_reconstruction = model(masked_train_data.x, masked_train_data.edge_index)\n",
        "\n",
        "                edge_labels = torch.ones(masked_train_data.edge_index.size(1)).to(device)\n",
        "\n",
        "                loss = criterion(edge_reconstruction, edge_labels)\n",
        "\n",
        "                loss.backward()\n",
        "                optimizer.step()\n",
        "\n",
        "                results[strategy_name][ratio].append(loss.item())\n",
        "                tqdm.write(f'Epoch {epoch+1}/{epochs}, Loss: {loss.item()}')\n",
        "\n",
        "            models[strategy_name][ratio] = model\n",
        "\n",
        "    return results, models\n",
        "\n",
        "# Funkcja do oceny modelu na zbiorze testowym\n",
        "def evaluate_on_test(model, test_data):\n",
        "    model.eval()\n",
        "    with torch.no_grad():\n",
        "        z = model.encode(test_data.x, test_data.edge_index)\n",
        "        edge_reconstruction = model.decode(z, test_data.edge_index)\n",
        "        edge_labels = torch.ones(test_data.edge_index.size(1)).to(device)\n",
        "        error = torch.nn.functional.binary_cross_entropy_with_logits(edge_reconstruction, edge_labels).item()\n",
        "\n",
        "        print(f'Test Edge Reconstruction Error: {error}')\n",
        "        return error\n",
        "\n",
        "## Analiza wyników i wizualizacje\n",
        "def plot_results(results):\n",
        "    for strategy, strategy_losses in results.items():\n",
        "        plt.figure(figsize=(10, 6))\n",
        "        for ratio, losses in strategy_losses.items():\n",
        "            plt.plot(losses, label=f'Mask Ratio {ratio}')\n",
        "        plt.xlabel('Epoch')\n",
        "        plt.ylabel('MSE Loss')\n",
        "        plt.title(f'S2GAE: Effect of Masking Ratios on MSE Loss for {strategy.capitalize()} Strategy')\n",
        "        plt.legend()\n",
        "        plt.grid(True)\n",
        "        plt.show()\n",
        "\n",
        "def final_loss_comparison(results):\n",
        "    comparison_results = defaultdict(list)\n",
        "    for strategy_name, strategy_losses in results.items():\n",
        "        for ratio, losses in strategy_losses.items():\n",
        "            comparison_results[strategy_name].append((ratio, losses[-1]))\n",
        "\n",
        "    for strategy_name, losses in comparison_results.items():\n",
        "        ratios, final_losses = zip(*sorted(losses))\n",
        "        plt.figure(figsize=(10, 6))\n",
        "        plt.bar(ratios, final_losses, color='skyblue')\n",
        "        plt.xlabel('Mask Ratio')\n",
        "        plt.ylabel('Final MSE Loss')\n",
        "        plt.title(f'S2GAE: Final MSE Loss for Masking Strategy {strategy_name.capitalize()}')\n",
        "        plt.grid(True)\n",
        "        plt.show()\n",
        "\n",
        "def predict(model, data):\n",
        "    model.eval()\n",
        "    with torch.no_grad():\n",
        "        z = model.encode(data.x, data.edge_index)\n",
        "        pred_structure = model.decode(z, data.edge_index)\n",
        "        pred_degree = pred_structure\n",
        "        return pred_structure, pred_degree, z\n",
        "\n",
        "def calculate_prediction_error(pred_structure, pred_degree, data):\n",
        "    num_edges = data.edge_index.size(1)\n",
        "\n",
        "    if pred_structure.size(0) != num_edges:\n",
        "        raise ValueError(\"Mismatch in the number of edge predictions.\")\n",
        "\n",
        "    if pred_degree.size(0) != num_edges:\n",
        "        raise ValueError(\"Mismatch in the number of edge predictions.\")\n",
        "\n",
        "    edge_labels = torch.ones(num_edges).to(device)\n",
        "    structure_error = torch.nn.functional.mse_loss(pred_structure, edge_labels).item()\n",
        "    degree_error = torch.nn.functional.mse_loss(pred_degree, edge_labels).item()\n",
        "\n",
        "    return structure_error, degree_error\n",
        "\n",
        "def calculate_metrics(pred, true):\n",
        "    # Konwersja logitów na prawdopodobieństwa\n",
        "    pred_prob = torch.sigmoid(pred)\n",
        "    pred_binary = (pred_prob > 0.5).float()\n",
        "\n",
        "    # Konwersja tensorów na numpy do obliczania metryk w sklearn\n",
        "    true_np = true.cpu().numpy()\n",
        "    pred_np = pred_prob.detach().cpu().numpy()  # Użycie detach() przed konwersją do numpy\n",
        "\n",
        "    # Obliczanie różnych metryk\n",
        "    mse = F.mse_loss(pred_prob, true).item()\n",
        "    f1 = f1_score(true_np, pred_binary.cpu().numpy(), average='macro')\n",
        "    accuracy = accuracy_score(true_np, pred_binary.cpu().numpy())\n",
        "    precision = precision_score(true_np, pred_binary.cpu().numpy(), average='macro', zero_division=0)\n",
        "    recall = recall_score(true_np, pred_binary.cpu().numpy(), average='macro', zero_division=0)\n",
        "\n",
        "    # Sprawdzamy, czy są co najmniej dwie klasy\n",
        "    roc_auc = None\n",
        "    avg_precision = None\n",
        "    if len(np.unique(true_np)) > 1:  # Przynajmniej dwie klasy muszą istnieć dla ROC AUC\n",
        "        roc_auc = roc_auc_score(true_np, pred_np)\n",
        "        avg_precision = average_precision_score(true_np, pred_np)\n",
        "\n",
        "    return {\n",
        "        'MSE': mse,\n",
        "        'F1 Score': f1,\n",
        "        'Accuracy': accuracy,\n",
        "        'Precision': precision,\n",
        "        'Recall': recall,\n",
        "        'ROC AUC': roc_auc,\n",
        "        'Average Precision': avg_precision\n",
        "    }\n",
        "\n",
        "# Trening i ocena modelu\n",
        "mask_ratios = [0.0, 0.1, 0.3, 0.5, 0.7, 0.9]\n",
        "results, models = train_and_evaluate(\n",
        "    in_channels=train_data.num_features,\n",
        "    out_channels=2,\n",
        "    train_data=train_data,\n",
        "    test_data=test_data,\n",
        "    mask_ratios=mask_ratios,\n",
        "    epochs=CUSTOM_EPOCHS\n",
        ")\n",
        "\n",
        "# Wizualizacja wyników treningu\n",
        "plot_results(results)\n",
        "final_loss_comparison(results)\n",
        "\n",
        "# Ewaluacja na zbiorze testowym dla wszystkich strategii\n",
        "test_errors = {}\n",
        "for strategy in models:\n",
        "    test_errors[strategy] = {}\n",
        "    for ratio, model in models[strategy].items():\n",
        "        test_loss = evaluate_on_test(model, test_data)\n",
        "        test_errors[strategy][ratio] = test_loss\n",
        "        print(f\"Strategy {strategy}, Mask Ratio {ratio} - Test Loss: {test_loss}\")\n",
        "\n",
        "# Predykcja na nieolabelowanych danych dla wszystkich strategii\n",
        "unlabeled_data = test_data\n",
        "\n",
        "predictions = {}\n",
        "errors = {}\n",
        "encoded_representations = {}\n",
        "metrics_results = {}\n",
        "\n",
        "def generate_negative_edges(data, num_neg_edges):\n",
        "    \"\"\"Generuje brakujące krawędzie (negatywne) dla przewidywania połączeń.\"\"\"\n",
        "    all_possible_edges = set((i, j) for i in range(data.num_nodes) for j in range(i + 1, data.num_nodes))\n",
        "    existing_edges = set((i.item(), j.item()) for i, j in data.edge_index.t())\n",
        "    negative_edges = list(all_possible_edges - existing_edges)\n",
        "\n",
        "    # Losowe wybieranie brakujących krawędzi (negatywnych)\n",
        "    neg_edge_index = random.sample(negative_edges, num_neg_edges)\n",
        "    return torch.tensor(neg_edge_index, dtype=torch.long).t().contiguous().to(device)\n",
        "\n",
        "for strategy in models:\n",
        "    predictions[strategy] = {}\n",
        "    errors[strategy] = {}\n",
        "    encoded_representations[strategy] = {}\n",
        "    metrics_results[strategy] = {}\n",
        "\n",
        "    for ratio, model in models[strategy].items():\n",
        "        print(f'Predicting for strategy {strategy}, mask ratio: {ratio}')\n",
        "\n",
        "        # Przewidywanie dla istniejących krawędzi\n",
        "        pred_structure, pred_degree, encoded_rep = predict(model, unlabeled_data)\n",
        "\n",
        "        structure_error, degree_error = calculate_prediction_error(pred_structure, pred_degree, unlabeled_data)\n",
        "        errors[strategy][ratio] = (structure_error, degree_error)\n",
        "        encoded_representations[strategy][ratio] = encoded_rep\n",
        "\n",
        "        # Generowanie negatywnych krawędzi (brakujących)\n",
        "        num_neg_edges = unlabeled_data.edge_index.size(1)  # Generowanie tylu brakujących krawędzi, ile istniejących\n",
        "        neg_edge_index = generate_negative_edges(unlabeled_data, num_neg_edges)\n",
        "\n",
        "        # Przewidywanie dla brakujących krawędzi\n",
        "        pred_negative = model.decode(encoded_rep, neg_edge_index)\n",
        "\n",
        "        # Łączenie wyników dla krawędzi pozytywnych i negatywnych\n",
        "        preds = torch.cat([pred_structure, pred_negative], dim=0)\n",
        "        true_labels = torch.cat([torch.ones(pred_structure.size(0)), torch.zeros(pred_negative.size(0))], dim=0).to(device)\n",
        "\n",
        "        # Obliczanie metryk\n",
        "        metrics = calculate_metrics(preds, true_labels)\n",
        "        metrics_results[strategy][ratio] = metrics\n",
        "        print(f\"Metrics for strategy {strategy}, mask ratio {ratio}: {metrics}\")\n",
        "\n",
        "\n",
        "# Wizualizacja błędów predykcji dla wszystkich\n",
        "bar_width = 0.35\n",
        "\n",
        "for strategy in models.keys():\n",
        "    strategy_errors = {ratio: errors[strategy].get(ratio, (0, 0)) for ratio in mask_ratios}\n",
        "    index = np.arange(len(mask_ratios))\n",
        "    index_shifted = index + bar_width\n",
        "\n",
        "    plt.figure(figsize=(10, 6))\n",
        "    plt.bar(index, [e[0] for e in strategy_errors.values()], width=bar_width, label='Structure Error', color='skyblue')\n",
        "    plt.bar(index_shifted, [e[1] for e in strategy_errors.values()], width=bar_width, label='Degree Error', color='orange')\n",
        "    plt.xlabel('Mask Ratio')\n",
        "    plt.ylabel('Prediction Error')\n",
        "    plt.title(f'S2GAE: {strategy.capitalize()} Strategy: Link Prediction Errors for Different Masking Ratios')\n",
        "    plt.xticks(index + bar_width / 2, [str(r) for r in mask_ratios])\n",
        "    plt.legend()\n",
        "    plt.grid(True)\n",
        "    plt.show()\n"
      ],
      "metadata": {
        "id": "i7Pchv8j0vY5"
      },
      "execution_count": null,
      "outputs": []
    },
    {
      "cell_type": "markdown",
      "source": [
        "## Klasyfikacja społeczności"
      ],
      "metadata": {
        "id": "ZF9lAEbpGlj8"
      }
    },
    {
      "cell_type": "code",
      "source": [
        "import torch\n",
        "import networkx as nx\n",
        "import numpy as np\n",
        "from torch_geometric.data import Data\n",
        "import torch.nn.functional as F\n",
        "import torch.nn as nn\n",
        "from torch_geometric.nn import GCNConv\n",
        "from torch_geometric.datasets import Planetoid\n",
        "from torch.optim import Adam\n",
        "from collections import defaultdict\n",
        "import matplotlib.pyplot as plt\n",
        "import random\n",
        "from sklearn.metrics import f1_score, accuracy_score, precision_score, recall_score, roc_auc_score, average_precision_score\n",
        "from tqdm import tqdm\n",
        "\n",
        "CUSTOM_EPOCHS = 200\n",
        "device = torch.device('cuda' if torch.cuda.is_available() else 'cpu')\n",
        "print(device)\n",
        "\n",
        "# Załaduj dane Cora z Planetoid\n",
        "dataset = Planetoid(root='/tmp/Cora', name='Cora')\n",
        "num_classes = dataset.num_classes\n",
        "data = dataset[0].to(device)\n",
        "\n",
        "# Podział na zbiór treningowy i testowy\n",
        "def split_edges_and_nodes(data, test_ratio=0.2):\n",
        "    edge_index = data.edge_index\n",
        "    num_edges = edge_index.size(1)\n",
        "    num_nodes = data.num_nodes\n",
        "\n",
        "    # Wygenerowanie losowej permutacji indeksów\n",
        "    perm_edges = torch.randperm(num_edges)\n",
        "    perm_nodes = torch.randperm(num_nodes)\n",
        "    test_size_edges = int(num_edges * test_ratio)\n",
        "    test_size_nodes = int(num_nodes * test_ratio)\n",
        "\n",
        "    # Podział indeksów na zbiór testowy i treningowy\n",
        "    test_edge_index = edge_index[:, perm_edges[:test_size_edges]]\n",
        "    train_edge_index = edge_index[:, perm_edges[test_size_edges:]]\n",
        "    train_mask = torch.zeros(num_nodes, dtype=torch.bool)\n",
        "    test_mask = torch.zeros(num_nodes, dtype=torch.bool)\n",
        "    train_mask[perm_nodes[test_size_nodes:]] = True\n",
        "    test_mask[perm_nodes[:test_size_nodes]] = True\n",
        "\n",
        "    train_data = Data(x=data.x, edge_index=train_edge_index, y=data.y, train_mask=train_mask, test_mask=test_mask)\n",
        "    test_data = Data(x=data.x, edge_index=test_edge_index, y=data.y, train_mask=train_mask, test_mask=test_mask)\n",
        "\n",
        "    return train_data, test_data\n",
        "\n",
        "train_data, test_data = split_edges_and_nodes(data, test_ratio=0.2)\n",
        "\n",
        "# Implementacja Autoenkodera Grafowego S2GAE z klasyfikatorem węzłów\n",
        "class S2GAE(torch.nn.Module):\n",
        "    def __init__(self, in_channels, out_channels, num_classes=num_classes):\n",
        "        super(S2GAE, self).__init__()\n",
        "\n",
        "        # Enkoder z dwoma warstwami GCN\n",
        "        self.conv1 = GCNConv(in_channels, 2 * out_channels)\n",
        "        self.conv2 = GCNConv(2 * out_channels, out_channels)\n",
        "\n",
        "        # Dekoder z korelacją krzyżową do rekonstrukcji krawędzi\n",
        "        self.cross_correlation_decoder = nn.Sequential(\n",
        "            nn.Linear(out_channels * 3, out_channels * 2),  # Update input size to match actual concatenated size\n",
        "            nn.ReLU(),\n",
        "            nn.Linear(out_channels * 2, 1)  # Output size of 1 to predict edge existence\n",
        "        )\n",
        "\n",
        "        # Dekoder do klasyfikacji węzłów\n",
        "        self.node_classifier = nn.Linear(out_channels, num_classes)  # Assuming num_classes classes for node classification\n",
        "\n",
        "    def encode(self, x, edge_index):\n",
        "        x = F.relu(self.conv1(x, edge_index))\n",
        "        return self.conv2(x, edge_index)\n",
        "\n",
        "    def decode(self, z, edge_index):\n",
        "        row, col = edge_index\n",
        "        # Combine node embeddings from both endpoints of edges\n",
        "        h_e = torch.cat([z[row] * z[col], z[row], z[col]], dim=1)  # Ensure concatenation results in the expected size\n",
        "        return self.cross_correlation_decoder(h_e).squeeze()\n",
        "\n",
        "    def classify(self, z):\n",
        "        return self.node_classifier(z)\n",
        "\n",
        "    def forward(self, x, edge_index):\n",
        "        z = self.encode(x, edge_index)\n",
        "        node_classification = self.classify(z)\n",
        "        return node_classification\n",
        "\n",
        "# Nowe funkcje maskowania\n",
        "\n",
        "# Maskowanie krawędzi\n",
        "def mask_edges(data, mask_ratio):\n",
        "    edge_index = data.edge_index.t().tolist()\n",
        "    num_edges = len(edge_index)\n",
        "    num_mask = int(num_edges * mask_ratio)\n",
        "\n",
        "    mask_indices = random.sample(range(num_edges), num_mask)\n",
        "    mask_indices = torch.tensor(mask_indices, dtype=torch.long)\n",
        "\n",
        "    masked_edges = [edge for i, edge in enumerate(edge_index) if i not in mask_indices]\n",
        "    masked_edge_index = torch.tensor(masked_edges, dtype=torch.long).t().contiguous().to(device)\n",
        "\n",
        "    data.edge_index = masked_edge_index\n",
        "    return data\n",
        "\n",
        "# Maskowanie sąsiedztwa\n",
        "def mask_neighborhood(data, mask_ratio):\n",
        "    edge_index = data.edge_index.cpu().numpy()\n",
        "    num_nodes = data.num_nodes\n",
        "    num_mask = int(num_nodes * mask_ratio)\n",
        "    masked_edges = edge_index.T.tolist()\n",
        "\n",
        "    for _ in range(num_mask):\n",
        "        node = random.randint(0, num_nodes - 1)\n",
        "        edges_to_remove = [edge for edge in masked_edges if edge[0] == node or edge[1] == node]\n",
        "        for edge in edges_to_remove:\n",
        "            if edge in masked_edges:\n",
        "                masked_edges.remove(edge)\n",
        "\n",
        "    masked_edge_index = torch.tensor(masked_edges, dtype=torch.long).t().contiguous().to(device)\n",
        "    data.edge_index = masked_edge_index\n",
        "    return data\n",
        "\n",
        "# Maskowanie cech\n",
        "def mask_attributes(data, mask_ratio):\n",
        "    num_nodes = data.num_nodes\n",
        "    num_mask = int(num_nodes * mask_ratio)\n",
        "    mask_indices = random.sample(range(num_nodes), num_mask)\n",
        "    mask_indices = torch.tensor(mask_indices, dtype=torch.long).to(device)\n",
        "    data.x[mask_indices] = 0  # Zero out the features of selected nodes\n",
        "    return data\n",
        "\n",
        "# Funkcja obliczająca różne miary dla predykcji\n",
        "def calculate_metrics(pred, true):\n",
        "    pred_binary = (pred > 0.5).float()\n",
        "    true_binary = (true > 0.5).float()\n",
        "\n",
        "    mse = F.mse_loss(pred, true).item()\n",
        "    f1 = f1_score(true_binary.cpu().numpy(), pred_binary.cpu().numpy(), average='macro')\n",
        "    accuracy = accuracy_score(true_binary.cpu().numpy(), pred_binary.cpu().numpy())\n",
        "    precision = precision_score(true_binary.cpu().numpy(), pred_binary.cpu().numpy(), average='macro')\n",
        "    recall = recall_score(true_binary.cpu().numpy(), pred_binary.cpu().numpy(), average='macro')\n",
        "\n",
        "    # Additional metrics for continuous predictions\n",
        "    roc_auc = roc_auc_score(true_binary.cpu().numpy(), pred.cpu().numpy(), average='macro')\n",
        "    avg_precision = average_precision_score(true_binary.cpu().numpy(), pred.cpu().numpy(), average='macro')\n",
        "\n",
        "    return {\n",
        "        'MSE': mse,\n",
        "        'F1 Score': f1,\n",
        "        'Accuracy': accuracy,\n",
        "        'Precision': precision,\n",
        "        'Recall': recall,\n",
        "        'ROC AUC': roc_auc,\n",
        "        'Average Precision': avg_precision\n",
        "    }\n",
        "\n",
        "## Trening modelu i ocena klasyfikacji węzłów\n",
        "def train_and_evaluate_node_classification(in_channels, out_channels, train_data, test_data, mask_ratios, epochs=100):\n",
        "    results = defaultdict(lambda: defaultdict(list))\n",
        "    models = defaultdict(dict)\n",
        "    criterion = torch.nn.CrossEntropyLoss()  # Loss function for node classification\n",
        "\n",
        "    # Nowe strategie maskowania\n",
        "    mask_strategies = {\n",
        "        'mask_edges': mask_edges,\n",
        "        'mask_neighborhood': mask_neighborhood,\n",
        "        'mask_attributes': mask_attributes,\n",
        "    }\n",
        "\n",
        "    for strategy_name, strategy_func in mask_strategies.items():\n",
        "        for ratio in mask_ratios:\n",
        "            print(f'Training with mask strategy: {strategy_name}, mask ratio: {ratio}')\n",
        "\n",
        "            # Inicjalizacja nowego modelu dla każdej strategii maskowania i mask_ratio\n",
        "            model = S2GAE(in_channels=in_channels, out_channels=out_channels).to(device)\n",
        "            optimizer = Adam(model.parameters(), lr=0.01)\n",
        "\n",
        "            for epoch in tqdm(range(epochs), desc=f'Training {strategy_name} - Ratio {ratio}'):\n",
        "                model.train()\n",
        "                optimizer.zero_grad()\n",
        "\n",
        "                # Maskowanie danych\n",
        "                masked_train_data = strategy_func(train_data.clone(), ratio).to(device) if ratio > 0 else train_data.to(device)\n",
        "\n",
        "                z = model.encode(masked_train_data.x.to(device), masked_train_data.edge_index.to(device))  # Przenieś tensory na GPU\n",
        "                node_classification = model.classify(z)\n",
        "\n",
        "                loss = criterion(node_classification[masked_train_data.train_mask], masked_train_data.y[masked_train_data.train_mask])\n",
        "\n",
        "                loss.backward()\n",
        "                optimizer.step()\n",
        "\n",
        "                results[strategy_name][ratio].append(loss.item())\n",
        "                if epoch % 10 == 0:\n",
        "                    print(f'Epoch {epoch}, Loss: {loss.item()}')\n",
        "\n",
        "            models[strategy_name][ratio] = model\n",
        "\n",
        "    return results, models\n",
        "\n",
        "# Funkcja do oceny klasyfikacji węzłów na zbiorze testowym\n",
        "def evaluate_node_classification(model, data, strategy, ratio):\n",
        "    model.eval()\n",
        "    with torch.no_grad():\n",
        "        z = model.encode(data.x, data.edge_index)\n",
        "        node_classification = model.classify(z)\n",
        "        pred = node_classification[data.test_mask].max(1)[1]\n",
        "        correct = pred.eq(data.y[data.test_mask]).sum().item()\n",
        "        accuracy = correct / data.test_mask.sum().item()\n",
        "\n",
        "        print(f'Predicting for strategy {strategy}, mask ratio: {ratio}')\n",
        "\n",
        "        # Calculate additional metrics\n",
        "        metrics = calculate_metrics(pred.float(), data.y[data.test_mask].float())\n",
        "        print(f\"Metrics for strategy {strategy}, mask ratio {ratio}: {metrics}\")\n",
        "\n",
        "        return accuracy, metrics\n",
        "\n",
        "# Wizualizacja wyników treningu\n",
        "def plot_results(results):\n",
        "    for strategy, strategy_losses in results.items():\n",
        "        plt.figure(figsize=(10, 6))\n",
        "        for ratio, losses in strategy_losses.items():\n",
        "            plt.plot(losses, label=f'Mask Ratio {ratio}')\n",
        "        plt.xlabel('Epoch')\n",
        "        plt.ylabel('Loss')\n",
        "        plt.title(f'S2GAE: Effect of Masking Ratios on Loss for {strategy.capitalize()} Strategy')\n",
        "        plt.legend()\n",
        "        plt.grid(True)\n",
        "        plt.show()\n",
        "\n",
        "# Trening i ocena modelu\n",
        "mask_ratios = [0.0, 0.1, 0.3, 0.5, 0.7, 0.9]\n",
        "results, models = train_and_evaluate_node_classification(\n",
        "    in_channels=train_data.num_features,\n",
        "    out_channels=2,\n",
        "    train_data=train_data,\n",
        "    test_data=test_data,\n",
        "    mask_ratios=mask_ratios,\n",
        "    epochs=CUSTOM_EPOCHS\n",
        ")\n",
        "\n",
        "# Wizualizacja wyników treningu\n",
        "plot_results(results)\n",
        "\n",
        "# Ewaluacja na zbiorze testowym dla wszystkich strategii\n",
        "classification_accuracies = {}\n",
        "for strategy in models:\n",
        "    classification_accuracies[strategy] = {}\n",
        "    for ratio, model in models[strategy].items():\n",
        "        accuracy, metrics = evaluate_node_classification(model, test_data, strategy, ratio)\n",
        "        classification_accuracies[strategy][ratio] = accuracy\n",
        "\n",
        "# Wizualizacja dokładności klasyfikacji węzłów dla każdej strategii maskowania\n",
        "for strategy in classification_accuracies.keys():\n",
        "    accuracies = classification_accuracies[strategy]\n",
        "    plt.figure(figsize=(10, 6))\n",
        "    index = np.arange(len(accuracies))\n",
        "    bar_width = 0.35\n",
        "\n",
        "    plt.bar(index, list(accuracies.values()), width=bar_width, color='skyblue', label='Classification Accuracy')\n",
        "    plt.xlabel('Mask Ratio')\n",
        "    plt.ylabel('Accuracy')\n",
        "    plt.title(f'S2GAE: Node Classification Accuracy for {strategy.capitalize()} Strategy')\n",
        "    plt.xticks(index, [str(ratio) for ratio in accuracies.keys()])\n",
        "    plt.legend()\n",
        "    plt.grid(True)\n",
        "    plt.show()"
      ],
      "metadata": {
        "id": "31cvjjbo2nqN"
      },
      "execution_count": null,
      "outputs": []
    }
  ]
}